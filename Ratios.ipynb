{
 "cells": [
  {
   "cell_type": "code",
   "execution_count": 1,
   "metadata": {},
   "outputs": [],
   "source": [
    "import numpy as np\n",
    "import pandas as pd\n",
    "import csv"
   ]
  },
  {
   "cell_type": "markdown",
   "metadata": {},
   "source": [
    "## Import of datas"
   ]
  },
  {
   "cell_type": "code",
   "execution_count": 2,
   "metadata": {},
   "outputs": [],
   "source": [
    "#clean dataset\n",
    "data = pd.read_csv('clean_dataset.csv')"
   ]
  },
  {
   "cell_type": "code",
   "execution_count": 3,
   "metadata": {},
   "outputs": [
    {
     "data": {
      "text/html": [
       "<div>\n",
       "<style scoped>\n",
       "    .dataframe tbody tr th:only-of-type {\n",
       "        vertical-align: middle;\n",
       "    }\n",
       "\n",
       "    .dataframe tbody tr th {\n",
       "        vertical-align: top;\n",
       "    }\n",
       "\n",
       "    .dataframe thead th {\n",
       "        text-align: right;\n",
       "    }\n",
       "</style>\n",
       "<table border=\"1\" class=\"dataframe\">\n",
       "  <thead>\n",
       "    <tr style=\"text-align: right;\">\n",
       "      <th></th>\n",
       "      <th>Unnamed: 0</th>\n",
       "      <th>ETER ID Year</th>\n",
       "      <th>ETER ID</th>\n",
       "      <th>National identifier</th>\n",
       "      <th>English Institution Name</th>\n",
       "      <th>Country Code</th>\n",
       "      <th>Region of establishment (NUTS 2)</th>\n",
       "      <th>Students enrolled at ISCED 8 - men</th>\n",
       "      <th>Students enrolled at ISCED 8 - women</th>\n",
       "      <th>Students enrolled ISCED 8 - gender unclassified</th>\n",
       "      <th>...</th>\n",
       "      <th>Personnel expenditure (EURO)</th>\n",
       "      <th>Non-personnel expenditure (EURO)</th>\n",
       "      <th>Expenditure unclassified (EURO)</th>\n",
       "      <th>Total Current expenditure (EURO)</th>\n",
       "      <th>Capital expenditure (EURO)</th>\n",
       "      <th>Basic government allocation (EURO)</th>\n",
       "      <th>Total Current revenues (EURO)</th>\n",
       "      <th>Research active institution</th>\n",
       "      <th>Included in official R&amp;D statistics</th>\n",
       "      <th>R&amp;D Expenditure (EURO)</th>\n",
       "    </tr>\n",
       "  </thead>\n",
       "  <tbody>\n",
       "    <tr>\n",
       "      <th>0</th>\n",
       "      <td>1178</td>\n",
       "      <td>ES0001.2016</td>\n",
       "      <td>ES0001</td>\n",
       "      <td>None</td>\n",
       "      <td>University of Almeria</td>\n",
       "      <td>ES</td>\n",
       "      <td>ES61</td>\n",
       "      <td>374</td>\n",
       "      <td>440</td>\n",
       "      <td>0</td>\n",
       "      <td>...</td>\n",
       "      <td>None</td>\n",
       "      <td>None</td>\n",
       "      <td>None</td>\n",
       "      <td>None</td>\n",
       "      <td>None</td>\n",
       "      <td>None</td>\n",
       "      <td>None</td>\n",
       "      <td>1</td>\n",
       "      <td>1</td>\n",
       "      <td>None</td>\n",
       "    </tr>\n",
       "    <tr>\n",
       "      <th>1</th>\n",
       "      <td>1179</td>\n",
       "      <td>ES0002.2016</td>\n",
       "      <td>ES0002</td>\n",
       "      <td>None</td>\n",
       "      <td>University of CÃ¡diz</td>\n",
       "      <td>ES</td>\n",
       "      <td>ES61</td>\n",
       "      <td>468</td>\n",
       "      <td>403</td>\n",
       "      <td>0</td>\n",
       "      <td>...</td>\n",
       "      <td>None</td>\n",
       "      <td>None</td>\n",
       "      <td>None</td>\n",
       "      <td>None</td>\n",
       "      <td>None</td>\n",
       "      <td>None</td>\n",
       "      <td>None</td>\n",
       "      <td>1</td>\n",
       "      <td>1</td>\n",
       "      <td>None</td>\n",
       "    </tr>\n",
       "    <tr>\n",
       "      <th>2</th>\n",
       "      <td>1180</td>\n",
       "      <td>ES0003.2016</td>\n",
       "      <td>ES0003</td>\n",
       "      <td>None</td>\n",
       "      <td>University of Cordoba</td>\n",
       "      <td>ES</td>\n",
       "      <td>ES61</td>\n",
       "      <td>615</td>\n",
       "      <td>640</td>\n",
       "      <td>0</td>\n",
       "      <td>...</td>\n",
       "      <td>None</td>\n",
       "      <td>None</td>\n",
       "      <td>None</td>\n",
       "      <td>None</td>\n",
       "      <td>None</td>\n",
       "      <td>None</td>\n",
       "      <td>None</td>\n",
       "      <td>1</td>\n",
       "      <td>1</td>\n",
       "      <td>None</td>\n",
       "    </tr>\n",
       "    <tr>\n",
       "      <th>3</th>\n",
       "      <td>1181</td>\n",
       "      <td>ES0004.2016</td>\n",
       "      <td>ES0004</td>\n",
       "      <td>None</td>\n",
       "      <td>University of Granada</td>\n",
       "      <td>ES</td>\n",
       "      <td>ES61</td>\n",
       "      <td>1462</td>\n",
       "      <td>1267</td>\n",
       "      <td>0</td>\n",
       "      <td>...</td>\n",
       "      <td>None</td>\n",
       "      <td>None</td>\n",
       "      <td>None</td>\n",
       "      <td>None</td>\n",
       "      <td>None</td>\n",
       "      <td>None</td>\n",
       "      <td>None</td>\n",
       "      <td>1</td>\n",
       "      <td>1</td>\n",
       "      <td>None</td>\n",
       "    </tr>\n",
       "    <tr>\n",
       "      <th>4</th>\n",
       "      <td>1182</td>\n",
       "      <td>ES0005.2016</td>\n",
       "      <td>ES0005</td>\n",
       "      <td>None</td>\n",
       "      <td>University of Huelva</td>\n",
       "      <td>ES</td>\n",
       "      <td>ES61</td>\n",
       "      <td>240</td>\n",
       "      <td>180</td>\n",
       "      <td>0</td>\n",
       "      <td>...</td>\n",
       "      <td>None</td>\n",
       "      <td>None</td>\n",
       "      <td>None</td>\n",
       "      <td>None</td>\n",
       "      <td>None</td>\n",
       "      <td>None</td>\n",
       "      <td>None</td>\n",
       "      <td>1</td>\n",
       "      <td>1</td>\n",
       "      <td>None</td>\n",
       "    </tr>\n",
       "  </tbody>\n",
       "</table>\n",
       "<p>5 rows × 38 columns</p>\n",
       "</div>"
      ],
      "text/plain": [
       "   Unnamed: 0 ETER ID Year ETER ID National identifier  \\\n",
       "0        1178  ES0001.2016  ES0001                None   \n",
       "1        1179  ES0002.2016  ES0002                None   \n",
       "2        1180  ES0003.2016  ES0003                None   \n",
       "3        1181  ES0004.2016  ES0004                None   \n",
       "4        1182  ES0005.2016  ES0005                None   \n",
       "\n",
       "  English Institution Name Country Code Region of establishment (NUTS 2)  \\\n",
       "0    University of Almeria           ES                             ES61   \n",
       "1     University of CÃ¡diz           ES                             ES61   \n",
       "2    University of Cordoba           ES                             ES61   \n",
       "3    University of Granada           ES                             ES61   \n",
       "4     University of Huelva           ES                             ES61   \n",
       "\n",
       "  Students enrolled at ISCED 8 - men Students enrolled at ISCED 8 - women  \\\n",
       "0                                374                                  440   \n",
       "1                                468                                  403   \n",
       "2                                615                                  640   \n",
       "3                               1462                                 1267   \n",
       "4                                240                                  180   \n",
       "\n",
       "  Students enrolled ISCED 8 - gender unclassified  ...  \\\n",
       "0                                               0  ...   \n",
       "1                                               0  ...   \n",
       "2                                               0  ...   \n",
       "3                                               0  ...   \n",
       "4                                               0  ...   \n",
       "\n",
       "  Personnel expenditure (EURO) Non-personnel expenditure (EURO)  \\\n",
       "0                         None                             None   \n",
       "1                         None                             None   \n",
       "2                         None                             None   \n",
       "3                         None                             None   \n",
       "4                         None                             None   \n",
       "\n",
       "  Expenditure unclassified (EURO) Total Current expenditure (EURO)  \\\n",
       "0                            None                             None   \n",
       "1                            None                             None   \n",
       "2                            None                             None   \n",
       "3                            None                             None   \n",
       "4                            None                             None   \n",
       "\n",
       "  Capital expenditure (EURO) Basic government allocation (EURO)  \\\n",
       "0                       None                               None   \n",
       "1                       None                               None   \n",
       "2                       None                               None   \n",
       "3                       None                               None   \n",
       "4                       None                               None   \n",
       "\n",
       "  Total Current revenues (EURO) Research active institution  \\\n",
       "0                          None                           1   \n",
       "1                          None                           1   \n",
       "2                          None                           1   \n",
       "3                          None                           1   \n",
       "4                          None                           1   \n",
       "\n",
       "  Included in official R&D statistics R&D Expenditure (EURO)  \n",
       "0                                   1                   None  \n",
       "1                                   1                   None  \n",
       "2                                   1                   None  \n",
       "3                                   1                   None  \n",
       "4                                   1                   None  \n",
       "\n",
       "[5 rows x 38 columns]"
      ]
     },
     "execution_count": 3,
     "metadata": {},
     "output_type": "execute_result"
    }
   ],
   "source": [
    "data.head()"
   ]
  },
  {
   "cell_type": "code",
   "execution_count": 4,
   "metadata": {},
   "outputs": [
    {
     "data": {
      "text/plain": [
       "(1929, 38)"
      ]
     },
     "execution_count": 4,
     "metadata": {},
     "output_type": "execute_result"
    }
   ],
   "source": [
    "data.shape"
   ]
  },
  {
   "cell_type": "markdown",
   "metadata": {},
   "source": [
    "## Calcul of R4 : Personnel expenditure (EURO) / Total Current expenditure (EURO"
   ]
  },
  {
   "cell_type": "code",
   "execution_count": 5,
   "metadata": {},
   "outputs": [],
   "source": [
    "perso_exp = data['Personnel expenditure (EURO)']\n",
    "total_exp = data['Total Current expenditure (EURO)']"
   ]
  },
  {
   "cell_type": "code",
   "execution_count": 6,
   "metadata": {},
   "outputs": [
    {
     "name": "stderr",
     "output_type": "stream",
     "text": [
      "/Users/robertapassarelli/anaconda3/lib/python3.7/site-packages/pandas/core/indexing.py:205: SettingWithCopyWarning: \n",
      "A value is trying to be set on a copy of a slice from a DataFrame\n",
      "\n",
      "See the caveats in the documentation: http://pandas.pydata.org/pandas-docs/stable/user_guide/indexing.html#returning-a-view-versus-a-copy\n",
      "  self._setitem_with_indexer(indexer, value)\n"
     ]
    }
   ],
   "source": [
    "data['R4']=np.zeros((len(data),1))\n",
    "\n",
    "for i in range(perso_exp.shape[0]):\n",
    "    if  perso_exp.iloc[i]=='None' or total_exp.iloc[i]=='None':\n",
    "        data['R4'].iloc[i]= np.nan\n",
    "    else :\n",
    "        num=pd.to_numeric(perso_exp.iloc[i])\n",
    "        denom=pd.to_numeric(total_exp.iloc[i])\n",
    "        data['R4'].iloc[i]= num/denom"
   ]
  },
  {
   "cell_type": "code",
   "execution_count": 7,
   "metadata": {},
   "outputs": [],
   "source": [
    "# Sort ratios (All HEIs) and select the level that identify the top and bottom 5% of ratio values\n",
    "data = data.sort_values(by = 'R4')\n",
    "Xlratio = data[\"R4\"].quantile(q = 0.05)\n",
    "Xuratio = data[\"R4\"].quantile(q = 0.95)"
   ]
  },
  {
   "cell_type": "code",
   "execution_count": 8,
   "metadata": {},
   "outputs": [
    {
     "name": "stdout",
     "output_type": "stream",
     "text": [
      "0.5207530493318115\n",
      "0.7925022615870028\n"
     ]
    }
   ],
   "source": [
    "print(Xlratio)\n",
    "print(Xuratio)"
   ]
  },
  {
   "cell_type": "code",
   "execution_count": null,
   "metadata": {},
   "outputs": [],
   "source": [
    "# or 2%\n",
    "# Xlratio = data[\"R4\"].quantile(q = 0.02)\n",
    "# Xuratio = data[\"R4\"].quantile(q = 0.98)\n",
    "\n",
    "# or 10 %\n",
    "# Xlratio = data[\"R4\"].quantile(q = 0.1)\n",
    "# Xuratio = data[\"R4\"].quantile(q = 0.9)"
   ]
  },
  {
   "cell_type": "code",
   "execution_count": 9,
   "metadata": {},
   "outputs": [],
   "source": [
    "# Define sub-distribution for the analysis by country and for each sub-distribution sort ratios ascendent\n",
    "\n",
    "data_IT = data[data['Country Code'] == 'IT']\n",
    "data_IT.shape\n",
    "data_IT = data_IT.sort_values(by = 'R4')\n",
    "\n",
    "data_FI = data[data['Country Code'] == 'FI']\n",
    "data_FI.shape\n",
    "data_FI = data_IT.sort_values(by = 'R4')\n",
    "\n",
    "data_NO = data[data['Country Code'] == 'NO']\n",
    "data_NO.shape\n",
    "data_NO = data_IT.sort_values(by = 'R4')\n",
    "\n",
    "data_SE = data[data['Country Code'] == 'SE']\n",
    "data_SE.shape\n",
    "data_SE = data_IT.sort_values(by = 'R4')\n",
    "\n",
    "data_PT = data[data['Country Code'] == 'PT']\n",
    "data_PT.shape\n",
    "data_PT = data_IT.sort_values(by = 'R4')\n",
    "\n",
    "data_ES = data[data['Country Code'] == 'ES']\n",
    "data_ES.shape\n",
    "data_ES = data_IT.sort_values(by = 'R4')"
   ]
  },
  {
   "cell_type": "code",
   "execution_count": 10,
   "metadata": {},
   "outputs": [],
   "source": [
    "# For each sub-distribution, we identify the cases where the ratio are below our Xlratio and Xuratio\n",
    "def lower(data_country):\n",
    "    data_country['R4_lower']=np.zeros((len(data_country),1))\n",
    "    for i in range(len(data_country['R4'])):\n",
    "        if data_country['R4'].iloc[i] < Xlratio:\n",
    "            data_country['R4_lower'].iloc[i] = 1\n",
    "        else:\n",
    "            data_country['R4_lower'].iloc[i] = 0\n",
    "    return(data_country)\n",
    "\n",
    "def upper(data_country):\n",
    "    data_country['R4_upper']=np.zeros((len(data_country),1))\n",
    "    for i in range(len(data_country['R4'])):\n",
    "        if data_country['R4'].iloc[i] > Xuratio:\n",
    "            data_country['R4_upper'].iloc[i] = 1\n",
    "        else:\n",
    "            data_country['R4_upper'].iloc[i] = 0\n",
    "    return(data_country)\n",
    "            \n",
    "def alarm(data_country):\n",
    "    data_country['alarm']=np.zeros((len(data_country),1))\n",
    "    for i in range(len(data_country['R4_lower'])):\n",
    "            if data_country['R4_lower'].iloc[i] == 1 or data_country['R4_upper'].iloc[i] == 1:\n",
    "                data_country['alarm'].iloc[i] = True\n",
    "            else:\n",
    "                data_country['alarm'].iloc[i]= False\n",
    "    return(data_country)\n",
    "\n",
    "data_IT = lower(data_IT)\n",
    "data_IT =  upper(data_IT)\n",
    "data_IT = alarm(data_IT) \n",
    "\n",
    "data_FI = lower(data_FI)\n",
    "data_FI = upper(data_FI)\n",
    "data_FI = alarm(data_FI) \n",
    "\n",
    "data_NO = lower(data_NO)\n",
    "data_NO = upper(data_NO)\n",
    "data_NO = alarm(data_NO) \n",
    "\n",
    "data_SE = lower(data_SE)\n",
    "data_SE = upper(data_SE)\n",
    "data_SE = alarm(data_SE) \n",
    "\n",
    "data_PT = lower(data_PT)\n",
    "data_PT = upper(data_PT)\n",
    "data_PT = alarm(data_PT) \n",
    "\n",
    "data_ES = lower(data_ES)\n",
    "data_ES = upper(data_ES)\n",
    "data_ES = alarm(data_ES)"
   ]
  },
  {
   "cell_type": "code",
   "execution_count": 11,
   "metadata": {},
   "outputs": [
    {
     "name": "stdout",
     "output_type": "stream",
     "text": [
      "With our level which identify the top and bottom of ratio values, we have  16.17 % of alarm cases for R4\n"
     ]
    }
   ],
   "source": [
    "# We count the number of values which are true in order to identify the percentage of alarm cases\n",
    "nb_alarm_true_IT = data_IT['alarm'].value_counts()[1]\n",
    "nb_alarm_true_FI = data_FI['alarm'].value_counts()[1]\n",
    "nb_alarm_true_NO = data_NO['alarm'].value_counts()[1]\n",
    "nb_alarm_true_SE = data_SE['alarm'].value_counts()[1]\n",
    "nb_alarm_true_PT = data_PT['alarm'].value_counts()[1]\n",
    "nb_alarm_true_ES = data_ES['alarm'].value_counts()[1]\n",
    "\n",
    "nb_alarm_true = nb_alarm_true_IT + nb_alarm_true_FI + nb_alarm_true_NO + nb_alarm_true_SE + nb_alarm_true_PT + nb_alarm_true_ES\n",
    "R4_final = round((nb_alarm_true / len(data))*100,2)\n",
    "print('With our level which identify the top and bottom of ratio values, we have ', R4_final, '% of alarm cases for R4')"
   ]
  },
  {
   "cell_type": "markdown",
   "metadata": {},
   "source": [
    "## Calcul of R5 : Total Current expenditure (EURO) / Total Current revenues (EURO)\n"
   ]
  },
  {
   "cell_type": "code",
   "execution_count": 12,
   "metadata": {},
   "outputs": [],
   "source": [
    "total_exp = data['Total Current expenditure (EURO)']\n",
    "total_rev = data['Total Current revenues (EURO)']"
   ]
  },
  {
   "cell_type": "code",
   "execution_count": 13,
   "metadata": {},
   "outputs": [],
   "source": [
    "data['R5']=np.zeros((1929,1))\n",
    "\n",
    "for i in range(total_exp.shape[0]):\n",
    "    if  total_exp.iloc[i]=='None' or total_rev.iloc[i]=='None':\n",
    "        data['R5'].iloc[i]=0\n",
    "    else :\n",
    "        num=pd.to_numeric(total_exp.iloc[i])\n",
    "        denom=pd.to_numeric(total_rev.iloc[i])\n",
    "        data['R5'].iloc[i]= num/denom        "
   ]
  },
  {
   "cell_type": "code",
   "execution_count": 14,
   "metadata": {},
   "outputs": [],
   "source": [
    "# Sort ratios (All HEIs) and select the level that identify the top and bottom 5% of ratio values\n",
    "data = data.sort_values(by = 'R5')\n",
    "Xlratio = data[\"R5\"].quantile(q = 0.05)\n",
    "Xuratio = data[\"R5\"].quantile(q = 0.95)"
   ]
  },
  {
   "cell_type": "code",
   "execution_count": null,
   "metadata": {},
   "outputs": [],
   "source": [
    "# or 2%\n",
    "# Xlratio = data[\"R5\"].quantile(q = 0.02)\n",
    "# Xuratio = data[\"R5\"].quantile(q = 0.98)\n",
    "\n",
    "# or 10 %\n",
    "# Xlratio = data[\"R5\"].quantile(q = 0.1)\n",
    "# Xuratio = data[\"R5\"].quantile(q = 0.9)"
   ]
  },
  {
   "cell_type": "code",
   "execution_count": 15,
   "metadata": {},
   "outputs": [],
   "source": [
    "# Define sub-distribution for the analysis by country and for each sub-distribution sort ratios ascendent\n",
    "\n",
    "data_IT = data[data['Country Code'] == 'IT']\n",
    "data_IT.shape\n",
    "data_IT = data_IT.sort_values(by = 'R5')\n",
    "\n",
    "data_FI = data[data['Country Code'] == 'FI']\n",
    "data_FI.shape\n",
    "data_FI = data_IT.sort_values(by = 'R5')\n",
    "\n",
    "data_NO = data[data['Country Code'] == 'NO']\n",
    "data_NO.shape\n",
    "data_NO = data_IT.sort_values(by = 'R5')\n",
    "\n",
    "data_SE = data[data['Country Code'] == 'SE']\n",
    "data_SE.shape\n",
    "data_SE = data_IT.sort_values(by = 'R5')\n",
    "\n",
    "data_PT = data[data['Country Code'] == 'PT']\n",
    "data_PT.shape\n",
    "data_PT = data_IT.sort_values(by = 'R5')\n",
    "\n",
    "data_ES = data[data['Country Code'] == 'ES']\n",
    "data_ES.shape\n",
    "data_ES = data_IT.sort_values(by = 'R5')"
   ]
  },
  {
   "cell_type": "code",
   "execution_count": 16,
   "metadata": {},
   "outputs": [],
   "source": [
    "# For each sub-distribution, we identify the cases where the ratio are below our Xlratio and Xuratio\n",
    "\n",
    "def lower(data_country):\n",
    "    data_country['R5_lower']=np.zeros((len(data_country),1))\n",
    "    for i in range(len(data_country['R5'])):\n",
    "        if data_country['R5'].iloc[i] < Xlratio:\n",
    "            data_country['R5_lower'].iloc[i] = 1\n",
    "        else:\n",
    "            data_country['R5_lower'].iloc[i] = 0\n",
    "    return(data_country)\n",
    "\n",
    "def upper(data_country):\n",
    "    data_country['R5_upper']=np.zeros((len(data_country),1))\n",
    "    for i in range(len(data_country['R5'])):\n",
    "        if data_country['R5'].iloc[i] > Xuratio:\n",
    "            data_country['R5_upper'].iloc[i] = 1\n",
    "        else:\n",
    "            data_country['R5_upper'].iloc[i] = 0\n",
    "    return(data_country)\n",
    "            \n",
    "def alarm(data_country):\n",
    "    data_country['alarm']=np.zeros((len(data_country),1))\n",
    "    for i in range(len(data_country['R5_lower'])):\n",
    "            if data_country['R5_lower'].iloc[i] == 1 or data_country['R5_upper'].iloc[i] == 1:\n",
    "                data_country['alarm'].iloc[i] = True\n",
    "            else:\n",
    "                data_country['alarm'].iloc[i]= False\n",
    "    return(data_country)\n",
    "\n",
    "data_IT = lower(data_IT)\n",
    "data_IT =  upper(data_IT)\n",
    "data_IT = alarm(data_IT) \n",
    "\n",
    "data_FI = lower(data_FI)\n",
    "data_FI = upper(data_FI)\n",
    "data_FI = alarm(data_FI) \n",
    "\n",
    "data_NO = lower(data_NO)\n",
    "data_NO = upper(data_NO)\n",
    "data_NO = alarm(data_NO) \n",
    "\n",
    "data_SE = lower(data_SE)\n",
    "data_SE = upper(data_SE)\n",
    "data_SE = alarm(data_SE) \n",
    "\n",
    "data_PT = lower(data_PT)\n",
    "data_PT = upper(data_PT)\n",
    "data_PT = alarm(data_PT) \n",
    "\n",
    "data_ES = lower(data_ES)\n",
    "data_ES = upper(data_ES)\n",
    "data_ES = alarm(data_ES)"
   ]
  },
  {
   "cell_type": "code",
   "execution_count": 17,
   "metadata": {},
   "outputs": [
    {
     "name": "stdout",
     "output_type": "stream",
     "text": [
      "With our level which identify the top and bottom of ratio values, we have  11.82 % of alarm cases for R5\n"
     ]
    }
   ],
   "source": [
    "# We count the number of values which are true in order to identify the percentage of alarm cases\n",
    "\n",
    "nb_alarm_true_IT = data_IT['alarm'].value_counts()[1]\n",
    "nb_alarm_true_FI = data_FI['alarm'].value_counts()[1]\n",
    "nb_alarm_true_NO = data_NO['alarm'].value_counts()[1]\n",
    "nb_alarm_true_SE = data_SE['alarm'].value_counts()[1]\n",
    "nb_alarm_true_PT = data_PT['alarm'].value_counts()[1]\n",
    "nb_alarm_true_ES = data_ES['alarm'].value_counts()[1]\n",
    "\n",
    "nb_alarm_true = nb_alarm_true_IT + nb_alarm_true_FI + nb_alarm_true_NO + nb_alarm_true_SE + nb_alarm_true_PT + nb_alarm_true_ES\n",
    "\n",
    "R5_final = round((nb_alarm_true / len(data))*100,2)\n",
    "print('With our level which identify the top and bottom of ratio values, we have ', R5_final, '% of alarm cases for R5')"
   ]
  },
  {
   "cell_type": "markdown",
   "metadata": {},
   "source": [
    "## Calcul of R8 : Total graduates at ISCED 8 / Total students enrolled at ISCED 8"
   ]
  },
  {
   "cell_type": "code",
   "execution_count": 18,
   "metadata": {},
   "outputs": [],
   "source": [
    "total_grad8 = data['Total graduates at ISCED 8']\n",
    "total_enr = data['Total students enrolled at ISCED 8']"
   ]
  },
  {
   "cell_type": "code",
   "execution_count": 19,
   "metadata": {},
   "outputs": [
    {
     "name": "stderr",
     "output_type": "stream",
     "text": [
      "/Users/robertapassarelli/anaconda3/lib/python3.7/site-packages/ipykernel_launcher.py:9: RuntimeWarning: invalid value encountered in long_scalars\n",
      "  if __name__ == '__main__':\n",
      "/Users/robertapassarelli/anaconda3/lib/python3.7/site-packages/ipykernel_launcher.py:9: RuntimeWarning: divide by zero encountered in long_scalars\n",
      "  if __name__ == '__main__':\n"
     ]
    }
   ],
   "source": [
    "data['R8']=np.zeros((1929,1))\n",
    "\n",
    "for i in range(total_grad8.shape[0]):\n",
    "    if  total_grad8.iloc[i]=='None' or total_enr.iloc[i]=='None':\n",
    "        data['R8'].iloc[i]=0\n",
    "    else :\n",
    "        num=pd.to_numeric(total_grad8.iloc[i])\n",
    "        denom=pd.to_numeric(total_enr.iloc[i])\n",
    "        data['R8'].iloc[i]= num/denom"
   ]
  },
  {
   "cell_type": "code",
   "execution_count": 20,
   "metadata": {},
   "outputs": [],
   "source": [
    "# Sort ratios (All HEIs) and select the level that identify the top and bottom 5% of ratio values\n",
    "data = data.sort_values(by = 'R8')\n",
    "Xlratio = data[\"R8\"].quantile(q = 0.05)\n",
    "Xuratio = data[\"R8\"].quantile(q = 0.95)"
   ]
  },
  {
   "cell_type": "code",
   "execution_count": null,
   "metadata": {},
   "outputs": [],
   "source": [
    "#or 2%\n",
    "# Xlratio = data[\"R8\"].quantile(q = 0.02)\n",
    "# Xuratio = data[\"R8\"].quantile(q = 0.98)\n",
    "\n",
    "#or 10 %\n",
    "# Xlratio = data[\"R8\"].quantile(q = 0.1)\n",
    "# Xuratio = data[\"R8\"].quantile(q = 0.9)"
   ]
  },
  {
   "cell_type": "code",
   "execution_count": 21,
   "metadata": {},
   "outputs": [],
   "source": [
    "# Define sub-distribution for the analysis, i.e. by country and sort them\n",
    "\n",
    "data_IT = data[data['Country Code'] == 'IT']\n",
    "data_IT.shape\n",
    "data_IT = data_IT.sort_values(by = 'R8')\n",
    "\n",
    "data_FI = data[data['Country Code'] == 'FI']\n",
    "data_FI.shape\n",
    "data_FI = data_IT.sort_values(by = 'R8')\n",
    "\n",
    "data_NO = data[data['Country Code'] == 'NO']\n",
    "data_NO.shape\n",
    "data_NO = data_IT.sort_values(by = 'R8')\n",
    "\n",
    "data_SE = data[data['Country Code'] == 'SE']\n",
    "data_SE.shape\n",
    "data_SE = data_IT.sort_values(by = 'R8')\n",
    "\n",
    "data_PT = data[data['Country Code'] == 'PT']\n",
    "data_PT.shape\n",
    "data_PT = data_IT.sort_values(by = 'R8')\n",
    "\n",
    "data_ES = data[data['Country Code'] == 'ES']\n",
    "data_ES.shape\n",
    "data_ES = data_IT.sort_values(by = 'R8')"
   ]
  },
  {
   "cell_type": "code",
   "execution_count": 22,
   "metadata": {},
   "outputs": [],
   "source": [
    "# For each sub-distribution, we identify the cases where the ratio are below our Xlratio and Xuratio\n",
    "\n",
    "def lower(data_country):\n",
    "    data_country['R8_lower']=np.zeros((len(data_country),1))\n",
    "    for i in range(len(data_country['R5'])):\n",
    "        if data_country['R8'].iloc[i] < Xlratio:\n",
    "            data_country['R8_lower'].iloc[i] = 1\n",
    "        else:\n",
    "            data_country['R8_lower'].iloc[i] = 0\n",
    "    return(data_country)\n",
    "\n",
    "def upper(data_country):\n",
    "    data_country['R8_upper']=np.zeros((len(data_country),1))\n",
    "    for i in range(len(data_country['R8'])):\n",
    "        if data_country['R8'].iloc[i] > Xuratio:\n",
    "            data_country['R8_upper'].iloc[i] = 1\n",
    "        else:\n",
    "            data_country['R8_upper'].iloc[i] = 0\n",
    "    return(data_country)\n",
    "            \n",
    "def alarm(data_country):\n",
    "    data_country['alarm']=np.zeros((len(data_country),1))\n",
    "    for i in range(len(data_country['R8_lower'])):\n",
    "            if data_country['R8_lower'].iloc[i] == 1 or data_country['R8_upper'].iloc[i] == 1:\n",
    "                data_country['alarm'].iloc[i] = True\n",
    "            else:\n",
    "                data_country['alarm'].iloc[i]= False\n",
    "    return(data_country)\n",
    "\n",
    "data_IT = lower(data_IT)\n",
    "data_IT =  upper(data_IT)\n",
    "data_IT = alarm(data_IT) \n",
    "\n",
    "data_FI = lower(data_FI)\n",
    "data_FI = upper(data_FI)\n",
    "data_FI = alarm(data_FI) \n",
    "\n",
    "data_NO = lower(data_NO)\n",
    "data_NO = upper(data_NO)\n",
    "data_NO = alarm(data_NO) \n",
    "\n",
    "data_SE = lower(data_SE)\n",
    "data_SE = upper(data_SE)\n",
    "data_SE = alarm(data_SE) \n",
    "\n",
    "data_PT = lower(data_PT)\n",
    "data_PT = upper(data_PT)\n",
    "data_PT = alarm(data_PT) \n",
    "\n",
    "data_ES = lower(data_ES)\n",
    "data_ES = upper(data_ES)\n",
    "data_ES = alarm(data_ES)"
   ]
  },
  {
   "cell_type": "code",
   "execution_count": 23,
   "metadata": {},
   "outputs": [
    {
     "name": "stdout",
     "output_type": "stream",
     "text": [
      "With our level which identify the top and bottom of ratio values, we have  17.73 % of alarm cases for R8\n"
     ]
    }
   ],
   "source": [
    "nb_alarm_true_IT = data_IT['alarm'].value_counts()[1]\n",
    "nb_alarm_true_FI = data_FI['alarm'].value_counts()[1]\n",
    "nb_alarm_true_NO = data_NO['alarm'].value_counts()[1]\n",
    "nb_alarm_true_SE = data_SE['alarm'].value_counts()[1]\n",
    "nb_alarm_true_PT = data_PT['alarm'].value_counts()[1]\n",
    "nb_alarm_true_ES = data_ES['alarm'].value_counts()[1]\n",
    "\n",
    "nb_alarm_true = nb_alarm_true_IT + nb_alarm_true_FI + nb_alarm_true_NO + nb_alarm_true_SE + nb_alarm_true_PT + nb_alarm_true_ES\n",
    "\n",
    "R8_final = round((nb_alarm_true / len(data))*100,2)\n",
    "print('With our level which identify the top and bottom of ratio values, we have ', R8_final, '% of alarm cases for R8')"
   ]
  },
  {
   "cell_type": "code",
   "execution_count": null,
   "metadata": {},
   "outputs": [],
   "source": []
  }
 ],
 "metadata": {
  "celltoolbar": "Format de la Cellule Texte Brut",
  "kernelspec": {
   "display_name": "Python 3",
   "language": "python",
   "name": "python3"
  },
  "language_info": {
   "codemirror_mode": {
    "name": "ipython",
    "version": 3
   },
   "file_extension": ".py",
   "mimetype": "text/x-python",
   "name": "python",
   "nbconvert_exporter": "python",
   "pygments_lexer": "ipython3",
   "version": "3.7.1"
  }
 },
 "nbformat": 4,
 "nbformat_minor": 4
}
