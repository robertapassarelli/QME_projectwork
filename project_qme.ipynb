{
  "nbformat": 4,
  "nbformat_minor": 0,
  "metadata": {
    "colab": {
      "name": "project-qme.ipynb",
      "provenance": [],
      "collapsed_sections": [],
      "include_colab_link": true
    },
    "kernelspec": {
      "name": "python3",
      "display_name": "Python 3"
    }
  },
  "cells": [
    {
      "cell_type": "markdown",
      "metadata": {
        "id": "view-in-github",
        "colab_type": "text"
      },
      "source": [
        "<a href=\"https://colab.research.google.com/github/robertapassarelli/QME_projectwork/blob/master/project_qme.ipynb\" target=\"_parent\"><img src=\"https://colab.research.google.com/assets/colab-badge.svg\" alt=\"Open In Colab\"/></a>"
      ]
    },
    {
      "cell_type": "code",
      "metadata": {
        "id": "0OYMhFt4SMPR",
        "colab_type": "code",
        "colab": {}
      },
      "source": [
        "# Group H \n",
        "# Project work - QME "
      ],
      "execution_count": 0,
      "outputs": []
    },
    {
      "cell_type": "code",
      "metadata": {
        "id": "kDv_BTLTUwBm",
        "colab_type": "code",
        "colab": {}
      },
      "source": [
        "import pandas as pd \n",
        "import numpy as np\n",
        "import io \n",
        "from collections import defaultdict\n",
        "from collections import Counter\n",
        "from google.colab import files # to save and read the csv file \n",
        "import matplotlib.pyplot as plt"
      ],
      "execution_count": 0,
      "outputs": []
    },
    {
      "cell_type": "code",
      "metadata": {
        "id": "VLioOeWPaWgQ",
        "colab_type": "code",
        "outputId": "be108e93-087e-4a92-f369-53b6b856b849",
        "colab": {
          "resources": {
            "http://localhost:8080/nbextensions/google.colab/files.js": {
              "data": "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",
              "ok": true,
              "headers": [
                [
                  "content-type",
                  "application/javascript"
                ]
              ],
              "status": 200,
              "status_text": ""
            }
          },
          "base_uri": "https://localhost:8080/",
          "height": 380
        }
      },
      "source": [
        "uploaded = files.upload()\n",
        "data = pd.read_csv(io.BytesIO(uploaded['eter_data.csv']), sep=\";\", header = 0, encoding='latin-1')\n",
        "data.head()"
      ],
      "execution_count": 3,
      "outputs": [
        {
          "output_type": "display_data",
          "data": {
            "text/html": [
              "\n",
              "     <input type=\"file\" id=\"files-aee9f318-fb13-4b8c-8c06-9fc37a2676be\" name=\"files[]\" multiple disabled />\n",
              "     <output id=\"result-aee9f318-fb13-4b8c-8c06-9fc37a2676be\">\n",
              "      Upload widget is only available when the cell has been executed in the\n",
              "      current browser session. Please rerun this cell to enable.\n",
              "      </output>\n",
              "      <script src=\"/nbextensions/google.colab/files.js\"></script> "
            ],
            "text/plain": [
              "<IPython.core.display.HTML object>"
            ]
          },
          "metadata": {
            "tags": []
          }
        },
        {
          "output_type": "stream",
          "text": [
            "Saving eter_data.csv to eter_data.csv\n"
          ],
          "name": "stdout"
        },
        {
          "output_type": "execute_result",
          "data": {
            "text/html": [
              "<div>\n",
              "<style scoped>\n",
              "    .dataframe tbody tr th:only-of-type {\n",
              "        vertical-align: middle;\n",
              "    }\n",
              "\n",
              "    .dataframe tbody tr th {\n",
              "        vertical-align: top;\n",
              "    }\n",
              "\n",
              "    .dataframe thead th {\n",
              "        text-align: right;\n",
              "    }\n",
              "</style>\n",
              "<table border=\"1\" class=\"dataframe\">\n",
              "  <thead>\n",
              "    <tr style=\"text-align: right;\">\n",
              "      <th></th>\n",
              "      <th>ETER ID Year</th>\n",
              "      <th>ETER ID</th>\n",
              "      <th>National identifier</th>\n",
              "      <th>Institution Name</th>\n",
              "      <th>Country Code</th>\n",
              "      <th>Region of establishment (NUTS 2)</th>\n",
              "      <th>Total Current expenditure (EURO)</th>\n",
              "      <th>Basic government allocation (EURO)</th>\n",
              "      <th>Student fees funding (EURO)</th>\n",
              "      <th>Total Current revenues (EURO)</th>\n",
              "      <th>Research active institution</th>\n",
              "      <th>Students enrolled at ISCED 8 - men</th>\n",
              "      <th>Students enrolled at ISCED 8 - women</th>\n",
              "      <th>Students enrolled ISCED 8 - gender unclassified</th>\n",
              "      <th>Total students enrolled at ISCED 8</th>\n",
              "      <th>Graduates at ISCED 8 - men</th>\n",
              "      <th>Graduates at ISCED 8 - women</th>\n",
              "      <th>Total graduates at ISCED 8</th>\n",
              "      <th>R&amp;D Expenditure (EURO)</th>\n",
              "      <th>PhD intensity</th>\n",
              "    </tr>\n",
              "  </thead>\n",
              "  <tbody>\n",
              "    <tr>\n",
              "      <th>0</th>\n",
              "      <td>FI0001.2016</td>\n",
              "      <td>FI0001</td>\n",
              "      <td>FI0001</td>\n",
              "      <td>Helsingin yliopisto</td>\n",
              "      <td>FI</td>\n",
              "      <td>FI1B</td>\n",
              "      <td>657907048</td>\n",
              "      <td>412436889</td>\n",
              "      <td>a</td>\n",
              "      <td>673420595</td>\n",
              "      <td>1</td>\n",
              "      <td>1785</td>\n",
              "      <td>2892</td>\n",
              "      <td>0</td>\n",
              "      <td>4677</td>\n",
              "      <td>215</td>\n",
              "      <td>338</td>\n",
              "      <td>553</td>\n",
              "      <td>335715100</td>\n",
              "      <td>0,1013006045</td>\n",
              "    </tr>\n",
              "    <tr>\n",
              "      <th>1</th>\n",
              "      <td>FI0002.2016</td>\n",
              "      <td>FI0002</td>\n",
              "      <td>FI0002</td>\n",
              "      <td>Turun yliopisto</td>\n",
              "      <td>FI</td>\n",
              "      <td>FI1C</td>\n",
              "      <td>257287148</td>\n",
              "      <td>166998500</td>\n",
              "      <td>a</td>\n",
              "      <td>264748916</td>\n",
              "      <td>1</td>\n",
              "      <td>788</td>\n",
              "      <td>1185</td>\n",
              "      <td>0</td>\n",
              "      <td>1973</td>\n",
              "      <td>72</td>\n",
              "      <td>108</td>\n",
              "      <td>180</td>\n",
              "      <td>121880500</td>\n",
              "      <td>0,054446461</td>\n",
              "    </tr>\n",
              "    <tr>\n",
              "      <th>2</th>\n",
              "      <td>FI0003.2016</td>\n",
              "      <td>FI0003</td>\n",
              "      <td>FI0003</td>\n",
              "      <td>Åbo Akademi</td>\n",
              "      <td>FI</td>\n",
              "      <td>FI1C</td>\n",
              "      <td>99747199</td>\n",
              "      <td>60701853</td>\n",
              "      <td>a</td>\n",
              "      <td>103015362</td>\n",
              "      <td>1</td>\n",
              "      <td>332</td>\n",
              "      <td>391</td>\n",
              "      <td>0</td>\n",
              "      <td>723</td>\n",
              "      <td>36</td>\n",
              "      <td>38</td>\n",
              "      <td>74</td>\n",
              "      <td>41158600</td>\n",
              "      <td>0,0631938514</td>\n",
              "    </tr>\n",
              "    <tr>\n",
              "      <th>3</th>\n",
              "      <td>FI0004.2016</td>\n",
              "      <td>FI0004</td>\n",
              "      <td>FI0004</td>\n",
              "      <td>Oulun yliopisto</td>\n",
              "      <td>FI</td>\n",
              "      <td>FI1D</td>\n",
              "      <td>215921256</td>\n",
              "      <td>145611000</td>\n",
              "      <td>a</td>\n",
              "      <td>215939884</td>\n",
              "      <td>1</td>\n",
              "      <td>601</td>\n",
              "      <td>681</td>\n",
              "      <td>0</td>\n",
              "      <td>1282</td>\n",
              "      <td>96</td>\n",
              "      <td>103</td>\n",
              "      <td>199</td>\n",
              "      <td>119658200</td>\n",
              "      <td>0,0732155997</td>\n",
              "    </tr>\n",
              "    <tr>\n",
              "      <th>4</th>\n",
              "      <td>FI0005.2016</td>\n",
              "      <td>FI0005</td>\n",
              "      <td>FI0005</td>\n",
              "      <td>Tampereen yliopisto</td>\n",
              "      <td>FI</td>\n",
              "      <td>FI19</td>\n",
              "      <td>177860004</td>\n",
              "      <td>110029264</td>\n",
              "      <td>a</td>\n",
              "      <td>179016548</td>\n",
              "      <td>1</td>\n",
              "      <td>604</td>\n",
              "      <td>1047</td>\n",
              "      <td>0</td>\n",
              "      <td>1651</td>\n",
              "      <td>53</td>\n",
              "      <td>87</td>\n",
              "      <td>140</td>\n",
              "      <td>84259500</td>\n",
              "      <td>0,0693069307</td>\n",
              "    </tr>\n",
              "  </tbody>\n",
              "</table>\n",
              "</div>"
            ],
            "text/plain": [
              "  ETER ID Year ETER ID  ... R&D Expenditure (EURO) PhD intensity\n",
              "0  FI0001.2016  FI0001  ...              335715100  0,1013006045\n",
              "1  FI0002.2016  FI0002  ...              121880500   0,054446461\n",
              "2  FI0003.2016  FI0003  ...               41158600  0,0631938514\n",
              "3  FI0004.2016  FI0004  ...              119658200  0,0732155997\n",
              "4  FI0005.2016  FI0005  ...               84259500  0,0693069307\n",
              "\n",
              "[5 rows x 20 columns]"
            ]
          },
          "metadata": {
            "tags": []
          },
          "execution_count": 3
        }
      ]
    },
    {
      "cell_type": "code",
      "metadata": {
        "id": "WEDj2H9mhWtn",
        "colab_type": "code",
        "outputId": "beb61274-9dc0-4212-e036-e064a9529ac8",
        "colab": {
          "resources": {
            "http://localhost:8080/nbextensions/google.colab/files.js": {
              "data": "Ly8gQ29weXJpZ2h0IDIwMTcgR29vZ2xlIExMQwovLwovLyBMaWNlbnNlZCB1bmRlciB0aGUgQXBhY2hlIExpY2Vuc2UsIFZlcnNpb24gMi4wICh0aGUgIkxpY2Vuc2UiKTsKLy8geW91IG1heSBub3QgdXNlIHRoaXMgZmlsZSBleGNlcHQgaW4gY29tcGxpYW5jZSB3aXRoIHRoZSBMaWNlbnNlLgovLyBZb3UgbWF5IG9idGFpbiBhIGNvcHkgb2YgdGhlIExpY2Vuc2UgYXQKLy8KLy8gICAgICBodHRwOi8vd3d3LmFwYWNoZS5vcmcvbGljZW5zZXMvTElDRU5TRS0yLjAKLy8KLy8gVW5sZXNzIHJlcXVpcmVkIGJ5IGFwcGxpY2FibGUgbGF3IG9yIGFncmVlZCB0byBpbiB3cml0aW5nLCBzb2Z0d2FyZQovLyBkaXN0cmlidXRlZCB1bmRlciB0aGUgTGljZW5zZSBpcyBkaXN0cmlidXRlZCBvbiBhbiAiQVMgSVMiIEJBU0lTLAovLyBXSVRIT1VUIFdBUlJBTlRJRVMgT1IgQ09ORElUSU9OUyBPRiBBTlkgS0lORCwgZWl0aGVyIGV4cHJlc3Mgb3IgaW1wbGllZC4KLy8gU2VlIHRoZSBMaWNlbnNlIGZvciB0aGUgc3BlY2lmaWMgbGFuZ3VhZ2UgZ292ZXJuaW5nIHBlcm1pc3Npb25zIGFuZAovLyBsaW1pdGF0aW9ucyB1bmRlciB0aGUgTGljZW5zZS4KCi8qKgogKiBAZmlsZW92ZXJ2aWV3IEhlbHBlcnMgZm9yIGdvb2dsZS5jb2xhYiBQeXRob24gbW9kdWxlLgogKi8KKGZ1bmN0aW9uKHNjb3BlKSB7CmZ1bmN0aW9uIHNwYW4odGV4dCwgc3R5bGVBdHRyaWJ1dGVzID0ge30pIHsKICBjb25zdCBlbGVtZW50ID0gZG9jdW1lbnQuY3JlYXRlRWxlbWVudCgnc3BhbicpOwogIGVsZW1lbnQudGV4dENvbnRlbnQgPSB0ZXh0OwogIGZvciAoY29uc3Qga2V5IG9mIE9iamVjdC5rZXlzKHN0eWxlQXR0cmlidXRlcykpIHsKICAgIGVsZW1lbnQuc3R5bGVba2V5XSA9IHN0eWxlQXR0cmlidXRlc1trZXldOwogIH0KICByZXR1cm4gZWxlbWVudDsKfQoKLy8gTWF4IG51bWJlciBvZiBieXRlcyB3aGljaCB3aWxsIGJlIHVwbG9hZGVkIGF0IGEgdGltZS4KY29uc3QgTUFYX1BBWUxPQURfU0laRSA9IDEwMCAqIDEwMjQ7Ci8vIE1heCBhbW91bnQgb2YgdGltZSB0byBibG9jayB3YWl0aW5nIGZvciB0aGUgdXNlci4KY29uc3QgRklMRV9DSEFOR0VfVElNRU9VVF9NUyA9IDMwICogMTAwMDsKCmZ1bmN0aW9uIF91cGxvYWRGaWxlcyhpbnB1dElkLCBvdXRwdXRJZCkgewogIGNvbnN0IHN0ZXBzID0gdXBsb2FkRmlsZXNTdGVwKGlucHV0SWQsIG91dHB1dElkKTsKICBjb25zdCBvdXRwdXRFbGVtZW50ID0gZG9jdW1lbnQuZ2V0RWxlbWVudEJ5SWQob3V0cHV0SWQpOwogIC8vIENhY2hlIHN0ZXBzIG9uIHRoZSBvdXRwdXRFbGVtZW50IHRvIG1ha2UgaXQgYXZhaWxhYmxlIGZvciB0aGUgbmV4dCBjYWxsCiAgLy8gdG8gdXBsb2FkRmlsZXNDb250aW51ZSBmcm9tIFB5dGhvbi4KICBvdXRwdXRFbGVtZW50LnN0ZXBzID0gc3RlcHM7CgogIHJldHVybiBfdXBsb2FkRmlsZXNDb250aW51ZShvdXRwdXRJZCk7Cn0KCi8vIFRoaXMgaXMgcm91Z2hseSBhbiBhc3luYyBnZW5lcmF0b3IgKG5vdCBzdXBwb3J0ZWQgaW4gdGhlIGJyb3dzZXIgeWV0KSwKLy8gd2hlcmUgdGhlcmUgYXJlIG11bHRpcGxlIGFzeW5jaHJvbm91cyBzdGVwcyBhbmQgdGhlIFB5dGhvbiBzaWRlIGlzIGdvaW5nCi8vIHRvIHBvbGwgZm9yIGNvbXBsZXRpb24gb2YgZWFjaCBzdGVwLgovLyBUaGlzIHVzZXMgYSBQcm9taXNlIHRvIGJsb2NrIHRoZSBweXRob24gc2lkZSBvbiBjb21wbGV0aW9uIG9mIGVhY2ggc3RlcCwKLy8gdGhlbiBwYXNzZXMgdGhlIHJlc3VsdCBvZiB0aGUgcHJldmlvdXMgc3RlcCBhcyB0aGUgaW5wdXQgdG8gdGhlIG5leHQgc3RlcC4KZnVuY3Rpb24gX3VwbG9hZEZpbGVzQ29udGludWUob3V0cHV0SWQpIHsKICBjb25zdCBvdXRwdXRFbGVtZW50ID0gZG9jdW1lbnQuZ2V0RWxlbWVudEJ5SWQob3V0cHV0SWQpOwogIGNvbnN0IHN0ZXBzID0gb3V0cHV0RWxlbWVudC5zdGVwczsKCiAgY29uc3QgbmV4dCA9IHN0ZXBzLm5leHQob3V0cHV0RWxlbWVudC5sYXN0UHJvbWlzZVZhbHVlKTsKICByZXR1cm4gUHJvbWlzZS5yZXNvbHZlKG5leHQudmFsdWUucHJvbWlzZSkudGhlbigodmFsdWUpID0+IHsKICAgIC8vIENhY2hlIHRoZSBsYXN0IHByb21pc2UgdmFsdWUgdG8gbWFrZSBpdCBhdmFpbGFibGUgdG8gdGhlIG5leHQKICAgIC8vIHN0ZXAgb2YgdGhlIGdlbmVyYXRvci4KICAgIG91dHB1dEVsZW1lbnQubGFzdFByb21pc2VWYWx1ZSA9IHZhbHVlOwogICAgcmV0dXJuIG5leHQudmFsdWUucmVzcG9uc2U7CiAgfSk7Cn0KCi8qKgogKiBHZW5lcmF0b3IgZnVuY3Rpb24gd2hpY2ggaXMgY2FsbGVkIGJldHdlZW4gZWFjaCBhc3luYyBzdGVwIG9mIHRoZSB1cGxvYWQKICogcHJvY2Vzcy4KICogQHBhcmFtIHtzdHJpbmd9IGlucHV0SWQgRWxlbWVudCBJRCBvZiB0aGUgaW5wdXQgZmlsZSBwaWNrZXIgZWxlbWVudC4KICogQHBhcmFtIHtzdHJpbmd9IG91dHB1dElkIEVsZW1lbnQgSUQgb2YgdGhlIG91dHB1dCBkaXNwbGF5LgogKiBAcmV0dXJuIHshSXRlcmFibGU8IU9iamVjdD59IEl0ZXJhYmxlIG9mIG5leHQgc3RlcHMuCiAqLwpmdW5jdGlvbiogdXBsb2FkRmlsZXNTdGVwKGlucHV0SWQsIG91dHB1dElkKSB7CiAgY29uc3QgaW5wdXRFbGVtZW50ID0gZG9jdW1lbnQuZ2V0RWxlbWVudEJ5SWQoaW5wdXRJZCk7CiAgaW5wdXRFbGVtZW50LmRpc2FibGVkID0gZmFsc2U7CgogIGNvbnN0IG91dHB1dEVsZW1lbnQgPSBkb2N1bWVudC5nZXRFbGVtZW50QnlJZChvdXRwdXRJZCk7CiAgb3V0cHV0RWxlbWVudC5pbm5lckhUTUwgPSAnJzsKCiAgY29uc3QgcGlja2VkUHJvbWlzZSA9IG5ldyBQcm9taXNlKChyZXNvbHZlKSA9PiB7CiAgICBpbnB1dEVsZW1lbnQuYWRkRXZlbnRMaXN0ZW5lcignY2hhbmdlJywgKGUpID0+IHsKICAgICAgcmVzb2x2ZShlLnRhcmdldC5maWxlcyk7CiAgICB9KTsKICB9KTsKCiAgY29uc3QgY2FuY2VsID0gZG9jdW1lbnQuY3JlYXRlRWxlbWVudCgnYnV0dG9uJyk7CiAgaW5wdXRFbGVtZW50LnBhcmVudEVsZW1lbnQuYXBwZW5kQ2hpbGQoY2FuY2VsKTsKICBjYW5jZWwudGV4dENvbnRlbnQgPSAnQ2FuY2VsIHVwbG9hZCc7CiAgY29uc3QgY2FuY2VsUHJvbWlzZSA9IG5ldyBQcm9taXNlKChyZXNvbHZlKSA9PiB7CiAgICBjYW5jZWwub25jbGljayA9ICgpID0+IHsKICAgICAgcmVzb2x2ZShudWxsKTsKICAgIH07CiAgfSk7CgogIC8vIENhbmNlbCB1cGxvYWQgaWYgdXNlciBoYXNuJ3QgcGlja2VkIGFueXRoaW5nIGluIHRpbWVvdXQuCiAgY29uc3QgdGltZW91dFByb21pc2UgPSBuZXcgUHJvbWlzZSgocmVzb2x2ZSkgPT4gewogICAgc2V0VGltZW91dCgoKSA9PiB7CiAgICAgIHJlc29sdmUobnVsbCk7CiAgICB9LCBGSUxFX0NIQU5HRV9USU1FT1VUX01TKTsKICB9KTsKCiAgLy8gV2FpdCBmb3IgdGhlIHVzZXIgdG8gcGljayB0aGUgZmlsZXMuCiAgY29uc3QgZmlsZXMgPSB5aWVsZCB7CiAgICBwcm9taXNlOiBQcm9taXNlLnJhY2UoW3BpY2tlZFByb21pc2UsIHRpbWVvdXRQcm9taXNlLCBjYW5jZWxQcm9taXNlXSksCiAgICByZXNwb25zZTogewogICAgICBhY3Rpb246ICdzdGFydGluZycsCiAgICB9CiAgfTsKCiAgaWYgKCFmaWxlcykgewogICAgcmV0dXJuIHsKICAgICAgcmVzcG9uc2U6IHsKICAgICAgICBhY3Rpb246ICdjb21wbGV0ZScsCiAgICAgIH0KICAgIH07CiAgfQoKICBjYW5jZWwucmVtb3ZlKCk7CgogIC8vIERpc2FibGUgdGhlIGlucHV0IGVsZW1lbnQgc2luY2UgZnVydGhlciBwaWNrcyBhcmUgbm90IGFsbG93ZWQuCiAgaW5wdXRFbGVtZW50LmRpc2FibGVkID0gdHJ1ZTsKCiAgZm9yIChjb25zdCBmaWxlIG9mIGZpbGVzKSB7CiAgICBjb25zdCBsaSA9IGRvY3VtZW50LmNyZWF0ZUVsZW1lbnQoJ2xpJyk7CiAgICBsaS5hcHBlbmQoc3BhbihmaWxlLm5hbWUsIHtmb250V2VpZ2h0OiAnYm9sZCd9KSk7CiAgICBsaS5hcHBlbmQoc3BhbigKICAgICAgICBgKCR7ZmlsZS50eXBlIHx8ICduL2EnfSkgLSAke2ZpbGUuc2l6ZX0gYnl0ZXMsIGAgKwogICAgICAgIGBsYXN0IG1vZGlmaWVkOiAkewogICAgICAgICAgICBmaWxlLmxhc3RNb2RpZmllZERhdGUgPyBmaWxlLmxhc3RNb2RpZmllZERhdGUudG9Mb2NhbGVEYXRlU3RyaW5nKCkgOgogICAgICAgICAgICAgICAgICAgICAgICAgICAgICAgICAgICAnbi9hJ30gLSBgKSk7CiAgICBjb25zdCBwZXJjZW50ID0gc3BhbignMCUgZG9uZScpOwogICAgbGkuYXBwZW5kQ2hpbGQocGVyY2VudCk7CgogICAgb3V0cHV0RWxlbWVudC5hcHBlbmRDaGlsZChsaSk7CgogICAgY29uc3QgZmlsZURhdGFQcm9taXNlID0gbmV3IFByb21pc2UoKHJlc29sdmUpID0+IHsKICAgICAgY29uc3QgcmVhZGVyID0gbmV3IEZpbGVSZWFkZXIoKTsKICAgICAgcmVhZGVyLm9ubG9hZCA9IChlKSA9PiB7CiAgICAgICAgcmVzb2x2ZShlLnRhcmdldC5yZXN1bHQpOwogICAgICB9OwogICAgICByZWFkZXIucmVhZEFzQXJyYXlCdWZmZXIoZmlsZSk7CiAgICB9KTsKICAgIC8vIFdhaXQgZm9yIHRoZSBkYXRhIHRvIGJlIHJlYWR5LgogICAgbGV0IGZpbGVEYXRhID0geWllbGQgewogICAgICBwcm9taXNlOiBmaWxlRGF0YVByb21pc2UsCiAgICAgIHJlc3BvbnNlOiB7CiAgICAgICAgYWN0aW9uOiAnY29udGludWUnLAogICAgICB9CiAgICB9OwoKICAgIC8vIFVzZSBhIGNodW5rZWQgc2VuZGluZyB0byBhdm9pZCBtZXNzYWdlIHNpemUgbGltaXRzLiBTZWUgYi82MjExNTY2MC4KICAgIGxldCBwb3NpdGlvbiA9IDA7CiAgICB3aGlsZSAocG9zaXRpb24gPCBmaWxlRGF0YS5ieXRlTGVuZ3RoKSB7CiAgICAgIGNvbnN0IGxlbmd0aCA9IE1hdGgubWluKGZpbGVEYXRhLmJ5dGVMZW5ndGggLSBwb3NpdGlvbiwgTUFYX1BBWUxPQURfU0laRSk7CiAgICAgIGNvbnN0IGNodW5rID0gbmV3IFVpbnQ4QXJyYXkoZmlsZURhdGEsIHBvc2l0aW9uLCBsZW5ndGgpOwogICAgICBwb3NpdGlvbiArPSBsZW5ndGg7CgogICAgICBjb25zdCBiYXNlNjQgPSBidG9hKFN0cmluZy5mcm9tQ2hhckNvZGUuYXBwbHkobnVsbCwgY2h1bmspKTsKICAgICAgeWllbGQgewogICAgICAgIHJlc3BvbnNlOiB7CiAgICAgICAgICBhY3Rpb246ICdhcHBlbmQnLAogICAgICAgICAgZmlsZTogZmlsZS5uYW1lLAogICAgICAgICAgZGF0YTogYmFzZTY0LAogICAgICAgIH0sCiAgICAgIH07CiAgICAgIHBlcmNlbnQudGV4dENvbnRlbnQgPQogICAgICAgICAgYCR7TWF0aC5yb3VuZCgocG9zaXRpb24gLyBmaWxlRGF0YS5ieXRlTGVuZ3RoKSAqIDEwMCl9JSBkb25lYDsKICAgIH0KICB9CgogIC8vIEFsbCBkb25lLgogIHlpZWxkIHsKICAgIHJlc3BvbnNlOiB7CiAgICAgIGFjdGlvbjogJ2NvbXBsZXRlJywKICAgIH0KICB9Owp9CgpzY29wZS5nb29nbGUgPSBzY29wZS5nb29nbGUgfHwge307CnNjb3BlLmdvb2dsZS5jb2xhYiA9IHNjb3BlLmdvb2dsZS5jb2xhYiB8fCB7fTsKc2NvcGUuZ29vZ2xlLmNvbGFiLl9maWxlcyA9IHsKICBfdXBsb2FkRmlsZXMsCiAgX3VwbG9hZEZpbGVzQ29udGludWUsCn07Cn0pKHNlbGYpOwo=",
              "ok": true,
              "headers": [
                [
                  "content-type",
                  "application/javascript"
                ]
              ],
              "status": 200,
              "status_text": ""
            }
          },
          "base_uri": "https://localhost:8080/",
          "height": 397
        }
      },
      "source": [
        "uploaded = files.upload()\n",
        "data_clean = pd.read_csv(io.BytesIO(uploaded['clean_data.csv']), sep=\",\", header = 0, encoding='latin-1')\n",
        "data_clean.head()"
      ],
      "execution_count": 4,
      "outputs": [
        {
          "output_type": "display_data",
          "data": {
            "text/html": [
              "\n",
              "     <input type=\"file\" id=\"files-adebb6d2-0f21-4751-be3f-17daca9edbbc\" name=\"files[]\" multiple disabled />\n",
              "     <output id=\"result-adebb6d2-0f21-4751-be3f-17daca9edbbc\">\n",
              "      Upload widget is only available when the cell has been executed in the\n",
              "      current browser session. Please rerun this cell to enable.\n",
              "      </output>\n",
              "      <script src=\"/nbextensions/google.colab/files.js\"></script> "
            ],
            "text/plain": [
              "<IPython.core.display.HTML object>"
            ]
          },
          "metadata": {
            "tags": []
          }
        },
        {
          "output_type": "stream",
          "text": [
            "Saving clean_data.csv to clean_data.csv\n"
          ],
          "name": "stdout"
        },
        {
          "output_type": "execute_result",
          "data": {
            "text/html": [
              "<div>\n",
              "<style scoped>\n",
              "    .dataframe tbody tr th:only-of-type {\n",
              "        vertical-align: middle;\n",
              "    }\n",
              "\n",
              "    .dataframe tbody tr th {\n",
              "        vertical-align: top;\n",
              "    }\n",
              "\n",
              "    .dataframe thead th {\n",
              "        text-align: right;\n",
              "    }\n",
              "</style>\n",
              "<table border=\"1\" class=\"dataframe\">\n",
              "  <thead>\n",
              "    <tr style=\"text-align: right;\">\n",
              "      <th></th>\n",
              "      <th>Unnamed: 0</th>\n",
              "      <th>ETER ID Year</th>\n",
              "      <th>ETER ID</th>\n",
              "      <th>National identifier</th>\n",
              "      <th>Institution Name</th>\n",
              "      <th>Country Code</th>\n",
              "      <th>Region of establishment (NUTS 2)</th>\n",
              "      <th>Total Current expenditure (EURO)</th>\n",
              "      <th>Basic government allocation (EURO)</th>\n",
              "      <th>Student fees funding (EURO)</th>\n",
              "      <th>Total Current revenues (EURO)</th>\n",
              "      <th>Research active institution</th>\n",
              "      <th>Students enrolled at ISCED 8 - men</th>\n",
              "      <th>Students enrolled at ISCED 8 - women</th>\n",
              "      <th>Students enrolled ISCED 8 - gender unclassified</th>\n",
              "      <th>Total students enrolled at ISCED 8</th>\n",
              "      <th>Graduates at ISCED 8 - men</th>\n",
              "      <th>Graduates at ISCED 8 - women</th>\n",
              "      <th>Total graduates at ISCED 8</th>\n",
              "      <th>R&amp;D Expenditure (EURO)</th>\n",
              "      <th>PhD intensity</th>\n",
              "    </tr>\n",
              "  </thead>\n",
              "  <tbody>\n",
              "    <tr>\n",
              "      <th>0</th>\n",
              "      <td>0</td>\n",
              "      <td>FI0001.2016</td>\n",
              "      <td>FI0001</td>\n",
              "      <td>FI0001</td>\n",
              "      <td>Helsingin yliopisto</td>\n",
              "      <td>FI</td>\n",
              "      <td>FI1B</td>\n",
              "      <td>657907048</td>\n",
              "      <td>412436889</td>\n",
              "      <td>NaN</td>\n",
              "      <td>673420595</td>\n",
              "      <td>1</td>\n",
              "      <td>1785.0</td>\n",
              "      <td>2892.0</td>\n",
              "      <td>0.0</td>\n",
              "      <td>4677.0</td>\n",
              "      <td>215.0</td>\n",
              "      <td>338.0</td>\n",
              "      <td>553.0</td>\n",
              "      <td>335715100</td>\n",
              "      <td>0,1013006045</td>\n",
              "    </tr>\n",
              "    <tr>\n",
              "      <th>1</th>\n",
              "      <td>1</td>\n",
              "      <td>FI0002.2016</td>\n",
              "      <td>FI0002</td>\n",
              "      <td>FI0002</td>\n",
              "      <td>Turun yliopisto</td>\n",
              "      <td>FI</td>\n",
              "      <td>FI1C</td>\n",
              "      <td>257287148</td>\n",
              "      <td>166998500</td>\n",
              "      <td>NaN</td>\n",
              "      <td>264748916</td>\n",
              "      <td>1</td>\n",
              "      <td>788.0</td>\n",
              "      <td>1185.0</td>\n",
              "      <td>0.0</td>\n",
              "      <td>1973.0</td>\n",
              "      <td>72.0</td>\n",
              "      <td>108.0</td>\n",
              "      <td>180.0</td>\n",
              "      <td>121880500</td>\n",
              "      <td>0,054446461</td>\n",
              "    </tr>\n",
              "    <tr>\n",
              "      <th>2</th>\n",
              "      <td>2</td>\n",
              "      <td>FI0003.2016</td>\n",
              "      <td>FI0003</td>\n",
              "      <td>FI0003</td>\n",
              "      <td>Ãbo Akademi</td>\n",
              "      <td>FI</td>\n",
              "      <td>FI1C</td>\n",
              "      <td>99747199</td>\n",
              "      <td>60701853</td>\n",
              "      <td>NaN</td>\n",
              "      <td>103015362</td>\n",
              "      <td>1</td>\n",
              "      <td>332.0</td>\n",
              "      <td>391.0</td>\n",
              "      <td>0.0</td>\n",
              "      <td>723.0</td>\n",
              "      <td>36.0</td>\n",
              "      <td>38.0</td>\n",
              "      <td>74.0</td>\n",
              "      <td>41158600</td>\n",
              "      <td>0,0631938514</td>\n",
              "    </tr>\n",
              "    <tr>\n",
              "      <th>3</th>\n",
              "      <td>3</td>\n",
              "      <td>FI0004.2016</td>\n",
              "      <td>FI0004</td>\n",
              "      <td>FI0004</td>\n",
              "      <td>Oulun yliopisto</td>\n",
              "      <td>FI</td>\n",
              "      <td>FI1D</td>\n",
              "      <td>215921256</td>\n",
              "      <td>145611000</td>\n",
              "      <td>NaN</td>\n",
              "      <td>215939884</td>\n",
              "      <td>1</td>\n",
              "      <td>601.0</td>\n",
              "      <td>681.0</td>\n",
              "      <td>0.0</td>\n",
              "      <td>1282.0</td>\n",
              "      <td>96.0</td>\n",
              "      <td>103.0</td>\n",
              "      <td>199.0</td>\n",
              "      <td>119658200</td>\n",
              "      <td>0,0732155997</td>\n",
              "    </tr>\n",
              "    <tr>\n",
              "      <th>4</th>\n",
              "      <td>4</td>\n",
              "      <td>FI0005.2016</td>\n",
              "      <td>FI0005</td>\n",
              "      <td>FI0005</td>\n",
              "      <td>Tampereen yliopisto</td>\n",
              "      <td>FI</td>\n",
              "      <td>FI19</td>\n",
              "      <td>177860004</td>\n",
              "      <td>110029264</td>\n",
              "      <td>NaN</td>\n",
              "      <td>179016548</td>\n",
              "      <td>1</td>\n",
              "      <td>604.0</td>\n",
              "      <td>1047.0</td>\n",
              "      <td>0.0</td>\n",
              "      <td>1651.0</td>\n",
              "      <td>53.0</td>\n",
              "      <td>87.0</td>\n",
              "      <td>140.0</td>\n",
              "      <td>84259500</td>\n",
              "      <td>0,0693069307</td>\n",
              "    </tr>\n",
              "  </tbody>\n",
              "</table>\n",
              "</div>"
            ],
            "text/plain": [
              "   Unnamed: 0 ETER ID Year  ... R&D Expenditure (EURO) PhD intensity\n",
              "0           0  FI0001.2016  ...              335715100  0,1013006045\n",
              "1           1  FI0002.2016  ...              121880500   0,054446461\n",
              "2           2  FI0003.2016  ...               41158600  0,0631938514\n",
              "3           3  FI0004.2016  ...              119658200  0,0732155997\n",
              "4           4  FI0005.2016  ...               84259500  0,0693069307\n",
              "\n",
              "[5 rows x 21 columns]"
            ]
          },
          "metadata": {
            "tags": []
          },
          "execution_count": 4
        }
      ]
    },
    {
      "cell_type": "code",
      "metadata": {
        "id": "0IPIWFMk9Jv0",
        "colab_type": "code",
        "colab": {
          "resources": {
            "http://localhost:8080/nbextensions/google.colab/files.js": {
              "data": "Ly8gQ29weXJpZ2h0IDIwMTcgR29vZ2xlIExMQwovLwovLyBMaWNlbnNlZCB1bmRlciB0aGUgQXBhY2hlIExpY2Vuc2UsIFZlcnNpb24gMi4wICh0aGUgIkxpY2Vuc2UiKTsKLy8geW91IG1heSBub3QgdXNlIHRoaXMgZmlsZSBleGNlcHQgaW4gY29tcGxpYW5jZSB3aXRoIHRoZSBMaWNlbnNlLgovLyBZb3UgbWF5IG9idGFpbiBhIGNvcHkgb2YgdGhlIExpY2Vuc2UgYXQKLy8KLy8gICAgICBodHRwOi8vd3d3LmFwYWNoZS5vcmcvbGljZW5zZXMvTElDRU5TRS0yLjAKLy8KLy8gVW5sZXNzIHJlcXVpcmVkIGJ5IGFwcGxpY2FibGUgbGF3IG9yIGFncmVlZCB0byBpbiB3cml0aW5nLCBzb2Z0d2FyZQovLyBkaXN0cmlidXRlZCB1bmRlciB0aGUgTGljZW5zZSBpcyBkaXN0cmlidXRlZCBvbiBhbiAiQVMgSVMiIEJBU0lTLAovLyBXSVRIT1VUIFdBUlJBTlRJRVMgT1IgQ09ORElUSU9OUyBPRiBBTlkgS0lORCwgZWl0aGVyIGV4cHJlc3Mgb3IgaW1wbGllZC4KLy8gU2VlIHRoZSBMaWNlbnNlIGZvciB0aGUgc3BlY2lmaWMgbGFuZ3VhZ2UgZ292ZXJuaW5nIHBlcm1pc3Npb25zIGFuZAovLyBsaW1pdGF0aW9ucyB1bmRlciB0aGUgTGljZW5zZS4KCi8qKgogKiBAZmlsZW92ZXJ2aWV3IEhlbHBlcnMgZm9yIGdvb2dsZS5jb2xhYiBQeXRob24gbW9kdWxlLgogKi8KKGZ1bmN0aW9uKHNjb3BlKSB7CmZ1bmN0aW9uIHNwYW4odGV4dCwgc3R5bGVBdHRyaWJ1dGVzID0ge30pIHsKICBjb25zdCBlbGVtZW50ID0gZG9jdW1lbnQuY3JlYXRlRWxlbWVudCgnc3BhbicpOwogIGVsZW1lbnQudGV4dENvbnRlbnQgPSB0ZXh0OwogIGZvciAoY29uc3Qga2V5IG9mIE9iamVjdC5rZXlzKHN0eWxlQXR0cmlidXRlcykpIHsKICAgIGVsZW1lbnQuc3R5bGVba2V5XSA9IHN0eWxlQXR0cmlidXRlc1trZXldOwogIH0KICByZXR1cm4gZWxlbWVudDsKfQoKLy8gTWF4IG51bWJlciBvZiBieXRlcyB3aGljaCB3aWxsIGJlIHVwbG9hZGVkIGF0IGEgdGltZS4KY29uc3QgTUFYX1BBWUxPQURfU0laRSA9IDEwMCAqIDEwMjQ7Ci8vIE1heCBhbW91bnQgb2YgdGltZSB0byBibG9jayB3YWl0aW5nIGZvciB0aGUgdXNlci4KY29uc3QgRklMRV9DSEFOR0VfVElNRU9VVF9NUyA9IDMwICogMTAwMDsKCmZ1bmN0aW9uIF91cGxvYWRGaWxlcyhpbnB1dElkLCBvdXRwdXRJZCkgewogIGNvbnN0IHN0ZXBzID0gdXBsb2FkRmlsZXNTdGVwKGlucHV0SWQsIG91dHB1dElkKTsKICBjb25zdCBvdXRwdXRFbGVtZW50ID0gZG9jdW1lbnQuZ2V0RWxlbWVudEJ5SWQob3V0cHV0SWQpOwogIC8vIENhY2hlIHN0ZXBzIG9uIHRoZSBvdXRwdXRFbGVtZW50IHRvIG1ha2UgaXQgYXZhaWxhYmxlIGZvciB0aGUgbmV4dCBjYWxsCiAgLy8gdG8gdXBsb2FkRmlsZXNDb250aW51ZSBmcm9tIFB5dGhvbi4KICBvdXRwdXRFbGVtZW50LnN0ZXBzID0gc3RlcHM7CgogIHJldHVybiBfdXBsb2FkRmlsZXNDb250aW51ZShvdXRwdXRJZCk7Cn0KCi8vIFRoaXMgaXMgcm91Z2hseSBhbiBhc3luYyBnZW5lcmF0b3IgKG5vdCBzdXBwb3J0ZWQgaW4gdGhlIGJyb3dzZXIgeWV0KSwKLy8gd2hlcmUgdGhlcmUgYXJlIG11bHRpcGxlIGFzeW5jaHJvbm91cyBzdGVwcyBhbmQgdGhlIFB5dGhvbiBzaWRlIGlzIGdvaW5nCi8vIHRvIHBvbGwgZm9yIGNvbXBsZXRpb24gb2YgZWFjaCBzdGVwLgovLyBUaGlzIHVzZXMgYSBQcm9taXNlIHRvIGJsb2NrIHRoZSBweXRob24gc2lkZSBvbiBjb21wbGV0aW9uIG9mIGVhY2ggc3RlcCwKLy8gdGhlbiBwYXNzZXMgdGhlIHJlc3VsdCBvZiB0aGUgcHJldmlvdXMgc3RlcCBhcyB0aGUgaW5wdXQgdG8gdGhlIG5leHQgc3RlcC4KZnVuY3Rpb24gX3VwbG9hZEZpbGVzQ29udGludWUob3V0cHV0SWQpIHsKICBjb25zdCBvdXRwdXRFbGVtZW50ID0gZG9jdW1lbnQuZ2V0RWxlbWVudEJ5SWQob3V0cHV0SWQpOwogIGNvbnN0IHN0ZXBzID0gb3V0cHV0RWxlbWVudC5zdGVwczsKCiAgY29uc3QgbmV4dCA9IHN0ZXBzLm5leHQob3V0cHV0RWxlbWVudC5sYXN0UHJvbWlzZVZhbHVlKTsKICByZXR1cm4gUHJvbWlzZS5yZXNvbHZlKG5leHQudmFsdWUucHJvbWlzZSkudGhlbigodmFsdWUpID0+IHsKICAgIC8vIENhY2hlIHRoZSBsYXN0IHByb21pc2UgdmFsdWUgdG8gbWFrZSBpdCBhdmFpbGFibGUgdG8gdGhlIG5leHQKICAgIC8vIHN0ZXAgb2YgdGhlIGdlbmVyYXRvci4KICAgIG91dHB1dEVsZW1lbnQubGFzdFByb21pc2VWYWx1ZSA9IHZhbHVlOwogICAgcmV0dXJuIG5leHQudmFsdWUucmVzcG9uc2U7CiAgfSk7Cn0KCi8qKgogKiBHZW5lcmF0b3IgZnVuY3Rpb24gd2hpY2ggaXMgY2FsbGVkIGJldHdlZW4gZWFjaCBhc3luYyBzdGVwIG9mIHRoZSB1cGxvYWQKICogcHJvY2Vzcy4KICogQHBhcmFtIHtzdHJpbmd9IGlucHV0SWQgRWxlbWVudCBJRCBvZiB0aGUgaW5wdXQgZmlsZSBwaWNrZXIgZWxlbWVudC4KICogQHBhcmFtIHtzdHJpbmd9IG91dHB1dElkIEVsZW1lbnQgSUQgb2YgdGhlIG91dHB1dCBkaXNwbGF5LgogKiBAcmV0dXJuIHshSXRlcmFibGU8IU9iamVjdD59IEl0ZXJhYmxlIG9mIG5leHQgc3RlcHMuCiAqLwpmdW5jdGlvbiogdXBsb2FkRmlsZXNTdGVwKGlucHV0SWQsIG91dHB1dElkKSB7CiAgY29uc3QgaW5wdXRFbGVtZW50ID0gZG9jdW1lbnQuZ2V0RWxlbWVudEJ5SWQoaW5wdXRJZCk7CiAgaW5wdXRFbGVtZW50LmRpc2FibGVkID0gZmFsc2U7CgogIGNvbnN0IG91dHB1dEVsZW1lbnQgPSBkb2N1bWVudC5nZXRFbGVtZW50QnlJZChvdXRwdXRJZCk7CiAgb3V0cHV0RWxlbWVudC5pbm5lckhUTUwgPSAnJzsKCiAgY29uc3QgcGlja2VkUHJvbWlzZSA9IG5ldyBQcm9taXNlKChyZXNvbHZlKSA9PiB7CiAgICBpbnB1dEVsZW1lbnQuYWRkRXZlbnRMaXN0ZW5lcignY2hhbmdlJywgKGUpID0+IHsKICAgICAgcmVzb2x2ZShlLnRhcmdldC5maWxlcyk7CiAgICB9KTsKICB9KTsKCiAgY29uc3QgY2FuY2VsID0gZG9jdW1lbnQuY3JlYXRlRWxlbWVudCgnYnV0dG9uJyk7CiAgaW5wdXRFbGVtZW50LnBhcmVudEVsZW1lbnQuYXBwZW5kQ2hpbGQoY2FuY2VsKTsKICBjYW5jZWwudGV4dENvbnRlbnQgPSAnQ2FuY2VsIHVwbG9hZCc7CiAgY29uc3QgY2FuY2VsUHJvbWlzZSA9IG5ldyBQcm9taXNlKChyZXNvbHZlKSA9PiB7CiAgICBjYW5jZWwub25jbGljayA9ICgpID0+IHsKICAgICAgcmVzb2x2ZShudWxsKTsKICAgIH07CiAgfSk7CgogIC8vIENhbmNlbCB1cGxvYWQgaWYgdXNlciBoYXNuJ3QgcGlja2VkIGFueXRoaW5nIGluIHRpbWVvdXQuCiAgY29uc3QgdGltZW91dFByb21pc2UgPSBuZXcgUHJvbWlzZSgocmVzb2x2ZSkgPT4gewogICAgc2V0VGltZW91dCgoKSA9PiB7CiAgICAgIHJlc29sdmUobnVsbCk7CiAgICB9LCBGSUxFX0NIQU5HRV9USU1FT1VUX01TKTsKICB9KTsKCiAgLy8gV2FpdCBmb3IgdGhlIHVzZXIgdG8gcGljayB0aGUgZmlsZXMuCiAgY29uc3QgZmlsZXMgPSB5aWVsZCB7CiAgICBwcm9taXNlOiBQcm9taXNlLnJhY2UoW3BpY2tlZFByb21pc2UsIHRpbWVvdXRQcm9taXNlLCBjYW5jZWxQcm9taXNlXSksCiAgICByZXNwb25zZTogewogICAgICBhY3Rpb246ICdzdGFydGluZycsCiAgICB9CiAgfTsKCiAgaWYgKCFmaWxlcykgewogICAgcmV0dXJuIHsKICAgICAgcmVzcG9uc2U6IHsKICAgICAgICBhY3Rpb246ICdjb21wbGV0ZScsCiAgICAgIH0KICAgIH07CiAgfQoKICBjYW5jZWwucmVtb3ZlKCk7CgogIC8vIERpc2FibGUgdGhlIGlucHV0IGVsZW1lbnQgc2luY2UgZnVydGhlciBwaWNrcyBhcmUgbm90IGFsbG93ZWQuCiAgaW5wdXRFbGVtZW50LmRpc2FibGVkID0gdHJ1ZTsKCiAgZm9yIChjb25zdCBmaWxlIG9mIGZpbGVzKSB7CiAgICBjb25zdCBsaSA9IGRvY3VtZW50LmNyZWF0ZUVsZW1lbnQoJ2xpJyk7CiAgICBsaS5hcHBlbmQoc3BhbihmaWxlLm5hbWUsIHtmb250V2VpZ2h0OiAnYm9sZCd9KSk7CiAgICBsaS5hcHBlbmQoc3BhbigKICAgICAgICBgKCR7ZmlsZS50eXBlIHx8ICduL2EnfSkgLSAke2ZpbGUuc2l6ZX0gYnl0ZXMsIGAgKwogICAgICAgIGBsYXN0IG1vZGlmaWVkOiAkewogICAgICAgICAgICBmaWxlLmxhc3RNb2RpZmllZERhdGUgPyBmaWxlLmxhc3RNb2RpZmllZERhdGUudG9Mb2NhbGVEYXRlU3RyaW5nKCkgOgogICAgICAgICAgICAgICAgICAgICAgICAgICAgICAgICAgICAnbi9hJ30gLSBgKSk7CiAgICBjb25zdCBwZXJjZW50ID0gc3BhbignMCUgZG9uZScpOwogICAgbGkuYXBwZW5kQ2hpbGQocGVyY2VudCk7CgogICAgb3V0cHV0RWxlbWVudC5hcHBlbmRDaGlsZChsaSk7CgogICAgY29uc3QgZmlsZURhdGFQcm9taXNlID0gbmV3IFByb21pc2UoKHJlc29sdmUpID0+IHsKICAgICAgY29uc3QgcmVhZGVyID0gbmV3IEZpbGVSZWFkZXIoKTsKICAgICAgcmVhZGVyLm9ubG9hZCA9IChlKSA9PiB7CiAgICAgICAgcmVzb2x2ZShlLnRhcmdldC5yZXN1bHQpOwogICAgICB9OwogICAgICByZWFkZXIucmVhZEFzQXJyYXlCdWZmZXIoZmlsZSk7CiAgICB9KTsKICAgIC8vIFdhaXQgZm9yIHRoZSBkYXRhIHRvIGJlIHJlYWR5LgogICAgbGV0IGZpbGVEYXRhID0geWllbGQgewogICAgICBwcm9taXNlOiBmaWxlRGF0YVByb21pc2UsCiAgICAgIHJlc3BvbnNlOiB7CiAgICAgICAgYWN0aW9uOiAnY29udGludWUnLAogICAgICB9CiAgICB9OwoKICAgIC8vIFVzZSBhIGNodW5rZWQgc2VuZGluZyB0byBhdm9pZCBtZXNzYWdlIHNpemUgbGltaXRzLiBTZWUgYi82MjExNTY2MC4KICAgIGxldCBwb3NpdGlvbiA9IDA7CiAgICB3aGlsZSAocG9zaXRpb24gPCBmaWxlRGF0YS5ieXRlTGVuZ3RoKSB7CiAgICAgIGNvbnN0IGxlbmd0aCA9IE1hdGgubWluKGZpbGVEYXRhLmJ5dGVMZW5ndGggLSBwb3NpdGlvbiwgTUFYX1BBWUxPQURfU0laRSk7CiAgICAgIGNvbnN0IGNodW5rID0gbmV3IFVpbnQ4QXJyYXkoZmlsZURhdGEsIHBvc2l0aW9uLCBsZW5ndGgpOwogICAgICBwb3NpdGlvbiArPSBsZW5ndGg7CgogICAgICBjb25zdCBiYXNlNjQgPSBidG9hKFN0cmluZy5mcm9tQ2hhckNvZGUuYXBwbHkobnVsbCwgY2h1bmspKTsKICAgICAgeWllbGQgewogICAgICAgIHJlc3BvbnNlOiB7CiAgICAgICAgICBhY3Rpb246ICdhcHBlbmQnLAogICAgICAgICAgZmlsZTogZmlsZS5uYW1lLAogICAgICAgICAgZGF0YTogYmFzZTY0LAogICAgICAgIH0sCiAgICAgIH07CiAgICAgIHBlcmNlbnQudGV4dENvbnRlbnQgPQogICAgICAgICAgYCR7TWF0aC5yb3VuZCgocG9zaXRpb24gLyBmaWxlRGF0YS5ieXRlTGVuZ3RoKSAqIDEwMCl9JSBkb25lYDsKICAgIH0KICB9CgogIC8vIEFsbCBkb25lLgogIHlpZWxkIHsKICAgIHJlc3BvbnNlOiB7CiAgICAgIGFjdGlvbjogJ2NvbXBsZXRlJywKICAgIH0KICB9Owp9CgpzY29wZS5nb29nbGUgPSBzY29wZS5nb29nbGUgfHwge307CnNjb3BlLmdvb2dsZS5jb2xhYiA9IHNjb3BlLmdvb2dsZS5jb2xhYiB8fCB7fTsKc2NvcGUuZ29vZ2xlLmNvbGFiLl9maWxlcyA9IHsKICBfdXBsb2FkRmlsZXMsCiAgX3VwbG9hZEZpbGVzQ29udGludWUsCn07Cn0pKHNlbGYpOwo=",
              "ok": true,
              "headers": [
                [
                  "content-type",
                  "application/javascript"
                ]
              ],
              "status": 200,
              "status_text": ""
            }
          },
          "base_uri": "https://localhost:8080/",
          "height": 528
        },
        "outputId": "4adf585b-402c-45be-ab74-2b25379cb150"
      },
      "source": [
        "uploaded = files.upload()\n",
        "raw_data = pd.read_csv(io.BytesIO(uploaded['eter-export-selected.csv']), sep=\";\", header = 0, encoding='latin-1')\n",
        "raw_data.head()"
      ],
      "execution_count": 3,
      "outputs": [
        {
          "output_type": "display_data",
          "data": {
            "text/html": [
              "\n",
              "     <input type=\"file\" id=\"files-230eecad-8704-4ce2-bd34-2b3f4955fe7f\" name=\"files[]\" multiple disabled />\n",
              "     <output id=\"result-230eecad-8704-4ce2-bd34-2b3f4955fe7f\">\n",
              "      Upload widget is only available when the cell has been executed in the\n",
              "      current browser session. Please rerun this cell to enable.\n",
              "      </output>\n",
              "      <script src=\"/nbextensions/google.colab/files.js\"></script> "
            ],
            "text/plain": [
              "<IPython.core.display.HTML object>"
            ]
          },
          "metadata": {
            "tags": []
          }
        },
        {
          "output_type": "stream",
          "text": [
            "Saving eter-export-selected.csv to eter-export-selected.csv\n"
          ],
          "name": "stdout"
        },
        {
          "output_type": "stream",
          "text": [
            "/usr/local/lib/python3.6/dist-packages/IPython/core/interactiveshell.py:2718: DtypeWarning: Columns (75,76,77,78) have mixed types.Specify dtype option on import or set low_memory=False.\n",
            "  interactivity=interactivity, compiler=compiler, result=result)\n"
          ],
          "name": "stderr"
        },
        {
          "output_type": "execute_result",
          "data": {
            "text/html": [
              "<div>\n",
              "<style scoped>\n",
              "    .dataframe tbody tr th:only-of-type {\n",
              "        vertical-align: middle;\n",
              "    }\n",
              "\n",
              "    .dataframe tbody tr th {\n",
              "        vertical-align: top;\n",
              "    }\n",
              "\n",
              "    .dataframe thead th {\n",
              "        text-align: right;\n",
              "    }\n",
              "</style>\n",
              "<table border=\"1\" class=\"dataframe\">\n",
              "  <thead>\n",
              "    <tr style=\"text-align: right;\">\n",
              "      <th></th>\n",
              "      <th>ï»¿ETER ID Year</th>\n",
              "      <th>ETER ID</th>\n",
              "      <th>National identifier</th>\n",
              "      <th>English Institution Name</th>\n",
              "      <th>Country Code</th>\n",
              "      <th>Region of establishment (NUTS 2)</th>\n",
              "      <th>Geographic coordinates - latitude</th>\n",
              "      <th>Geographic coordinates - longitude</th>\n",
              "      <th>Personnel expenditure (EURO)</th>\n",
              "      <th>Non-personnel expenditure (EURO)</th>\n",
              "      <th>Expenditure unclassified (EURO)</th>\n",
              "      <th>Total Current expenditure (EURO)</th>\n",
              "      <th>Capital expenditure (EURO)</th>\n",
              "      <th>Basic government allocation (EURO)</th>\n",
              "      <th>Total Current revenues (EURO)</th>\n",
              "      <th>Research active institution</th>\n",
              "      <th>Students enrolled at ISCED 8 - men</th>\n",
              "      <th>Students enrolled at ISCED 8 - women</th>\n",
              "      <th>Students enrolled ISCED 8 - gender unclassified</th>\n",
              "      <th>Flag Students ISCED 8 - gender</th>\n",
              "      <th>Students enrolled at ISCED 8 - national</th>\n",
              "      <th>Students enrolled at ISCED 8 - foreigner</th>\n",
              "      <th>Students enrolled ISCED 8-citizenship unclassified</th>\n",
              "      <th>Flag Students ISCED 8 - citizenship</th>\n",
              "      <th>Students enrolled at ISCED 8 - resident</th>\n",
              "      <th>Students enrolled at ISCED 8 - mobile</th>\n",
              "      <th>Students enrolled ISCED 8-mobility unclassified</th>\n",
              "      <th>Flag Students ISCED 8 - mobility</th>\n",
              "      <th>Students enrolled at ISCED 8 - Generic programmes and qualifications</th>\n",
              "      <th>Students enrolled at ISCED 8 - Education</th>\n",
              "      <th>Students enrolled at ISCED 8 - Arts and Humanities</th>\n",
              "      <th>Students enrolled at ISCED 8 - Social sciences, journalism and information</th>\n",
              "      <th>Students enrolled at ISCED 8 - Business, administration and law</th>\n",
              "      <th>Students enrolled at ISCED 8 - Natural sciences, mathematics and statistics</th>\n",
              "      <th>Students enrolled at ISCED 8 - Information and Communication Technologies</th>\n",
              "      <th>Students enrolled at ISCED 8 - Engineering, manufacturing and construction</th>\n",
              "      <th>Students enrolled at ISCED 8 - Agriculture, forestry, fisheries and veterinary</th>\n",
              "      <th>Students enrolled at ISCED 8 - Health and welfare</th>\n",
              "      <th>Students enrolled at ISCED 8 - Services</th>\n",
              "      <th>Students enrolled ISCED 8 - ISCED-FoE unclassified</th>\n",
              "      <th>...</th>\n",
              "      <th>Graduates at ISCED 8 - men</th>\n",
              "      <th>Graduates at ISCED 8 - women</th>\n",
              "      <th>Graduates at ISCED 8 - gender unclassified</th>\n",
              "      <th>Flag Graduates ISCED 8 - gender</th>\n",
              "      <th>Graduates at ISCED 8 - national</th>\n",
              "      <th>Graduates at ISCED 8 - foreigner</th>\n",
              "      <th>Graduates at ISCED 8 - citizenship unclassified</th>\n",
              "      <th>Flag Graduates ISCED 8 - citizenship</th>\n",
              "      <th>Graduates at ISCED 8 - resident</th>\n",
              "      <th>Graduates at ISCED 8 - mobile</th>\n",
              "      <th>Graduates at ISCED 8 - mobility unclassified</th>\n",
              "      <th>Flag Graduates ISCED 8 - mobility</th>\n",
              "      <th>Graduates at ISCED 8 - Generic programmes and qualifications</th>\n",
              "      <th>Graduates at ISCED 8 - Education</th>\n",
              "      <th>Graduates at ISCED 8 - Arts and Humanities</th>\n",
              "      <th>Graduates at ISCED 8 - Social sciences, journalism and information</th>\n",
              "      <th>Graduates at ISCED 8 - Business, administration and law</th>\n",
              "      <th>Graduates at ISCED 8 - Natural sciences, mathematics and statistics</th>\n",
              "      <th>Graduates at ISCED 8 - Information and Communication Technologies</th>\n",
              "      <th>Graduates at ISCED 8 - Engineering, manufacturing and construction</th>\n",
              "      <th>Graduates at ISCED 8 - Agriculture, forestry, fisheries and veterinary</th>\n",
              "      <th>Graduates at ISCED 8 - Health and welfare</th>\n",
              "      <th>Graduates at ISCED 8 - Services</th>\n",
              "      <th>Graduates at ISCED 8 - ISCED-FoE unclassified</th>\n",
              "      <th>Flag Graduates ISCED 8 - ISCED-FoE</th>\n",
              "      <th>Total graduates at ISCED 8</th>\n",
              "      <th>Flag Total graduates ISCED 8</th>\n",
              "      <th>Notes on graduates at ISCED 8</th>\n",
              "      <th>Included in official R&amp;D statistics</th>\n",
              "      <th>R&amp;D Expenditure (EURO)</th>\n",
              "      <th>Flag R&amp;D Expenditure</th>\n",
              "      <th>EU-FP Researchers mobility</th>\n",
              "      <th>EU-FP Staff mobility</th>\n",
              "      <th>EU-FP Research training cooperation</th>\n",
              "      <th>Flag Researchers mobility</th>\n",
              "      <th>Notes on research activities</th>\n",
              "      <th>PhD intensity</th>\n",
              "      <th>Flag PhD intensity</th>\n",
              "      <th>Erasmus incoming students - ISCED 8</th>\n",
              "      <th>Erasmus outgoing students - ISCED 8</th>\n",
              "    </tr>\n",
              "  </thead>\n",
              "  <tbody>\n",
              "    <tr>\n",
              "      <th>0</th>\n",
              "      <td>FR0001.2017</td>\n",
              "      <td>FR0001</td>\n",
              "      <td>0060931E</td>\n",
              "      <td>University of Nice Sophia Antipolis</td>\n",
              "      <td>FR</td>\n",
              "      <td>FRL0</td>\n",
              "      <td>43,7168812836</td>\n",
              "      <td>7,26729398492</td>\n",
              "      <td>m</td>\n",
              "      <td>m</td>\n",
              "      <td>m</td>\n",
              "      <td>m</td>\n",
              "      <td>m</td>\n",
              "      <td>m</td>\n",
              "      <td>m</td>\n",
              "      <td>1</td>\n",
              "      <td>m</td>\n",
              "      <td>m</td>\n",
              "      <td>m</td>\n",
              "      <td>NaN</td>\n",
              "      <td>m</td>\n",
              "      <td>m</td>\n",
              "      <td>m</td>\n",
              "      <td>NaN</td>\n",
              "      <td>m</td>\n",
              "      <td>m</td>\n",
              "      <td>m</td>\n",
              "      <td>NaN</td>\n",
              "      <td>m</td>\n",
              "      <td>m</td>\n",
              "      <td>m</td>\n",
              "      <td>m</td>\n",
              "      <td>m</td>\n",
              "      <td>m</td>\n",
              "      <td>m</td>\n",
              "      <td>m</td>\n",
              "      <td>m</td>\n",
              "      <td>m</td>\n",
              "      <td>m</td>\n",
              "      <td>m</td>\n",
              "      <td>...</td>\n",
              "      <td>m</td>\n",
              "      <td>m</td>\n",
              "      <td>m</td>\n",
              "      <td>NaN</td>\n",
              "      <td>m</td>\n",
              "      <td>m</td>\n",
              "      <td>m</td>\n",
              "      <td>NaN</td>\n",
              "      <td>m</td>\n",
              "      <td>m</td>\n",
              "      <td>m</td>\n",
              "      <td>NaN</td>\n",
              "      <td>m</td>\n",
              "      <td>m</td>\n",
              "      <td>m</td>\n",
              "      <td>m</td>\n",
              "      <td>m</td>\n",
              "      <td>m</td>\n",
              "      <td>m</td>\n",
              "      <td>m</td>\n",
              "      <td>m</td>\n",
              "      <td>m</td>\n",
              "      <td>m</td>\n",
              "      <td>m</td>\n",
              "      <td>NaN</td>\n",
              "      <td>m</td>\n",
              "      <td>NaN</td>\n",
              "      <td>NaN</td>\n",
              "      <td>m</td>\n",
              "      <td>m</td>\n",
              "      <td>NaN</td>\n",
              "      <td>m</td>\n",
              "      <td>m</td>\n",
              "      <td>m</td>\n",
              "      <td>NaN</td>\n",
              "      <td>NaN</td>\n",
              "      <td>m</td>\n",
              "      <td>NaN</td>\n",
              "      <td>m</td>\n",
              "      <td>m</td>\n",
              "    </tr>\n",
              "    <tr>\n",
              "      <th>1</th>\n",
              "      <td>FR0002.2017</td>\n",
              "      <td>FR0002</td>\n",
              "      <td>0101060Y</td>\n",
              "      <td>University of Technology of Troyes</td>\n",
              "      <td>FR</td>\n",
              "      <td>FRF2</td>\n",
              "      <td>48,269146</td>\n",
              "      <td>4,066716</td>\n",
              "      <td>m</td>\n",
              "      <td>m</td>\n",
              "      <td>m</td>\n",
              "      <td>m</td>\n",
              "      <td>m</td>\n",
              "      <td>m</td>\n",
              "      <td>m</td>\n",
              "      <td>1</td>\n",
              "      <td>m</td>\n",
              "      <td>m</td>\n",
              "      <td>m</td>\n",
              "      <td>NaN</td>\n",
              "      <td>m</td>\n",
              "      <td>m</td>\n",
              "      <td>m</td>\n",
              "      <td>NaN</td>\n",
              "      <td>m</td>\n",
              "      <td>m</td>\n",
              "      <td>m</td>\n",
              "      <td>NaN</td>\n",
              "      <td>m</td>\n",
              "      <td>m</td>\n",
              "      <td>m</td>\n",
              "      <td>m</td>\n",
              "      <td>m</td>\n",
              "      <td>m</td>\n",
              "      <td>m</td>\n",
              "      <td>m</td>\n",
              "      <td>m</td>\n",
              "      <td>m</td>\n",
              "      <td>m</td>\n",
              "      <td>m</td>\n",
              "      <td>...</td>\n",
              "      <td>m</td>\n",
              "      <td>m</td>\n",
              "      <td>m</td>\n",
              "      <td>NaN</td>\n",
              "      <td>m</td>\n",
              "      <td>m</td>\n",
              "      <td>m</td>\n",
              "      <td>NaN</td>\n",
              "      <td>m</td>\n",
              "      <td>m</td>\n",
              "      <td>m</td>\n",
              "      <td>NaN</td>\n",
              "      <td>m</td>\n",
              "      <td>m</td>\n",
              "      <td>m</td>\n",
              "      <td>m</td>\n",
              "      <td>m</td>\n",
              "      <td>m</td>\n",
              "      <td>m</td>\n",
              "      <td>m</td>\n",
              "      <td>m</td>\n",
              "      <td>m</td>\n",
              "      <td>m</td>\n",
              "      <td>m</td>\n",
              "      <td>NaN</td>\n",
              "      <td>m</td>\n",
              "      <td>NaN</td>\n",
              "      <td>NaN</td>\n",
              "      <td>m</td>\n",
              "      <td>m</td>\n",
              "      <td>NaN</td>\n",
              "      <td>m</td>\n",
              "      <td>m</td>\n",
              "      <td>m</td>\n",
              "      <td>NaN</td>\n",
              "      <td>NaN</td>\n",
              "      <td>m</td>\n",
              "      <td>NaN</td>\n",
              "      <td>m</td>\n",
              "      <td>m</td>\n",
              "    </tr>\n",
              "    <tr>\n",
              "      <th>2</th>\n",
              "      <td>FR0003.2017</td>\n",
              "      <td>FR0003</td>\n",
              "      <td>0130230E</td>\n",
              "      <td>NaN</td>\n",
              "      <td>FR</td>\n",
              "      <td>FRL0</td>\n",
              "      <td>43,624831</td>\n",
              "      <td>5,111683</td>\n",
              "      <td>m</td>\n",
              "      <td>m</td>\n",
              "      <td>m</td>\n",
              "      <td>m</td>\n",
              "      <td>m</td>\n",
              "      <td>m</td>\n",
              "      <td>m</td>\n",
              "      <td>0</td>\n",
              "      <td>a</td>\n",
              "      <td>a</td>\n",
              "      <td>a</td>\n",
              "      <td>NaN</td>\n",
              "      <td>a</td>\n",
              "      <td>a</td>\n",
              "      <td>a</td>\n",
              "      <td>NaN</td>\n",
              "      <td>a</td>\n",
              "      <td>a</td>\n",
              "      <td>a</td>\n",
              "      <td>NaN</td>\n",
              "      <td>a</td>\n",
              "      <td>a</td>\n",
              "      <td>a</td>\n",
              "      <td>a</td>\n",
              "      <td>a</td>\n",
              "      <td>a</td>\n",
              "      <td>a</td>\n",
              "      <td>a</td>\n",
              "      <td>a</td>\n",
              "      <td>a</td>\n",
              "      <td>a</td>\n",
              "      <td>a</td>\n",
              "      <td>...</td>\n",
              "      <td>a</td>\n",
              "      <td>a</td>\n",
              "      <td>a</td>\n",
              "      <td>NaN</td>\n",
              "      <td>a</td>\n",
              "      <td>a</td>\n",
              "      <td>a</td>\n",
              "      <td>NaN</td>\n",
              "      <td>a</td>\n",
              "      <td>a</td>\n",
              "      <td>a</td>\n",
              "      <td>NaN</td>\n",
              "      <td>a</td>\n",
              "      <td>a</td>\n",
              "      <td>a</td>\n",
              "      <td>a</td>\n",
              "      <td>a</td>\n",
              "      <td>a</td>\n",
              "      <td>a</td>\n",
              "      <td>a</td>\n",
              "      <td>a</td>\n",
              "      <td>a</td>\n",
              "      <td>a</td>\n",
              "      <td>a</td>\n",
              "      <td>NaN</td>\n",
              "      <td>a</td>\n",
              "      <td>NaN</td>\n",
              "      <td>NaN</td>\n",
              "      <td>m</td>\n",
              "      <td>a</td>\n",
              "      <td>NaN</td>\n",
              "      <td>m</td>\n",
              "      <td>m</td>\n",
              "      <td>m</td>\n",
              "      <td>NaN</td>\n",
              "      <td>NaN</td>\n",
              "      <td>a</td>\n",
              "      <td>NaN</td>\n",
              "      <td>m</td>\n",
              "      <td>m</td>\n",
              "    </tr>\n",
              "    <tr>\n",
              "      <th>3</th>\n",
              "      <td>FR0004.2017</td>\n",
              "      <td>FR0004</td>\n",
              "      <td>0130236L</td>\n",
              "      <td>NaN</td>\n",
              "      <td>FR</td>\n",
              "      <td>FRL0</td>\n",
              "      <td>43,229591</td>\n",
              "      <td>5,434393</td>\n",
              "      <td>m</td>\n",
              "      <td>m</td>\n",
              "      <td>m</td>\n",
              "      <td>m</td>\n",
              "      <td>m</td>\n",
              "      <td>m</td>\n",
              "      <td>m</td>\n",
              "      <td>m</td>\n",
              "      <td>x</td>\n",
              "      <td>x</td>\n",
              "      <td>x</td>\n",
              "      <td>NaN</td>\n",
              "      <td>x</td>\n",
              "      <td>x</td>\n",
              "      <td>x</td>\n",
              "      <td>NaN</td>\n",
              "      <td>x</td>\n",
              "      <td>x</td>\n",
              "      <td>x</td>\n",
              "      <td>NaN</td>\n",
              "      <td>x</td>\n",
              "      <td>x</td>\n",
              "      <td>x</td>\n",
              "      <td>x</td>\n",
              "      <td>x</td>\n",
              "      <td>x</td>\n",
              "      <td>x</td>\n",
              "      <td>x</td>\n",
              "      <td>x</td>\n",
              "      <td>x</td>\n",
              "      <td>x</td>\n",
              "      <td>x</td>\n",
              "      <td>...</td>\n",
              "      <td>m</td>\n",
              "      <td>m</td>\n",
              "      <td>m</td>\n",
              "      <td>NaN</td>\n",
              "      <td>m</td>\n",
              "      <td>m</td>\n",
              "      <td>m</td>\n",
              "      <td>NaN</td>\n",
              "      <td>m</td>\n",
              "      <td>m</td>\n",
              "      <td>m</td>\n",
              "      <td>NaN</td>\n",
              "      <td>m</td>\n",
              "      <td>m</td>\n",
              "      <td>m</td>\n",
              "      <td>m</td>\n",
              "      <td>m</td>\n",
              "      <td>m</td>\n",
              "      <td>m</td>\n",
              "      <td>m</td>\n",
              "      <td>m</td>\n",
              "      <td>m</td>\n",
              "      <td>m</td>\n",
              "      <td>m</td>\n",
              "      <td>NaN</td>\n",
              "      <td>m</td>\n",
              "      <td>NaN</td>\n",
              "      <td>NaN</td>\n",
              "      <td>m</td>\n",
              "      <td>m</td>\n",
              "      <td>NaN</td>\n",
              "      <td>m</td>\n",
              "      <td>m</td>\n",
              "      <td>m</td>\n",
              "      <td>NaN</td>\n",
              "      <td>NaN</td>\n",
              "      <td>m</td>\n",
              "      <td>NaN</td>\n",
              "      <td>m</td>\n",
              "      <td>m</td>\n",
              "    </tr>\n",
              "    <tr>\n",
              "      <th>4</th>\n",
              "      <td>FR0005.2017</td>\n",
              "      <td>FR0005</td>\n",
              "      <td>0132557J</td>\n",
              "      <td>NaN</td>\n",
              "      <td>FR</td>\n",
              "      <td>FRL0</td>\n",
              "      <td>43,228555</td>\n",
              "      <td>5,43565</td>\n",
              "      <td>m</td>\n",
              "      <td>m</td>\n",
              "      <td>m</td>\n",
              "      <td>m</td>\n",
              "      <td>m</td>\n",
              "      <td>m</td>\n",
              "      <td>m</td>\n",
              "      <td>m</td>\n",
              "      <td>x</td>\n",
              "      <td>x</td>\n",
              "      <td>x</td>\n",
              "      <td>NaN</td>\n",
              "      <td>x</td>\n",
              "      <td>x</td>\n",
              "      <td>x</td>\n",
              "      <td>NaN</td>\n",
              "      <td>x</td>\n",
              "      <td>x</td>\n",
              "      <td>x</td>\n",
              "      <td>NaN</td>\n",
              "      <td>x</td>\n",
              "      <td>x</td>\n",
              "      <td>x</td>\n",
              "      <td>x</td>\n",
              "      <td>x</td>\n",
              "      <td>x</td>\n",
              "      <td>x</td>\n",
              "      <td>x</td>\n",
              "      <td>x</td>\n",
              "      <td>x</td>\n",
              "      <td>x</td>\n",
              "      <td>x</td>\n",
              "      <td>...</td>\n",
              "      <td>m</td>\n",
              "      <td>m</td>\n",
              "      <td>m</td>\n",
              "      <td>NaN</td>\n",
              "      <td>m</td>\n",
              "      <td>m</td>\n",
              "      <td>m</td>\n",
              "      <td>NaN</td>\n",
              "      <td>m</td>\n",
              "      <td>m</td>\n",
              "      <td>m</td>\n",
              "      <td>NaN</td>\n",
              "      <td>m</td>\n",
              "      <td>m</td>\n",
              "      <td>m</td>\n",
              "      <td>m</td>\n",
              "      <td>m</td>\n",
              "      <td>m</td>\n",
              "      <td>m</td>\n",
              "      <td>m</td>\n",
              "      <td>m</td>\n",
              "      <td>m</td>\n",
              "      <td>m</td>\n",
              "      <td>m</td>\n",
              "      <td>NaN</td>\n",
              "      <td>m</td>\n",
              "      <td>NaN</td>\n",
              "      <td>NaN</td>\n",
              "      <td>m</td>\n",
              "      <td>m</td>\n",
              "      <td>NaN</td>\n",
              "      <td>m</td>\n",
              "      <td>m</td>\n",
              "      <td>m</td>\n",
              "      <td>NaN</td>\n",
              "      <td>NaN</td>\n",
              "      <td>m</td>\n",
              "      <td>NaN</td>\n",
              "      <td>m</td>\n",
              "      <td>m</td>\n",
              "    </tr>\n",
              "  </tbody>\n",
              "</table>\n",
              "<p>5 rows × 84 columns</p>\n",
              "</div>"
            ],
            "text/plain": [
              "  ï»¿ETER ID Year  ... Erasmus outgoing students - ISCED 8\n",
              "0     FR0001.2017  ...                                   m\n",
              "1     FR0002.2017  ...                                   m\n",
              "2     FR0003.2017  ...                                   m\n",
              "3     FR0004.2017  ...                                   m\n",
              "4     FR0005.2017  ...                                   m\n",
              "\n",
              "[5 rows x 84 columns]"
            ]
          },
          "metadata": {
            "tags": []
          },
          "execution_count": 3
        }
      ]
    },
    {
      "cell_type": "code",
      "metadata": {
        "id": "J2g4tCno9bJU",
        "colab_type": "code",
        "colab": {
          "base_uri": "https://localhost:8080/",
          "height": 34
        },
        "outputId": "bd47bc13-3e99-41f3-9884-f8be1ab30dd1"
      },
      "source": [
        "list_country_code = ['IT', 'SE', 'NO', 'FI', 'PT', 'ES']\n",
        "raw_data = raw_data.loc[raw_data[\"Country Code\"].isin(list_country_code)]\n",
        "set(raw_data[\"Country Code\"])"
      ],
      "execution_count": 4,
      "outputs": [
        {
          "output_type": "execute_result",
          "data": {
            "text/plain": [
              "{'ES', 'FI', 'IT', 'NO', 'PT', 'SE'}"
            ]
          },
          "metadata": {
            "tags": []
          },
          "execution_count": 4
        }
      ]
    },
    {
      "cell_type": "code",
      "metadata": {
        "id": "KZHJFOcBAMd0",
        "colab_type": "code",
        "colab": {}
      },
      "source": [
        "variables = ['ï»¿ETER ID Year', 'ETER ID', 'National identifier', 'English Institution Name',\n",
        "       'Country Code', 'Region of establishment (NUTS 2)',\n",
        "       'Students enrolled at ISCED 8 - men',\n",
        "       'Students enrolled at ISCED 8 - women',\n",
        "       'Students enrolled ISCED 8 - gender unclassified',\n",
        "       'Students enrolled at ISCED 8 - national',\n",
        "       'Students enrolled at ISCED 8 - foreigner',\n",
        "       'Students enrolled at ISCED 8 - resident',\n",
        "       'Students enrolled at ISCED 8 - mobile',\n",
        "       'Total students enrolled at ISCED 8', 'Graduates at ISCED 8 - men',\n",
        "       'Graduates at ISCED 8 - women',\n",
        "       'Graduates at ISCED 8 - gender unclassified',\n",
        "       'Graduates at ISCED 8 - national',\n",
        "       'Graduates at ISCED 8 - foreigner',\n",
        "       'Graduates at ISCED 8 - resident', 'Graduates at ISCED 8 - mobile',\n",
        "       'Total graduates at ISCED 8','Erasmus incoming students - ISCED 8',\n",
        "       'Erasmus outgoing students - ISCED 8', 'PhD intensity', \n",
        "       'Geographic coordinates - latitude',\n",
        "       'Geographic coordinates - longitude', ]"
      ],
      "execution_count": 0,
      "outputs": []
    },
    {
      "cell_type": "markdown",
      "metadata": {
        "id": "6LTnlSbVBhRV",
        "colab_type": "text"
      },
      "source": [
        "Accuracy - Research"
      ]
    },
    {
      "cell_type": "code",
      "metadata": {
        "id": "BmA_UkhYBe3T",
        "colab_type": "code",
        "colab": {}
      },
      "source": [
        "missing_values = ['a', 'c', 'm', 's', 'x', 'xc', 'xr', 'nc']\n",
        "raw_data_r = raw_data[variables]\n",
        "\n",
        "# before accuracy \n",
        "before_accuracy=defaultdict()\n",
        "for j in raw_data_r.columns:\n",
        "    counter=0\n",
        "    for i in range(len(list((raw_data_r[j])))):\n",
        "        if str(list(raw_data_r[j])[i]).isdigit():\n",
        "            if int(list(raw_data_r[j])[i])>=0:\n",
        "                counter+=1\n",
        "        else:\n",
        "          if list(raw_data_r[j])[i] in (missing_values):\n",
        "            counter+=1\n",
        "\n",
        "    before_accuracy[j]=counter/len(raw_data)"
      ],
      "execution_count": 0,
      "outputs": []
    },
    {
      "cell_type": "code",
      "metadata": {
        "id": "P3YjZ09jBe_P",
        "colab_type": "code",
        "colab": {
          "base_uri": "https://localhost:8080/",
          "height": 638
        },
        "outputId": "296b8212-cbd7-4714-a8c0-3b45821413c6"
      },
      "source": [
        "var_check = ['Students enrolled at ISCED 8 - men',\n",
        "       'Students enrolled at ISCED 8 - women',\n",
        "       'Students enrolled ISCED 8 - gender unclassified',\n",
        "       'Students enrolled at ISCED 8 - national',\n",
        "       'Students enrolled at ISCED 8 - foreigner',\n",
        "       'Students enrolled at ISCED 8 - resident',\n",
        "       'Students enrolled at ISCED 8 - mobile',\n",
        "       'Total students enrolled at ISCED 8', 'Graduates at ISCED 8 - men',\n",
        "       'Graduates at ISCED 8 - women',\n",
        "       'Graduates at ISCED 8 - gender unclassified',\n",
        "       'Graduates at ISCED 8 - national',\n",
        "       'Graduates at ISCED 8 - foreigner',\n",
        "       'Graduates at ISCED 8 - resident', 'Graduates at ISCED 8 - mobile',\n",
        "       'Total graduates at ISCED 8','Erasmus incoming students - ISCED 8',\n",
        "       'Erasmus outgoing students - ISCED 8', 'PhD intensity'\n",
        "        ]\n",
        "pd.DataFrame.from_dict(before_accuracy, orient='index').loc[var_check, :]"
      ],
      "execution_count": 7,
      "outputs": [
        {
          "output_type": "execute_result",
          "data": {
            "text/html": [
              "<div>\n",
              "<style scoped>\n",
              "    .dataframe tbody tr th:only-of-type {\n",
              "        vertical-align: middle;\n",
              "    }\n",
              "\n",
              "    .dataframe tbody tr th {\n",
              "        vertical-align: top;\n",
              "    }\n",
              "\n",
              "    .dataframe thead th {\n",
              "        text-align: right;\n",
              "    }\n",
              "</style>\n",
              "<table border=\"1\" class=\"dataframe\">\n",
              "  <thead>\n",
              "    <tr style=\"text-align: right;\">\n",
              "      <th></th>\n",
              "      <th>0</th>\n",
              "    </tr>\n",
              "  </thead>\n",
              "  <tbody>\n",
              "    <tr>\n",
              "      <th>Students enrolled at ISCED 8 - men</th>\n",
              "      <td>1.000000</td>\n",
              "    </tr>\n",
              "    <tr>\n",
              "      <th>Students enrolled at ISCED 8 - women</th>\n",
              "      <td>1.000000</td>\n",
              "    </tr>\n",
              "    <tr>\n",
              "      <th>Students enrolled ISCED 8 - gender unclassified</th>\n",
              "      <td>1.000000</td>\n",
              "    </tr>\n",
              "    <tr>\n",
              "      <th>Students enrolled at ISCED 8 - national</th>\n",
              "      <td>1.000000</td>\n",
              "    </tr>\n",
              "    <tr>\n",
              "      <th>Students enrolled at ISCED 8 - foreigner</th>\n",
              "      <td>1.000000</td>\n",
              "    </tr>\n",
              "    <tr>\n",
              "      <th>Students enrolled at ISCED 8 - resident</th>\n",
              "      <td>1.000000</td>\n",
              "    </tr>\n",
              "    <tr>\n",
              "      <th>Students enrolled at ISCED 8 - mobile</th>\n",
              "      <td>1.000000</td>\n",
              "    </tr>\n",
              "    <tr>\n",
              "      <th>Total students enrolled at ISCED 8</th>\n",
              "      <td>1.000000</td>\n",
              "    </tr>\n",
              "    <tr>\n",
              "      <th>Graduates at ISCED 8 - men</th>\n",
              "      <td>1.000000</td>\n",
              "    </tr>\n",
              "    <tr>\n",
              "      <th>Graduates at ISCED 8 - women</th>\n",
              "      <td>1.000000</td>\n",
              "    </tr>\n",
              "    <tr>\n",
              "      <th>Graduates at ISCED 8 - gender unclassified</th>\n",
              "      <td>1.000000</td>\n",
              "    </tr>\n",
              "    <tr>\n",
              "      <th>Graduates at ISCED 8 - national</th>\n",
              "      <td>1.000000</td>\n",
              "    </tr>\n",
              "    <tr>\n",
              "      <th>Graduates at ISCED 8 - foreigner</th>\n",
              "      <td>1.000000</td>\n",
              "    </tr>\n",
              "    <tr>\n",
              "      <th>Graduates at ISCED 8 - resident</th>\n",
              "      <td>1.000000</td>\n",
              "    </tr>\n",
              "    <tr>\n",
              "      <th>Graduates at ISCED 8 - mobile</th>\n",
              "      <td>1.000000</td>\n",
              "    </tr>\n",
              "    <tr>\n",
              "      <th>Total graduates at ISCED 8</th>\n",
              "      <td>1.000000</td>\n",
              "    </tr>\n",
              "    <tr>\n",
              "      <th>Erasmus incoming students - ISCED 8</th>\n",
              "      <td>1.000000</td>\n",
              "    </tr>\n",
              "    <tr>\n",
              "      <th>Erasmus outgoing students - ISCED 8</th>\n",
              "      <td>1.000000</td>\n",
              "    </tr>\n",
              "    <tr>\n",
              "      <th>PhD intensity</th>\n",
              "      <td>0.566257</td>\n",
              "    </tr>\n",
              "  </tbody>\n",
              "</table>\n",
              "</div>"
            ],
            "text/plain": [
              "                                                        0\n",
              "Students enrolled at ISCED 8 - men               1.000000\n",
              "Students enrolled at ISCED 8 - women             1.000000\n",
              "Students enrolled ISCED 8 - gender unclassified  1.000000\n",
              "Students enrolled at ISCED 8 - national          1.000000\n",
              "Students enrolled at ISCED 8 - foreigner         1.000000\n",
              "Students enrolled at ISCED 8 - resident          1.000000\n",
              "Students enrolled at ISCED 8 - mobile            1.000000\n",
              "Total students enrolled at ISCED 8               1.000000\n",
              "Graduates at ISCED 8 - men                       1.000000\n",
              "Graduates at ISCED 8 - women                     1.000000\n",
              "Graduates at ISCED 8 - gender unclassified       1.000000\n",
              "Graduates at ISCED 8 - national                  1.000000\n",
              "Graduates at ISCED 8 - foreigner                 1.000000\n",
              "Graduates at ISCED 8 - resident                  1.000000\n",
              "Graduates at ISCED 8 - mobile                    1.000000\n",
              "Total graduates at ISCED 8                       1.000000\n",
              "Erasmus incoming students - ISCED 8              1.000000\n",
              "Erasmus outgoing students - ISCED 8              1.000000\n",
              "PhD intensity                                    0.566257"
            ]
          },
          "metadata": {
            "tags": []
          },
          "execution_count": 7
        }
      ]
    },
    {
      "cell_type": "code",
      "metadata": {
        "id": "l5fibS45KZ0h",
        "colab_type": "code",
        "colab": {
          "base_uri": "https://localhost:8080/",
          "height": 139
        },
        "outputId": "4a263113-2517-423d-a862-6d680f41ff58"
      },
      "source": [
        "for i in var_check:\n",
        "    aux_list=[]\n",
        "    for j in list(raw_data_r[i]):\n",
        "        try:\n",
        "            aux_list.append(str(int(j)))\n",
        "        except:\n",
        "            try:\n",
        "                aux_list.append(str(int(round(float('.'.join((j.split(','))))))))\n",
        "            except:\n",
        "                aux_list.append(j)\n",
        "    raw_data_r[i]=aux_list"
      ],
      "execution_count": 8,
      "outputs": [
        {
          "output_type": "stream",
          "text": [
            "/usr/local/lib/python3.6/dist-packages/ipykernel_launcher.py:11: SettingWithCopyWarning: \n",
            "A value is trying to be set on a copy of a slice from a DataFrame.\n",
            "Try using .loc[row_indexer,col_indexer] = value instead\n",
            "\n",
            "See the caveats in the documentation: https://pandas.pydata.org/pandas-docs/stable/user_guide/indexing.html#returning-a-view-versus-a-copy\n",
            "  # This is added back by InteractiveShellApp.init_path()\n"
          ],
          "name": "stderr"
        }
      ]
    },
    {
      "cell_type": "code",
      "metadata": {
        "id": "8_IUEKV7BfGp",
        "colab_type": "code",
        "colab": {}
      },
      "source": [
        "# after accuracy\n",
        "raw_data_r=raw_data_r.replace(['a', 'c', 'm', 's', 'x', 'xc', 'xr'],0)\n",
        "raw_data_r=raw_data_r.fillna(0)\n",
        "\n",
        "after_accuracy=defaultdict()\n",
        "for j in var_check:\n",
        "    counter=0\n",
        "    for i in range(len(list((raw_data_r[j])))):\n",
        "        if str(list(raw_data_r[j])[i]).isdigit():\n",
        "            if int(list(raw_data_r[j])[i])>=0:\n",
        "                counter+=1\n",
        "        else:\n",
        "            if list(raw_data_r[j])[i] in (missing_values):\n",
        "                counter+=1\n",
        "    after_accuracy[j]=counter/len(raw_data)"
      ],
      "execution_count": 0,
      "outputs": []
    },
    {
      "cell_type": "code",
      "metadata": {
        "id": "AdKioNaYBfNC",
        "colab_type": "code",
        "colab": {
          "base_uri": "https://localhost:8080/",
          "height": 638
        },
        "outputId": "f736fce4-ff8f-4abe-cfd5-07d8c9374b3b"
      },
      "source": [
        "pd.DataFrame.from_dict(after_accuracy, orient='index').loc[var_check, :]"
      ],
      "execution_count": 10,
      "outputs": [
        {
          "output_type": "execute_result",
          "data": {
            "text/html": [
              "<div>\n",
              "<style scoped>\n",
              "    .dataframe tbody tr th:only-of-type {\n",
              "        vertical-align: middle;\n",
              "    }\n",
              "\n",
              "    .dataframe tbody tr th {\n",
              "        vertical-align: top;\n",
              "    }\n",
              "\n",
              "    .dataframe thead th {\n",
              "        text-align: right;\n",
              "    }\n",
              "</style>\n",
              "<table border=\"1\" class=\"dataframe\">\n",
              "  <thead>\n",
              "    <tr style=\"text-align: right;\">\n",
              "      <th></th>\n",
              "      <th>0</th>\n",
              "    </tr>\n",
              "  </thead>\n",
              "  <tbody>\n",
              "    <tr>\n",
              "      <th>Students enrolled at ISCED 8 - men</th>\n",
              "      <td>1.0</td>\n",
              "    </tr>\n",
              "    <tr>\n",
              "      <th>Students enrolled at ISCED 8 - women</th>\n",
              "      <td>1.0</td>\n",
              "    </tr>\n",
              "    <tr>\n",
              "      <th>Students enrolled ISCED 8 - gender unclassified</th>\n",
              "      <td>1.0</td>\n",
              "    </tr>\n",
              "    <tr>\n",
              "      <th>Students enrolled at ISCED 8 - national</th>\n",
              "      <td>1.0</td>\n",
              "    </tr>\n",
              "    <tr>\n",
              "      <th>Students enrolled at ISCED 8 - foreigner</th>\n",
              "      <td>1.0</td>\n",
              "    </tr>\n",
              "    <tr>\n",
              "      <th>Students enrolled at ISCED 8 - resident</th>\n",
              "      <td>1.0</td>\n",
              "    </tr>\n",
              "    <tr>\n",
              "      <th>Students enrolled at ISCED 8 - mobile</th>\n",
              "      <td>1.0</td>\n",
              "    </tr>\n",
              "    <tr>\n",
              "      <th>Total students enrolled at ISCED 8</th>\n",
              "      <td>1.0</td>\n",
              "    </tr>\n",
              "    <tr>\n",
              "      <th>Graduates at ISCED 8 - men</th>\n",
              "      <td>1.0</td>\n",
              "    </tr>\n",
              "    <tr>\n",
              "      <th>Graduates at ISCED 8 - women</th>\n",
              "      <td>1.0</td>\n",
              "    </tr>\n",
              "    <tr>\n",
              "      <th>Graduates at ISCED 8 - gender unclassified</th>\n",
              "      <td>1.0</td>\n",
              "    </tr>\n",
              "    <tr>\n",
              "      <th>Graduates at ISCED 8 - national</th>\n",
              "      <td>1.0</td>\n",
              "    </tr>\n",
              "    <tr>\n",
              "      <th>Graduates at ISCED 8 - foreigner</th>\n",
              "      <td>1.0</td>\n",
              "    </tr>\n",
              "    <tr>\n",
              "      <th>Graduates at ISCED 8 - resident</th>\n",
              "      <td>1.0</td>\n",
              "    </tr>\n",
              "    <tr>\n",
              "      <th>Graduates at ISCED 8 - mobile</th>\n",
              "      <td>1.0</td>\n",
              "    </tr>\n",
              "    <tr>\n",
              "      <th>Total graduates at ISCED 8</th>\n",
              "      <td>1.0</td>\n",
              "    </tr>\n",
              "    <tr>\n",
              "      <th>Erasmus incoming students - ISCED 8</th>\n",
              "      <td>1.0</td>\n",
              "    </tr>\n",
              "    <tr>\n",
              "      <th>Erasmus outgoing students - ISCED 8</th>\n",
              "      <td>1.0</td>\n",
              "    </tr>\n",
              "    <tr>\n",
              "      <th>PhD intensity</th>\n",
              "      <td>1.0</td>\n",
              "    </tr>\n",
              "  </tbody>\n",
              "</table>\n",
              "</div>"
            ],
            "text/plain": [
              "                                                   0\n",
              "Students enrolled at ISCED 8 - men               1.0\n",
              "Students enrolled at ISCED 8 - women             1.0\n",
              "Students enrolled ISCED 8 - gender unclassified  1.0\n",
              "Students enrolled at ISCED 8 - national          1.0\n",
              "Students enrolled at ISCED 8 - foreigner         1.0\n",
              "Students enrolled at ISCED 8 - resident          1.0\n",
              "Students enrolled at ISCED 8 - mobile            1.0\n",
              "Total students enrolled at ISCED 8               1.0\n",
              "Graduates at ISCED 8 - men                       1.0\n",
              "Graduates at ISCED 8 - women                     1.0\n",
              "Graduates at ISCED 8 - gender unclassified       1.0\n",
              "Graduates at ISCED 8 - national                  1.0\n",
              "Graduates at ISCED 8 - foreigner                 1.0\n",
              "Graduates at ISCED 8 - resident                  1.0\n",
              "Graduates at ISCED 8 - mobile                    1.0\n",
              "Total graduates at ISCED 8                       1.0\n",
              "Erasmus incoming students - ISCED 8              1.0\n",
              "Erasmus outgoing students - ISCED 8              1.0\n",
              "PhD intensity                                    1.0"
            ]
          },
          "metadata": {
            "tags": []
          },
          "execution_count": 10
        }
      ]
    },
    {
      "cell_type": "markdown",
      "metadata": {
        "id": "SC2SAEYYL3Uv",
        "colab_type": "text"
      },
      "source": [
        "Completeness - Ricerca"
      ]
    },
    {
      "cell_type": "code",
      "metadata": {
        "id": "E1p9ziBjBfTK",
        "colab_type": "code",
        "colab": {}
      },
      "source": [
        "raw_data_completeness = raw_data[variables]"
      ],
      "execution_count": 0,
      "outputs": []
    },
    {
      "cell_type": "code",
      "metadata": {
        "id": "JAgkTo6MBfZe",
        "colab_type": "code",
        "colab": {
          "base_uri": "https://localhost:8080/",
          "height": 476
        },
        "outputId": "f4415c53-2d56-4286-beca-3cbb0e7ef93f"
      },
      "source": [
        "obj = raw_data_completeness.isnull().sum()\n",
        "for key, value in obj.iteritems():\n",
        "    print(key,\",\",value)"
      ],
      "execution_count": 12,
      "outputs": [
        {
          "output_type": "stream",
          "text": [
            "ï»¿ETER ID Year , 0\n",
            "ETER ID , 0\n",
            "National identifier , 0\n",
            "English Institution Name , 18\n",
            "Country Code , 0\n",
            "Region of establishment (NUTS 2) , 0\n",
            "Students enrolled at ISCED 8 - men , 0\n",
            "Students enrolled at ISCED 8 - women , 0\n",
            "Students enrolled ISCED 8 - gender unclassified , 0\n",
            "Students enrolled at ISCED 8 - national , 0\n",
            "Students enrolled at ISCED 8 - foreigner , 0\n",
            "Students enrolled at ISCED 8 - resident , 0\n",
            "Students enrolled at ISCED 8 - mobile , 0\n",
            "Total students enrolled at ISCED 8 , 0\n",
            "Graduates at ISCED 8 - men , 0\n",
            "Graduates at ISCED 8 - women , 0\n",
            "Graduates at ISCED 8 - gender unclassified , 0\n",
            "Graduates at ISCED 8 - national , 0\n",
            "Graduates at ISCED 8 - foreigner , 0\n",
            "Graduates at ISCED 8 - resident , 0\n",
            "Graduates at ISCED 8 - mobile , 0\n",
            "Total graduates at ISCED 8 , 0\n",
            "Erasmus incoming students - ISCED 8 , 0\n",
            "Erasmus outgoing students - ISCED 8 , 0\n",
            "PhD intensity , 0\n",
            "Geographic coordinates - latitude , 0\n",
            "Geographic coordinates - longitude , 0\n"
          ],
          "name": "stdout"
        }
      ]
    },
    {
      "cell_type": "code",
      "metadata": {
        "id": "9AUEegRvBffq",
        "colab_type": "code",
        "colab": {}
      },
      "source": [
        "# Missing values replaced witht the string 'None'\n",
        "raw_data_completeness = raw_data_completeness.replace(missing_values, np.nan) \n",
        "raw_data_completeness = raw_data_completeness.fillna(np.nan)"
      ],
      "execution_count": 0,
      "outputs": []
    },
    {
      "cell_type": "code",
      "metadata": {
        "id": "U12hdkRsk_KI",
        "colab_type": "code",
        "colab": {}
      },
      "source": [
        "for i in var_check:\n",
        "    aux_list=[]\n",
        "    for j in list(raw_data_completeness[i]):\n",
        "        try:\n",
        "            aux_list.append(str(int(j)))\n",
        "        except:\n",
        "            try:\n",
        "                aux_list.append(str(int(round(float('.'.join((j.split(','))))))))\n",
        "            except:\n",
        "                aux_list.append(j)\n",
        "    raw_data_completeness[i]=aux_list"
      ],
      "execution_count": 0,
      "outputs": []
    },
    {
      "cell_type": "code",
      "metadata": {
        "id": "p5AzByqKBfkl",
        "colab_type": "code",
        "colab": {
          "base_uri": "https://localhost:8080/",
          "height": 886
        },
        "outputId": "10fcd344-3032-46a3-9618-a67f93cbf39a"
      },
      "source": [
        "missing = defaultdict()\n",
        "for i in raw_data_completeness.columns:\n",
        "    missing[i] = 1 - Counter(raw_data_completeness[i])['None']/sum(Counter(raw_data_completeness[i]).values())\n",
        "pd.DataFrame.from_dict(missing, orient='index').loc[raw_data_completeness.columns,:]"
      ],
      "execution_count": 15,
      "outputs": [
        {
          "output_type": "execute_result",
          "data": {
            "text/html": [
              "<div>\n",
              "<style scoped>\n",
              "    .dataframe tbody tr th:only-of-type {\n",
              "        vertical-align: middle;\n",
              "    }\n",
              "\n",
              "    .dataframe tbody tr th {\n",
              "        vertical-align: top;\n",
              "    }\n",
              "\n",
              "    .dataframe thead th {\n",
              "        text-align: right;\n",
              "    }\n",
              "</style>\n",
              "<table border=\"1\" class=\"dataframe\">\n",
              "  <thead>\n",
              "    <tr style=\"text-align: right;\">\n",
              "      <th></th>\n",
              "      <th>0</th>\n",
              "    </tr>\n",
              "  </thead>\n",
              "  <tbody>\n",
              "    <tr>\n",
              "      <th>ï»¿ETER ID Year</th>\n",
              "      <td>1.0</td>\n",
              "    </tr>\n",
              "    <tr>\n",
              "      <th>ETER ID</th>\n",
              "      <td>1.0</td>\n",
              "    </tr>\n",
              "    <tr>\n",
              "      <th>National identifier</th>\n",
              "      <td>1.0</td>\n",
              "    </tr>\n",
              "    <tr>\n",
              "      <th>English Institution Name</th>\n",
              "      <td>1.0</td>\n",
              "    </tr>\n",
              "    <tr>\n",
              "      <th>Country Code</th>\n",
              "      <td>1.0</td>\n",
              "    </tr>\n",
              "    <tr>\n",
              "      <th>Region of establishment (NUTS 2)</th>\n",
              "      <td>1.0</td>\n",
              "    </tr>\n",
              "    <tr>\n",
              "      <th>Students enrolled at ISCED 8 - men</th>\n",
              "      <td>1.0</td>\n",
              "    </tr>\n",
              "    <tr>\n",
              "      <th>Students enrolled at ISCED 8 - women</th>\n",
              "      <td>1.0</td>\n",
              "    </tr>\n",
              "    <tr>\n",
              "      <th>Students enrolled ISCED 8 - gender unclassified</th>\n",
              "      <td>1.0</td>\n",
              "    </tr>\n",
              "    <tr>\n",
              "      <th>Students enrolled at ISCED 8 - national</th>\n",
              "      <td>1.0</td>\n",
              "    </tr>\n",
              "    <tr>\n",
              "      <th>Students enrolled at ISCED 8 - foreigner</th>\n",
              "      <td>1.0</td>\n",
              "    </tr>\n",
              "    <tr>\n",
              "      <th>Students enrolled at ISCED 8 - resident</th>\n",
              "      <td>1.0</td>\n",
              "    </tr>\n",
              "    <tr>\n",
              "      <th>Students enrolled at ISCED 8 - mobile</th>\n",
              "      <td>1.0</td>\n",
              "    </tr>\n",
              "    <tr>\n",
              "      <th>Total students enrolled at ISCED 8</th>\n",
              "      <td>1.0</td>\n",
              "    </tr>\n",
              "    <tr>\n",
              "      <th>Graduates at ISCED 8 - men</th>\n",
              "      <td>1.0</td>\n",
              "    </tr>\n",
              "    <tr>\n",
              "      <th>Graduates at ISCED 8 - women</th>\n",
              "      <td>1.0</td>\n",
              "    </tr>\n",
              "    <tr>\n",
              "      <th>Graduates at ISCED 8 - gender unclassified</th>\n",
              "      <td>1.0</td>\n",
              "    </tr>\n",
              "    <tr>\n",
              "      <th>Graduates at ISCED 8 - national</th>\n",
              "      <td>1.0</td>\n",
              "    </tr>\n",
              "    <tr>\n",
              "      <th>Graduates at ISCED 8 - foreigner</th>\n",
              "      <td>1.0</td>\n",
              "    </tr>\n",
              "    <tr>\n",
              "      <th>Graduates at ISCED 8 - resident</th>\n",
              "      <td>1.0</td>\n",
              "    </tr>\n",
              "    <tr>\n",
              "      <th>Graduates at ISCED 8 - mobile</th>\n",
              "      <td>1.0</td>\n",
              "    </tr>\n",
              "    <tr>\n",
              "      <th>Total graduates at ISCED 8</th>\n",
              "      <td>1.0</td>\n",
              "    </tr>\n",
              "    <tr>\n",
              "      <th>Erasmus incoming students - ISCED 8</th>\n",
              "      <td>1.0</td>\n",
              "    </tr>\n",
              "    <tr>\n",
              "      <th>Erasmus outgoing students - ISCED 8</th>\n",
              "      <td>1.0</td>\n",
              "    </tr>\n",
              "    <tr>\n",
              "      <th>PhD intensity</th>\n",
              "      <td>1.0</td>\n",
              "    </tr>\n",
              "    <tr>\n",
              "      <th>Geographic coordinates - latitude</th>\n",
              "      <td>1.0</td>\n",
              "    </tr>\n",
              "    <tr>\n",
              "      <th>Geographic coordinates - longitude</th>\n",
              "      <td>1.0</td>\n",
              "    </tr>\n",
              "  </tbody>\n",
              "</table>\n",
              "</div>"
            ],
            "text/plain": [
              "                                                   0\n",
              "ï»¿ETER ID Year                                  1.0\n",
              "ETER ID                                          1.0\n",
              "National identifier                              1.0\n",
              "English Institution Name                         1.0\n",
              "Country Code                                     1.0\n",
              "Region of establishment (NUTS 2)                 1.0\n",
              "Students enrolled at ISCED 8 - men               1.0\n",
              "Students enrolled at ISCED 8 - women             1.0\n",
              "Students enrolled ISCED 8 - gender unclassified  1.0\n",
              "Students enrolled at ISCED 8 - national          1.0\n",
              "Students enrolled at ISCED 8 - foreigner         1.0\n",
              "Students enrolled at ISCED 8 - resident          1.0\n",
              "Students enrolled at ISCED 8 - mobile            1.0\n",
              "Total students enrolled at ISCED 8               1.0\n",
              "Graduates at ISCED 8 - men                       1.0\n",
              "Graduates at ISCED 8 - women                     1.0\n",
              "Graduates at ISCED 8 - gender unclassified       1.0\n",
              "Graduates at ISCED 8 - national                  1.0\n",
              "Graduates at ISCED 8 - foreigner                 1.0\n",
              "Graduates at ISCED 8 - resident                  1.0\n",
              "Graduates at ISCED 8 - mobile                    1.0\n",
              "Total graduates at ISCED 8                       1.0\n",
              "Erasmus incoming students - ISCED 8              1.0\n",
              "Erasmus outgoing students - ISCED 8              1.0\n",
              "PhD intensity                                    1.0\n",
              "Geographic coordinates - latitude                1.0\n",
              "Geographic coordinates - longitude               1.0"
            ]
          },
          "metadata": {
            "tags": []
          },
          "execution_count": 15
        }
      ]
    },
    {
      "cell_type": "code",
      "metadata": {
        "id": "fAhImO0nr8wO",
        "colab_type": "code",
        "colab": {
          "base_uri": "https://localhost:8080/",
          "height": 221
        },
        "outputId": "50026835-ebd2-4e5e-c7e2-d2686becc3b7"
      },
      "source": [
        "raw_data_completeness.isnull().sum(axis=1)"
      ],
      "execution_count": 17,
      "outputs": [
        {
          "output_type": "execute_result",
          "data": {
            "text/plain": [
              "1178      3\n",
              "1179      3\n",
              "1180      3\n",
              "1181      3\n",
              "1182      3\n",
              "         ..\n",
              "17243    19\n",
              "17244    19\n",
              "17245    19\n",
              "17246     0\n",
              "17247    19\n",
              "Length: 3011, dtype: int64"
            ]
          },
          "metadata": {
            "tags": []
          },
          "execution_count": 17
        }
      ]
    },
    {
      "cell_type": "code",
      "metadata": {
        "id": "7FjVVAn4r82c",
        "colab_type": "code",
        "colab": {}
      },
      "source": [
        ""
      ],
      "execution_count": 0,
      "outputs": []
    },
    {
      "cell_type": "code",
      "metadata": {
        "id": "LrWnsNTelscw",
        "colab_type": "code",
        "colab": {}
      },
      "source": [
        "# Remove the university with low data to improve completeness\n",
        "aux = raw_data_completeness.isnull().sum(axis=1)\n",
        "var = aux[var_check].sum(axis=1, skipna=True)\n",
        "new_df = pd.DataFrame({'University':var.index, 'nans':var.values})\n",
        "to_remove = list((new_df[new_df['nans']==19])['University'])"
      ],
      "execution_count": 0,
      "outputs": []
    },
    {
      "cell_type": "code",
      "metadata": {
        "id": "h7ZwX95pltul",
        "colab_type": "code",
        "colab": {
          "base_uri": "https://localhost:8080/",
          "height": 340
        },
        "outputId": "5b5a0413-d55f-47e3-8619-f5ac0c0bf024"
      },
      "source": [
        "to_remove"
      ],
      "execution_count": 194,
      "outputs": [
        {
          "output_type": "execute_result",
          "data": {
            "text/plain": [
              "['AtlÃ¢ntico Business School',\n",
              " 'Design School',\n",
              " 'Education Higher School from Torres Novas',\n",
              " 'Escola Superior de Artes Decorativas',\n",
              " 'Escola Superior de Tecnologias e Artes de Lisboa',\n",
              " 'Gran Sasso Science Institute',\n",
              " 'Higher Institute of Administration and Languages',\n",
              " 'Humanities University of Applied Sciences',\n",
              " 'IADE-U - Institute of Art, Design and Enterprise - University',\n",
              " 'Instituto Superior AutÃ³nomo de Estudos PolitÃ©cnicos',\n",
              " 'JyvÃ¤skylÃ¤ University of Applied Sciences',\n",
              " 'Marketing and Advertising School',\n",
              " 'Music Institute of TERAMO \"Gaetano Braga\"Â\\xa0',\n",
              " 'Nord University',\n",
              " 'Santa Maria Health School',\n",
              " 'South-Eastern Norway University College',\n",
              " 'SÃ¡mi University Of Applied Sicences',\n",
              " 'University of Campania Luigi Vanvitelli',\n",
              " 'VID Specialized University']"
            ]
          },
          "metadata": {
            "tags": []
          },
          "execution_count": 194
        }
      ]
    },
    {
      "cell_type": "code",
      "metadata": {
        "id": "KwEgOXLcBfvB",
        "colab_type": "code",
        "colab": {}
      },
      "source": [
        "# Remove the university with low data to improve completeness\n",
        "aux = raw_data_completeness.groupby('English Institution Name').count()\n",
        "var = aux[var_check].sum(axis=1, skipna=True)\n",
        "new_df = pd.DataFrame({'University':var.index, 'nans':var.values})\n",
        "to_remove = list((new_df[new_df['nans']==19])['University']) #19=min(var)"
      ],
      "execution_count": 0,
      "outputs": []
    },
    {
      "cell_type": "code",
      "metadata": {
        "id": "ImRe9GUvBf0b",
        "colab_type": "code",
        "colab": {
          "base_uri": "https://localhost:8080/",
          "height": 340
        },
        "outputId": "06e0548c-18ad-4fcf-a81b-bdc8c833efb5"
      },
      "source": [
        "set(to_remove)"
      ],
      "execution_count": 170,
      "outputs": [
        {
          "output_type": "execute_result",
          "data": {
            "text/plain": [
              "{'AtlÃ¢ntico Business School',\n",
              " 'Design School',\n",
              " 'Education Higher School from Torres Novas',\n",
              " 'Escola Superior de Artes Decorativas',\n",
              " 'Escola Superior de Tecnologias e Artes de Lisboa',\n",
              " 'Gran Sasso Science Institute',\n",
              " 'Higher Institute of Administration and Languages',\n",
              " 'Humanities University of Applied Sciences',\n",
              " 'IADE-U - Institute of Art, Design and Enterprise - University',\n",
              " 'Instituto Superior AutÃ³nomo de Estudos PolitÃ©cnicos',\n",
              " 'JyvÃ¤skylÃ¤ University of Applied Sciences',\n",
              " 'Marketing and Advertising School',\n",
              " 'Music Institute of TERAMO \"Gaetano Braga\"Â\\xa0',\n",
              " 'Nord University',\n",
              " 'Santa Maria Health School',\n",
              " 'South-Eastern Norway University College',\n",
              " 'SÃ¡mi University Of Applied Sicences',\n",
              " 'University of Campania Luigi Vanvitelli',\n",
              " 'VID Specialized University'}"
            ]
          },
          "metadata": {
            "tags": []
          },
          "execution_count": 170
        }
      ]
    },
    {
      "cell_type": "code",
      "metadata": {
        "id": "eyToHXf9Bf-6",
        "colab_type": "code",
        "colab": {}
      },
      "source": [
        "raw_data_comp = raw_data[variables]\n",
        "data_dropped = raw_data_comp[~(raw_data_comp[\"English Institution Name\"].isin(to_remove))]"
      ],
      "execution_count": 0,
      "outputs": []
    },
    {
      "cell_type": "code",
      "metadata": {
        "id": "I5YvbEDdYpY-",
        "colab_type": "code",
        "colab": {
          "base_uri": "https://localhost:8080/",
          "height": 34
        },
        "outputId": "82ef104f-9d75-4ff6-881f-b2d63ec01b78"
      },
      "source": [
        "data_dropped.shape"
      ],
      "execution_count": 172,
      "outputs": [
        {
          "output_type": "execute_result",
          "data": {
            "text/plain": [
              "(2992, 27)"
            ]
          },
          "metadata": {
            "tags": []
          },
          "execution_count": 172
        }
      ]
    },
    {
      "cell_type": "code",
      "metadata": {
        "id": "iMwATCgdeRMo",
        "colab_type": "code",
        "colab": {
          "base_uri": "https://localhost:8080/",
          "height": 34
        },
        "outputId": "00b075ac-e291-419c-9c60-bc7108b112b2"
      },
      "source": [
        "raw_data.shape"
      ],
      "execution_count": 173,
      "outputs": [
        {
          "output_type": "execute_result",
          "data": {
            "text/plain": [
              "(3011, 84)"
            ]
          },
          "metadata": {
            "tags": []
          },
          "execution_count": 173
        }
      ]
    },
    {
      "cell_type": "code",
      "metadata": {
        "id": "tO2-K8ESeRZg",
        "colab_type": "code",
        "colab": {}
      },
      "source": [
        "data_dropped = data_dropped.fillna('None')\n",
        "data_dropped = data_dropped.replace(['a', 'c', 'm', 's', 'x', 'xc', 'xr','0'],'None')"
      ],
      "execution_count": 0,
      "outputs": []
    },
    {
      "cell_type": "code",
      "metadata": {
        "id": "kQJ6paA6eRiK",
        "colab_type": "code",
        "colab": {}
      },
      "source": [
        "for i in data_dropped.columns:\n",
        "    aux_list=[]\n",
        "    for j in list(data_dropped[i]):\n",
        "        try:\n",
        "            aux_list.append(str(int(j)))\n",
        "        except:\n",
        "            try:\n",
        "                aux_list.append(str(int(round(float('.'.join((j.split(','))))))))\n",
        "            except:\n",
        "                aux_list.append(j)\n",
        "    data_dropped[i]=aux_list"
      ],
      "execution_count": 0,
      "outputs": []
    },
    {
      "cell_type": "code",
      "metadata": {
        "id": "bu22XidBg-ME",
        "colab_type": "code",
        "colab": {}
      },
      "source": [
        ""
      ],
      "execution_count": 0,
      "outputs": []
    },
    {
      "cell_type": "code",
      "metadata": {
        "id": "NfUNzWxZhgBW",
        "colab_type": "code",
        "colab": {
          "base_uri": "https://localhost:8080/",
          "height": 886
        },
        "outputId": "48d3e44c-4675-4d0c-811a-4bf938476e87"
      },
      "source": [
        "missing2 = defaultdict()\n",
        "for i in data_dropped.columns:\n",
        "    missing2[i] = 1 - Counter(data_dropped[i])['None']/sum(Counter(data_dropped[i]).values())\n",
        "pd.DataFrame.from_dict(missing2, orient='index').loc[data_dropped.columns,:]"
      ],
      "execution_count": 176,
      "outputs": [
        {
          "output_type": "execute_result",
          "data": {
            "text/html": [
              "<div>\n",
              "<style scoped>\n",
              "    .dataframe tbody tr th:only-of-type {\n",
              "        vertical-align: middle;\n",
              "    }\n",
              "\n",
              "    .dataframe tbody tr th {\n",
              "        vertical-align: top;\n",
              "    }\n",
              "\n",
              "    .dataframe thead th {\n",
              "        text-align: right;\n",
              "    }\n",
              "</style>\n",
              "<table border=\"1\" class=\"dataframe\">\n",
              "  <thead>\n",
              "    <tr style=\"text-align: right;\">\n",
              "      <th></th>\n",
              "      <th>0</th>\n",
              "    </tr>\n",
              "  </thead>\n",
              "  <tbody>\n",
              "    <tr>\n",
              "      <th>ï»¿ETER ID Year</th>\n",
              "      <td>1.000000</td>\n",
              "    </tr>\n",
              "    <tr>\n",
              "      <th>ETER ID</th>\n",
              "      <td>1.000000</td>\n",
              "    </tr>\n",
              "    <tr>\n",
              "      <th>National identifier</th>\n",
              "      <td>0.443850</td>\n",
              "    </tr>\n",
              "    <tr>\n",
              "      <th>English Institution Name</th>\n",
              "      <td>0.993984</td>\n",
              "    </tr>\n",
              "    <tr>\n",
              "      <th>Country Code</th>\n",
              "      <td>1.000000</td>\n",
              "    </tr>\n",
              "    <tr>\n",
              "      <th>Region of establishment (NUTS 2)</th>\n",
              "      <td>1.000000</td>\n",
              "    </tr>\n",
              "    <tr>\n",
              "      <th>Students enrolled at ISCED 8 - men</th>\n",
              "      <td>0.405080</td>\n",
              "    </tr>\n",
              "    <tr>\n",
              "      <th>Students enrolled at ISCED 8 - women</th>\n",
              "      <td>0.407086</td>\n",
              "    </tr>\n",
              "    <tr>\n",
              "      <th>Students enrolled ISCED 8 - gender unclassified</th>\n",
              "      <td>0.000000</td>\n",
              "    </tr>\n",
              "    <tr>\n",
              "      <th>Students enrolled at ISCED 8 - national</th>\n",
              "      <td>0.314840</td>\n",
              "    </tr>\n",
              "    <tr>\n",
              "      <th>Students enrolled at ISCED 8 - foreigner</th>\n",
              "      <td>0.276738</td>\n",
              "    </tr>\n",
              "    <tr>\n",
              "      <th>Students enrolled at ISCED 8 - resident</th>\n",
              "      <td>0.178142</td>\n",
              "    </tr>\n",
              "    <tr>\n",
              "      <th>Students enrolled at ISCED 8 - mobile</th>\n",
              "      <td>0.151404</td>\n",
              "    </tr>\n",
              "    <tr>\n",
              "      <th>Total students enrolled at ISCED 8</th>\n",
              "      <td>0.415441</td>\n",
              "    </tr>\n",
              "    <tr>\n",
              "      <th>Graduates at ISCED 8 - men</th>\n",
              "      <td>0.415775</td>\n",
              "    </tr>\n",
              "    <tr>\n",
              "      <th>Graduates at ISCED 8 - women</th>\n",
              "      <td>0.412767</td>\n",
              "    </tr>\n",
              "    <tr>\n",
              "      <th>Graduates at ISCED 8 - gender unclassified</th>\n",
              "      <td>0.002005</td>\n",
              "    </tr>\n",
              "    <tr>\n",
              "      <th>Graduates at ISCED 8 - national</th>\n",
              "      <td>0.422460</td>\n",
              "    </tr>\n",
              "    <tr>\n",
              "      <th>Graduates at ISCED 8 - foreigner</th>\n",
              "      <td>0.324532</td>\n",
              "    </tr>\n",
              "    <tr>\n",
              "      <th>Graduates at ISCED 8 - resident</th>\n",
              "      <td>0.106283</td>\n",
              "    </tr>\n",
              "    <tr>\n",
              "      <th>Graduates at ISCED 8 - mobile</th>\n",
              "      <td>0.086564</td>\n",
              "    </tr>\n",
              "    <tr>\n",
              "      <th>Total graduates at ISCED 8</th>\n",
              "      <td>0.441845</td>\n",
              "    </tr>\n",
              "    <tr>\n",
              "      <th>Erasmus incoming students - ISCED 8</th>\n",
              "      <td>0.387366</td>\n",
              "    </tr>\n",
              "    <tr>\n",
              "      <th>Erasmus outgoing students - ISCED 8</th>\n",
              "      <td>0.321190</td>\n",
              "    </tr>\n",
              "    <tr>\n",
              "      <th>PhD intensity</th>\n",
              "      <td>0.435495</td>\n",
              "    </tr>\n",
              "    <tr>\n",
              "      <th>Geographic coordinates - latitude</th>\n",
              "      <td>1.000000</td>\n",
              "    </tr>\n",
              "    <tr>\n",
              "      <th>Geographic coordinates - longitude</th>\n",
              "      <td>1.000000</td>\n",
              "    </tr>\n",
              "  </tbody>\n",
              "</table>\n",
              "</div>"
            ],
            "text/plain": [
              "                                                        0\n",
              "ï»¿ETER ID Year                                  1.000000\n",
              "ETER ID                                          1.000000\n",
              "National identifier                              0.443850\n",
              "English Institution Name                         0.993984\n",
              "Country Code                                     1.000000\n",
              "Region of establishment (NUTS 2)                 1.000000\n",
              "Students enrolled at ISCED 8 - men               0.405080\n",
              "Students enrolled at ISCED 8 - women             0.407086\n",
              "Students enrolled ISCED 8 - gender unclassified  0.000000\n",
              "Students enrolled at ISCED 8 - national          0.314840\n",
              "Students enrolled at ISCED 8 - foreigner         0.276738\n",
              "Students enrolled at ISCED 8 - resident          0.178142\n",
              "Students enrolled at ISCED 8 - mobile            0.151404\n",
              "Total students enrolled at ISCED 8               0.415441\n",
              "Graduates at ISCED 8 - men                       0.415775\n",
              "Graduates at ISCED 8 - women                     0.412767\n",
              "Graduates at ISCED 8 - gender unclassified       0.002005\n",
              "Graduates at ISCED 8 - national                  0.422460\n",
              "Graduates at ISCED 8 - foreigner                 0.324532\n",
              "Graduates at ISCED 8 - resident                  0.106283\n",
              "Graduates at ISCED 8 - mobile                    0.086564\n",
              "Total graduates at ISCED 8                       0.441845\n",
              "Erasmus incoming students - ISCED 8              0.387366\n",
              "Erasmus outgoing students - ISCED 8              0.321190\n",
              "PhD intensity                                    0.435495\n",
              "Geographic coordinates - latitude                1.000000\n",
              "Geographic coordinates - longitude               1.000000"
            ]
          },
          "metadata": {
            "tags": []
          },
          "execution_count": 176
        }
      ]
    },
    {
      "cell_type": "code",
      "metadata": {
        "id": "scJsod70gtKk",
        "colab_type": "code",
        "colab": {}
      },
      "source": [
        ""
      ],
      "execution_count": 0,
      "outputs": []
    },
    {
      "cell_type": "code",
      "metadata": {
        "id": "oC6p9PuDgtUw",
        "colab_type": "code",
        "colab": {}
      },
      "source": [
        ""
      ],
      "execution_count": 0,
      "outputs": []
    },
    {
      "cell_type": "code",
      "metadata": {
        "id": "BbZMmE9MeRq8",
        "colab_type": "code",
        "colab": {}
      },
      "source": [
        ""
      ],
      "execution_count": 0,
      "outputs": []
    },
    {
      "cell_type": "code",
      "metadata": {
        "id": "IyybCktDBgET",
        "colab_type": "code",
        "colab": {}
      },
      "source": [
        ""
      ],
      "execution_count": 0,
      "outputs": []
    },
    {
      "cell_type": "code",
      "metadata": {
        "id": "mH5zjje6COa_",
        "colab_type": "code",
        "colab": {}
      },
      "source": [
        "tot_stud_enrolled_men = data_clean0.groupby(['Country Code'])['Students enrolled at ISCED 8 - men'].sum()\n",
        "tot_stud_enrolled_wom = data_clean0.groupby(['Country Code'])['Students enrolled at ISCED 8 - women'].sum()"
      ],
      "execution_count": 0,
      "outputs": []
    },
    {
      "cell_type": "code",
      "metadata": {
        "id": "NxM-ph1ENQMh",
        "colab_type": "code",
        "outputId": "864274b2-7c12-46f1-ba55-846e98e8bdf0",
        "colab": {
          "base_uri": "https://localhost:8080/",
          "height": 119
        }
      },
      "source": [
        "tot_stud_enrolled_wom"
      ],
      "execution_count": 9,
      "outputs": [
        {
          "output_type": "execute_result",
          "data": {
            "text/plain": [
              "Country Code\n",
              "FI    62533.0\n",
              "IT    99123.0\n",
              "NO    29701.0\n",
              "SE    61152.0\n",
              "Name: Students enrolled at ISCED 8 - women, dtype: float64"
            ]
          },
          "metadata": {
            "tags": []
          },
          "execution_count": 9
        }
      ]
    },
    {
      "cell_type": "code",
      "metadata": {
        "id": "l1fglfG5I8yx",
        "colab_type": "code",
        "outputId": "16bb05ad-00c1-4f52-8ec4-57a4367b26aa",
        "colab": {
          "base_uri": "https://localhost:8080/",
          "height": 318
        }
      },
      "source": [
        "# Histogram for the enrolled student: comparisong between men and women \n",
        "labels = ['FI', 'IT', 'NO', 'SE']\n",
        "men_means = list(tot_stud_enrolled_men)\n",
        "women_means = list(tot_stud_enrolled_wom)\n",
        "\n",
        "x = np.arange(len(labels)) \n",
        "width = 0.35 \n",
        "\n",
        "fig, ax = plt.subplots()\n",
        "rects1 = ax.bar(x - width/2, men_means, width, label='Men')\n",
        "rects2 = ax.bar(x + width/2, women_means, width, label='Women')\n",
        "\n",
        "ax.set_title('Student Enrolled at ISCED 8 \\n Men vs Women', fontsize=15)\n",
        "ax.set_xticks(x)\n",
        "ax.set_xticklabels(labels)\n",
        "ax.legend()"
      ],
      "execution_count": 10,
      "outputs": [
        {
          "output_type": "execute_result",
          "data": {
            "text/plain": [
              "<matplotlib.legend.Legend at 0x7f355306bf98>"
            ]
          },
          "metadata": {
            "tags": []
          },
          "execution_count": 10
        },
        {
          "output_type": "display_data",
          "data": {
            "image/png": "[encoded data removed]",
            "text/plain": [
              "<Figure size 432x288 with 1 Axes>"
            ]
          },
          "metadata": {
            "tags": [],
            "needs_background": "light"
          }
        }
      ]
    },
    {
      "cell_type": "code",
      "metadata": {
        "id": "d1XL35NdPshO",
        "colab_type": "code",
        "outputId": "1a9a55fb-ed2f-4ffb-adf1-89649d211c03",
        "colab": {
          "base_uri": "https://localhost:8080/",
          "height": 119
        }
      },
      "source": [
        "tot_stud_graduated_men = data_clean0.groupby(['Country Code'])['Graduates at ISCED 8 - men'].sum()\n",
        "tot_stud_graduated_wom = data_clean0.groupby(['Country Code'])['Graduates at ISCED 8 - women'].sum()\n",
        "tot_stud_enrolled_wom"
      ],
      "execution_count": 11,
      "outputs": [
        {
          "output_type": "execute_result",
          "data": {
            "text/plain": [
              "Country Code\n",
              "FI    62533.0\n",
              "IT    99123.0\n",
              "NO    29701.0\n",
              "SE    61152.0\n",
              "Name: Students enrolled at ISCED 8 - women, dtype: float64"
            ]
          },
          "metadata": {
            "tags": []
          },
          "execution_count": 11
        }
      ]
    },
    {
      "cell_type": "code",
      "metadata": {
        "id": "h1H9Ezk1Ojd_",
        "colab_type": "code",
        "outputId": "f04711f0-8887-46a4-fbd1-47ea294305cb",
        "colab": {
          "base_uri": "https://localhost:8080/",
          "height": 318
        }
      },
      "source": [
        "# Histogram for the graduated student: comparisong between men and women \n",
        "labels = ['FI', 'IT', 'NO', 'SE']\n",
        "men_means = list(tot_stud_graduated_men)\n",
        "women_means = list(tot_stud_graduated_wom)\n",
        "\n",
        "x = np.arange(len(labels)) \n",
        "width = 0.35 \n",
        "\n",
        "fig, ax = plt.subplots()\n",
        "rects1 = ax.bar(x - width/2, men_means, width, label='Men')\n",
        "rects2 = ax.bar(x + width/2, women_means, width, label='Women')\n",
        "\n",
        "ax.set_title('Student Graduated at ISCED 8 \\n Men vs Women', fontsize=15)\n",
        "ax.set_xticks(x)\n",
        "ax.set_xticklabels(labels)\n",
        "ax.legend()"
      ],
      "execution_count": 12,
      "outputs": [
        {
          "output_type": "execute_result",
          "data": {
            "text/plain": [
              "<matplotlib.legend.Legend at 0x7f3552b50cc0>"
            ]
          },
          "metadata": {
            "tags": []
          },
          "execution_count": 12
        },
        {
          "output_type": "display_data",
          "data": {
            "image/png": "[encoded data removed]",
            "text/plain": [
              "<Figure size 432x288 with 1 Axes>"
            ]
          },
          "metadata": {
            "tags": [],
            "needs_background": "light"
          }
        }
      ]
    },
    {
      "cell_type": "code",
      "metadata": {
        "id": "CDm0-75aRLrw",
        "colab_type": "code",
        "outputId": "1541abdf-95f5-4018-e884-2a11b3564ee9",
        "colab": {
          "base_uri": "https://localhost:8080/",
          "height": 119
        }
      },
      "source": [
        "tot_enrolled = data_clean0.groupby(['Country Code'])['Total students enrolled at ISCED 8'].sum()\n",
        "tot_graduated = data_clean0.groupby(['Country Code'])['Total graduates at ISCED 8'].sum()\n",
        "tot_enrolled"
      ],
      "execution_count": 13,
      "outputs": [
        {
          "output_type": "execute_result",
          "data": {
            "text/plain": [
              "Country Code\n",
              "FI    119337.0\n",
              "IT    193768.0\n",
              "NO     57751.0\n",
              "SE    126907.0\n",
              "Name: Total students enrolled at ISCED 8, dtype: float64"
            ]
          },
          "metadata": {
            "tags": []
          },
          "execution_count": 13
        }
      ]
    },
    {
      "cell_type": "code",
      "metadata": {
        "id": "iG-wjnuVRn6l",
        "colab_type": "code",
        "outputId": "c1ff8993-6d72-49e4-f4f2-7d425da0bbea",
        "colab": {
          "base_uri": "https://localhost:8080/",
          "height": 119
        }
      },
      "source": [
        "tot_graduated"
      ],
      "execution_count": 14,
      "outputs": [
        {
          "output_type": "execute_result",
          "data": {
            "text/plain": [
              "Country Code\n",
              "FI    11629.0\n",
              "IT    64760.0\n",
              "NO     8556.0\n",
              "SE    21011.0\n",
              "Name: Total graduates at ISCED 8, dtype: float64"
            ]
          },
          "metadata": {
            "tags": []
          },
          "execution_count": 14
        }
      ]
    },
    {
      "cell_type": "code",
      "metadata": {
        "id": "Tjz__aIfQOMP",
        "colab_type": "code",
        "outputId": "dfde46bc-a3bc-4f61-ed40-e7db5d02c6c7",
        "colab": {
          "base_uri": "https://localhost:8080/",
          "height": 300
        }
      },
      "source": [
        "# Histogram for analyze the difference between the total enrolled and the total graduated \n",
        "labels = ['FI', 'IT', 'NO', 'SE']\n",
        "men_means = list(tot_enrolled)\n",
        "women_means = list(tot_graduated)\n",
        "\n",
        "x = np.arange(len(labels)) \n",
        "width = 0.35 \n",
        "\n",
        "fig, ax = plt.subplots()\n",
        "rects1 = ax.bar(x - width/2, men_means, width, label='Enrolled', color='g')\n",
        "rects2 = ax.bar(x + width/2, women_means, width, label='Graduated', color=\"r\")\n",
        "\n",
        "ax.set_title('Total Enrolled vs Total Gratuated', fontsize=15)\n",
        "ax.set_xticks(x)\n",
        "ax.set_xticklabels(labels)\n",
        "ax.legend()"
      ],
      "execution_count": 15,
      "outputs": [
        {
          "output_type": "execute_result",
          "data": {
            "text/plain": [
              "<matplotlib.legend.Legend at 0x7f3552ad7828>"
            ]
          },
          "metadata": {
            "tags": []
          },
          "execution_count": 15
        },
        {
          "output_type": "display_data",
          "data": {
            "image/png": "[encoded data removed]",
            "text/plain": [
              "<Figure size 432x288 with 1 Axes>"
            ]
          },
          "metadata": {
            "tags": [],
            "needs_background": "light"
          }
        }
      ]
    },
    {
      "cell_type": "code",
      "metadata": {
        "id": "g-4IDUqPRnLs",
        "colab_type": "code",
        "outputId": "fb94eb7e-4faf-42cb-9715-1dbb6632c950",
        "colab": {
          "base_uri": "https://localhost:8080/",
          "height": 283
        }
      },
      "source": [
        "labels = ['Grad-m', 'Grad-w', 'Enr-m', 'Enr-w']\n",
        "boxplot = data_clean0.boxplot(column=['Graduates at ISCED 8 - men','Graduates at ISCED 8 - women',\n",
        "                               'Students enrolled at ISCED 8 - men', \n",
        "                               'Students enrolled at ISCED 8 - women'])\n",
        "plt.title('Total Student - ISCED 8',fontsize=15)\n",
        "boxplot\n",
        "ax.set_xticks(np.arange(len(labels)))\n",
        "ax.set_xticklabels(labels)\n",
        "ax.legend()\n",
        "plt.show()"
      ],
      "execution_count": 16,
      "outputs": [
        {
          "output_type": "display_data",
          "data": {
            "image/png": "[encoded data removed]",
            "text/plain": [
              "<Figure size 432x288 with 1 Axes>"
            ]
          },
          "metadata": {
            "tags": [],
            "needs_background": "light"
          }
        }
      ]
    },
    {
      "cell_type": "code",
      "metadata": {
        "id": "0O7e7V_kTDIn",
        "colab_type": "code",
        "colab": {}
      },
      "source": [
        "# Dendogram\n",
        "from scipy.cluster import hierarchy\n",
        "import sys\n",
        "sys.setrecursionlimit(10000)\n",
        "hcl_67=data_clean0.groupby(['Country Code'])[['Students enrolled at ISCED 8 - men','Students enrolled at ISCED 8 - women']]\n",
        "\n",
        "# Calculate the distance between each sample\n",
        "Z = hierarchy.linkage(hcl_67, 'ward')\n",
        "\n",
        "plt.figure(figsize=(25,10))\n",
        "# Plot with Custom leaves\n",
        "hierarchy.dendrogram(Z, leaf_rotation=90, leaf_font_size=8, labels=hcl_67.index)\n",
        "plt.show()"
      ],
      "execution_count": 0,
      "outputs": []
    },
    {
      "cell_type": "code",
      "metadata": {
        "id": "FroRYZQTWrQs",
        "colab_type": "code",
        "colab": {}
      },
      "source": [
        ""
      ],
      "execution_count": 0,
      "outputs": []
    },
    {
      "cell_type": "code",
      "metadata": {
        "id": "hcneOQG_HyxD",
        "colab_type": "code",
        "colab": {}
      },
      "source": [
        ""
      ],
      "execution_count": 0,
      "outputs": []
    },
    {
      "cell_type": "markdown",
      "metadata": {
        "id": "iE0VmJgOHzLY",
        "colab_type": "text"
      },
      "source": [
        "Accuracy"
      ]
    },
    {
      "cell_type": "code",
      "metadata": {
        "id": "AQDdTYzjH0C6",
        "colab_type": "code",
        "colab": {}
      },
      "source": [
        "values_unknown = ['m','a','xr','s','xc','x','c','nc']\n",
        "country_code = ['FI', 'IT', 'NO', 'SE']\n",
        "\n",
        "# Variable regarding gender gap ai ISCED 8\n",
        "variables = ['ETER ID Year', 'ETER ID', 'National identifier', 'Institution Name',\n",
        "       'Country Code', 'Region of establishment (NUTS 2)',\n",
        "       'Research active institution',\n",
        "       'Students enrolled at ISCED 8 - men',\n",
        "       'Students enrolled at ISCED 8 - women',\n",
        "       'Students enrolled ISCED 8 - gender unclassified',\n",
        "       'Total students enrolled at ISCED 8', 'Graduates at ISCED 8 - men',\n",
        "       'Graduates at ISCED 8 - women', 'Total graduates at ISCED 8', 'PhD intensity']\n",
        "raw_data = data[variables]"
      ],
      "execution_count": 0,
      "outputs": []
    },
    {
      "cell_type": "code",
      "metadata": {
        "id": "UgPVGwcuJxnE",
        "colab_type": "code",
        "colab": {}
      },
      "source": [
        "# Accuracy \n",
        "before_accuracy=defaultdict()\n",
        "for j in raw_data.columns:\n",
        "    counter=0\n",
        "    for i in range(len(list((raw_data[j])))):\n",
        "        if str(list(raw_data[j])[i]).isdigit():\n",
        "            if int(list(raw_data[j])[i])>=0:\n",
        "                counter+=1\n",
        "        else:\n",
        "            if list(raw_data[j])[i] in (values_unknown):\n",
        "                counter+=1\n",
        "            elif list(raw_data[j])[i] in (country_code):\n",
        "                counter+=1\n",
        "    before_accuracy[j]=counter/len(data)"
      ],
      "execution_count": 0,
      "outputs": []
    },
    {
      "cell_type": "code",
      "metadata": {
        "id": "rb-Fw9SPLMzH",
        "colab_type": "code",
        "outputId": "1596be79-f1a0-4525-d6ff-b16967e5a334",
        "colab": {
          "base_uri": "https://localhost:8080/",
          "height": 514
        }
      },
      "source": [
        "# Create the table with the results\n",
        "pd.DataFrame.from_dict(before_accuracy, orient='index').loc[variables,:]"
      ],
      "execution_count": 0,
      "outputs": [
        {
          "output_type": "execute_result",
          "data": {
            "text/html": [
              "<div>\n",
              "<style scoped>\n",
              "    .dataframe tbody tr th:only-of-type {\n",
              "        vertical-align: middle;\n",
              "    }\n",
              "\n",
              "    .dataframe tbody tr th {\n",
              "        vertical-align: top;\n",
              "    }\n",
              "\n",
              "    .dataframe thead th {\n",
              "        text-align: right;\n",
              "    }\n",
              "</style>\n",
              "<table border=\"1\" class=\"dataframe\">\n",
              "  <thead>\n",
              "    <tr style=\"text-align: right;\">\n",
              "      <th></th>\n",
              "      <th>0</th>\n",
              "    </tr>\n",
              "  </thead>\n",
              "  <tbody>\n",
              "    <tr>\n",
              "      <th>ETER ID Year</th>\n",
              "      <td>0.000000</td>\n",
              "    </tr>\n",
              "    <tr>\n",
              "      <th>ETER ID</th>\n",
              "      <td>0.000000</td>\n",
              "    </tr>\n",
              "    <tr>\n",
              "      <th>National identifier</th>\n",
              "      <td>0.751934</td>\n",
              "    </tr>\n",
              "    <tr>\n",
              "      <th>Institution Name</th>\n",
              "      <td>0.000000</td>\n",
              "    </tr>\n",
              "    <tr>\n",
              "      <th>Country Code</th>\n",
              "      <td>1.000000</td>\n",
              "    </tr>\n",
              "    <tr>\n",
              "      <th>Region of establishment (NUTS 2)</th>\n",
              "      <td>0.000000</td>\n",
              "    </tr>\n",
              "    <tr>\n",
              "      <th>Research active institution</th>\n",
              "      <td>1.000000</td>\n",
              "    </tr>\n",
              "    <tr>\n",
              "      <th>Students enrolled at ISCED 8 - men</th>\n",
              "      <td>1.000000</td>\n",
              "    </tr>\n",
              "    <tr>\n",
              "      <th>Students enrolled at ISCED 8 - women</th>\n",
              "      <td>1.000000</td>\n",
              "    </tr>\n",
              "    <tr>\n",
              "      <th>Students enrolled ISCED 8 - gender unclassified</th>\n",
              "      <td>1.000000</td>\n",
              "    </tr>\n",
              "    <tr>\n",
              "      <th>Total students enrolled at ISCED 8</th>\n",
              "      <td>1.000000</td>\n",
              "    </tr>\n",
              "    <tr>\n",
              "      <th>Graduates at ISCED 8 - men</th>\n",
              "      <td>1.000000</td>\n",
              "    </tr>\n",
              "    <tr>\n",
              "      <th>Graduates at ISCED 8 - women</th>\n",
              "      <td>1.000000</td>\n",
              "    </tr>\n",
              "    <tr>\n",
              "      <th>Total graduates at ISCED 8</th>\n",
              "      <td>1.000000</td>\n",
              "    </tr>\n",
              "    <tr>\n",
              "      <th>PhD intensity</th>\n",
              "      <td>0.601857</td>\n",
              "    </tr>\n",
              "  </tbody>\n",
              "</table>\n",
              "</div>"
            ],
            "text/plain": [
              "                                                        0\n",
              "ETER ID Year                                     0.000000\n",
              "ETER ID                                          0.000000\n",
              "National identifier                              0.751934\n",
              "Institution Name                                 0.000000\n",
              "Country Code                                     1.000000\n",
              "Region of establishment (NUTS 2)                 0.000000\n",
              "Research active institution                      1.000000\n",
              "Students enrolled at ISCED 8 - men               1.000000\n",
              "Students enrolled at ISCED 8 - women             1.000000\n",
              "Students enrolled ISCED 8 - gender unclassified  1.000000\n",
              "Total students enrolled at ISCED 8               1.000000\n",
              "Graduates at ISCED 8 - men                       1.000000\n",
              "Graduates at ISCED 8 - women                     1.000000\n",
              "Total graduates at ISCED 8                       1.000000\n",
              "PhD intensity                                    0.601857"
            ]
          },
          "metadata": {
            "tags": []
          },
          "execution_count": 33
        }
      ]
    },
    {
      "cell_type": "code",
      "metadata": {
        "id": "ibcGyTMBLcpr",
        "colab_type": "code",
        "colab": {}
      },
      "source": [
        ""
      ],
      "execution_count": 0,
      "outputs": []
    }
  ]
}