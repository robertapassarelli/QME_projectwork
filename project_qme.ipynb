{
  "nbformat": 4,
  "nbformat_minor": 0,
  "metadata": {
    "colab": {
      "name": "project-qme.ipynb",
      "provenance": [],
      "collapsed_sections": [],
      "include_colab_link": true
    },
    "kernelspec": {
      "name": "python3",
      "display_name": "Python 3"
    }
  },
  "cells": [
    {
      "cell_type": "markdown",
      "metadata": {
        "id": "view-in-github",
        "colab_type": "text"
      },
      "source": [
        "<a href=\"https://colab.research.google.com/github/robertapassarelli/QME_projectwork/blob/master/project_qme.ipynb\" target=\"_parent\"><img src=\"https://colab.research.google.com/assets/colab-badge.svg\" alt=\"Open In Colab\"/></a>"
      ]
    },
    {
      "cell_type": "code",
      "metadata": {
        "id": "0OYMhFt4SMPR",
        "colab_type": "code",
        "colab": {}
      },
      "source": [
        "# Group H \n",
        "# Project work - QME "
      ],
      "execution_count": 0,
      "outputs": []
    },
    {
      "cell_type": "code",
      "metadata": {
        "id": "kDv_BTLTUwBm",
        "colab_type": "code",
        "colab": {}
      },
      "source": [
        "import pandas as pd \n",
        "import numpy as np\n",
        "import io \n",
        "from collections import defaultdict\n",
        "from collections import Counter\n",
        "from google.colab import files # to save and read the csv file \n",
        "import matplotlib.pyplot as plt\n",
        "from matplotlib.ticker import PercentFormatter\n",
        "import random "
      ],
      "execution_count": 0,
      "outputs": []
    },
    {
      "cell_type": "code",
      "metadata": {
        "id": "0IPIWFMk9Jv0",
        "colab_type": "code",
        "outputId": "f3ef5023-96c7-4ea9-fd4e-f8c116173190",
        "colab": {
          "resources": {
            "http://localhost:8080/nbextensions/google.colab/files.js": {
              "data": "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",
              "ok": true,
              "headers": [
                [
                  "content-type",
                  "application/javascript"
                ]
              ],
              "status": 200,
              "status_text": ""
            }
          },
          "base_uri": "https://localhost:8080/",
          "height": 528
        }
      },
      "source": [
        "uploaded = files.upload()\n",
        "raw_data = pd.read_csv(io.BytesIO(uploaded['eter-export-selected.csv']), sep=\";\", header = 0, encoding='latin-1')\n",
        "raw_data.head()"
      ],
      "execution_count": 0,
      "outputs": [
        {
          "output_type": "display_data",
          "data": {
            "text/html": [
              "\n",
              "     <input type=\"file\" id=\"files-fbab98a5-2260-43ff-85d9-f2a7297becb2\" name=\"files[]\" multiple disabled />\n",
              "     <output id=\"result-fbab98a5-2260-43ff-85d9-f2a7297becb2\">\n",
              "      Upload widget is only available when the cell has been executed in the\n",
              "      current browser session. Please rerun this cell to enable.\n",
              "      </output>\n",
              "      <script src=\"/nbextensions/google.colab/files.js\"></script> "
            ],
            "text/plain": [
              "<IPython.core.display.HTML object>"
            ]
          },
          "metadata": {
            "tags": []
          }
        },
        {
          "output_type": "stream",
          "text": [
            "Saving eter-export-selected.csv to eter-export-selected.csv\n"
          ],
          "name": "stdout"
        },
        {
          "output_type": "stream",
          "text": [
            "/usr/local/lib/python3.6/dist-packages/IPython/core/interactiveshell.py:2718: DtypeWarning: Columns (75,76,77,78) have mixed types.Specify dtype option on import or set low_memory=False.\n",
            "  interactivity=interactivity, compiler=compiler, result=result)\n"
          ],
          "name": "stderr"
        },
        {
          "output_type": "execute_result",
          "data": {
            "text/html": [
              "<div>\n",
              "<style scoped>\n",
              "    .dataframe tbody tr th:only-of-type {\n",
              "        vertical-align: middle;\n",
              "    }\n",
              "\n",
              "    .dataframe tbody tr th {\n",
              "        vertical-align: top;\n",
              "    }\n",
              "\n",
              "    .dataframe thead th {\n",
              "        text-align: right;\n",
              "    }\n",
              "</style>\n",
              "<table border=\"1\" class=\"dataframe\">\n",
              "  <thead>\n",
              "    <tr style=\"text-align: right;\">\n",
              "      <th></th>\n",
              "      <th>ï»¿ETER ID Year</th>\n",
              "      <th>ETER ID</th>\n",
              "      <th>National identifier</th>\n",
              "      <th>English Institution Name</th>\n",
              "      <th>Country Code</th>\n",
              "      <th>Region of establishment (NUTS 2)</th>\n",
              "      <th>Geographic coordinates - latitude</th>\n",
              "      <th>Geographic coordinates - longitude</th>\n",
              "      <th>Personnel expenditure (EURO)</th>\n",
              "      <th>Non-personnel expenditure (EURO)</th>\n",
              "      <th>Expenditure unclassified (EURO)</th>\n",
              "      <th>Total Current expenditure (EURO)</th>\n",
              "      <th>Capital expenditure (EURO)</th>\n",
              "      <th>Basic government allocation (EURO)</th>\n",
              "      <th>Total Current revenues (EURO)</th>\n",
              "      <th>Research active institution</th>\n",
              "      <th>Students enrolled at ISCED 8 - men</th>\n",
              "      <th>Students enrolled at ISCED 8 - women</th>\n",
              "      <th>Students enrolled ISCED 8 - gender unclassified</th>\n",
              "      <th>Flag Students ISCED 8 - gender</th>\n",
              "      <th>Students enrolled at ISCED 8 - national</th>\n",
              "      <th>Students enrolled at ISCED 8 - foreigner</th>\n",
              "      <th>Students enrolled ISCED 8-citizenship unclassified</th>\n",
              "      <th>Flag Students ISCED 8 - citizenship</th>\n",
              "      <th>Students enrolled at ISCED 8 - resident</th>\n",
              "      <th>Students enrolled at ISCED 8 - mobile</th>\n",
              "      <th>Students enrolled ISCED 8-mobility unclassified</th>\n",
              "      <th>Flag Students ISCED 8 - mobility</th>\n",
              "      <th>Students enrolled at ISCED 8 - Generic programmes and qualifications</th>\n",
              "      <th>Students enrolled at ISCED 8 - Education</th>\n",
              "      <th>Students enrolled at ISCED 8 - Arts and Humanities</th>\n",
              "      <th>Students enrolled at ISCED 8 - Social sciences, journalism and information</th>\n",
              "      <th>Students enrolled at ISCED 8 - Business, administration and law</th>\n",
              "      <th>Students enrolled at ISCED 8 - Natural sciences, mathematics and statistics</th>\n",
              "      <th>Students enrolled at ISCED 8 - Information and Communication Technologies</th>\n",
              "      <th>Students enrolled at ISCED 8 - Engineering, manufacturing and construction</th>\n",
              "      <th>Students enrolled at ISCED 8 - Agriculture, forestry, fisheries and veterinary</th>\n",
              "      <th>Students enrolled at ISCED 8 - Health and welfare</th>\n",
              "      <th>Students enrolled at ISCED 8 - Services</th>\n",
              "      <th>Students enrolled ISCED 8 - ISCED-FoE unclassified</th>\n",
              "      <th>...</th>\n",
              "      <th>Graduates at ISCED 8 - men</th>\n",
              "      <th>Graduates at ISCED 8 - women</th>\n",
              "      <th>Graduates at ISCED 8 - gender unclassified</th>\n",
              "      <th>Flag Graduates ISCED 8 - gender</th>\n",
              "      <th>Graduates at ISCED 8 - national</th>\n",
              "      <th>Graduates at ISCED 8 - foreigner</th>\n",
              "      <th>Graduates at ISCED 8 - citizenship unclassified</th>\n",
              "      <th>Flag Graduates ISCED 8 - citizenship</th>\n",
              "      <th>Graduates at ISCED 8 - resident</th>\n",
              "      <th>Graduates at ISCED 8 - mobile</th>\n",
              "      <th>Graduates at ISCED 8 - mobility unclassified</th>\n",
              "      <th>Flag Graduates ISCED 8 - mobility</th>\n",
              "      <th>Graduates at ISCED 8 - Generic programmes and qualifications</th>\n",
              "      <th>Graduates at ISCED 8 - Education</th>\n",
              "      <th>Graduates at ISCED 8 - Arts and Humanities</th>\n",
              "      <th>Graduates at ISCED 8 - Social sciences, journalism and information</th>\n",
              "      <th>Graduates at ISCED 8 - Business, administration and law</th>\n",
              "      <th>Graduates at ISCED 8 - Natural sciences, mathematics and statistics</th>\n",
              "      <th>Graduates at ISCED 8 - Information and Communication Technologies</th>\n",
              "      <th>Graduates at ISCED 8 - Engineering, manufacturing and construction</th>\n",
              "      <th>Graduates at ISCED 8 - Agriculture, forestry, fisheries and veterinary</th>\n",
              "      <th>Graduates at ISCED 8 - Health and welfare</th>\n",
              "      <th>Graduates at ISCED 8 - Services</th>\n",
              "      <th>Graduates at ISCED 8 - ISCED-FoE unclassified</th>\n",
              "      <th>Flag Graduates ISCED 8 - ISCED-FoE</th>\n",
              "      <th>Total graduates at ISCED 8</th>\n",
              "      <th>Flag Total graduates ISCED 8</th>\n",
              "      <th>Notes on graduates at ISCED 8</th>\n",
              "      <th>Included in official R&amp;D statistics</th>\n",
              "      <th>R&amp;D Expenditure (EURO)</th>\n",
              "      <th>Flag R&amp;D Expenditure</th>\n",
              "      <th>EU-FP Researchers mobility</th>\n",
              "      <th>EU-FP Staff mobility</th>\n",
              "      <th>EU-FP Research training cooperation</th>\n",
              "      <th>Flag Researchers mobility</th>\n",
              "      <th>Notes on research activities</th>\n",
              "      <th>PhD intensity</th>\n",
              "      <th>Flag PhD intensity</th>\n",
              "      <th>Erasmus incoming students - ISCED 8</th>\n",
              "      <th>Erasmus outgoing students - ISCED 8</th>\n",
              "    </tr>\n",
              "  </thead>\n",
              "  <tbody>\n",
              "    <tr>\n",
              "      <th>0</th>\n",
              "      <td>FR0001.2017</td>\n",
              "      <td>FR0001</td>\n",
              "      <td>0060931E</td>\n",
              "      <td>University of Nice Sophia Antipolis</td>\n",
              "      <td>FR</td>\n",
              "      <td>FRL0</td>\n",
              "      <td>43,7168812836</td>\n",
              "      <td>7,26729398492</td>\n",
              "      <td>m</td>\n",
              "      <td>m</td>\n",
              "      <td>m</td>\n",
              "      <td>m</td>\n",
              "      <td>m</td>\n",
              "      <td>m</td>\n",
              "      <td>m</td>\n",
              "      <td>1</td>\n",
              "      <td>m</td>\n",
              "      <td>m</td>\n",
              "      <td>m</td>\n",
              "      <td>NaN</td>\n",
              "      <td>m</td>\n",
              "      <td>m</td>\n",
              "      <td>m</td>\n",
              "      <td>NaN</td>\n",
              "      <td>m</td>\n",
              "      <td>m</td>\n",
              "      <td>m</td>\n",
              "      <td>NaN</td>\n",
              "      <td>m</td>\n",
              "      <td>m</td>\n",
              "      <td>m</td>\n",
              "      <td>m</td>\n",
              "      <td>m</td>\n",
              "      <td>m</td>\n",
              "      <td>m</td>\n",
              "      <td>m</td>\n",
              "      <td>m</td>\n",
              "      <td>m</td>\n",
              "      <td>m</td>\n",
              "      <td>m</td>\n",
              "      <td>...</td>\n",
              "      <td>m</td>\n",
              "      <td>m</td>\n",
              "      <td>m</td>\n",
              "      <td>NaN</td>\n",
              "      <td>m</td>\n",
              "      <td>m</td>\n",
              "      <td>m</td>\n",
              "      <td>NaN</td>\n",
              "      <td>m</td>\n",
              "      <td>m</td>\n",
              "      <td>m</td>\n",
              "      <td>NaN</td>\n",
              "      <td>m</td>\n",
              "      <td>m</td>\n",
              "      <td>m</td>\n",
              "      <td>m</td>\n",
              "      <td>m</td>\n",
              "      <td>m</td>\n",
              "      <td>m</td>\n",
              "      <td>m</td>\n",
              "      <td>m</td>\n",
              "      <td>m</td>\n",
              "      <td>m</td>\n",
              "      <td>m</td>\n",
              "      <td>NaN</td>\n",
              "      <td>m</td>\n",
              "      <td>NaN</td>\n",
              "      <td>NaN</td>\n",
              "      <td>m</td>\n",
              "      <td>m</td>\n",
              "      <td>NaN</td>\n",
              "      <td>m</td>\n",
              "      <td>m</td>\n",
              "      <td>m</td>\n",
              "      <td>NaN</td>\n",
              "      <td>NaN</td>\n",
              "      <td>m</td>\n",
              "      <td>NaN</td>\n",
              "      <td>m</td>\n",
              "      <td>m</td>\n",
              "    </tr>\n",
              "    <tr>\n",
              "      <th>1</th>\n",
              "      <td>FR0002.2017</td>\n",
              "      <td>FR0002</td>\n",
              "      <td>0101060Y</td>\n",
              "      <td>University of Technology of Troyes</td>\n",
              "      <td>FR</td>\n",
              "      <td>FRF2</td>\n",
              "      <td>48,269146</td>\n",
              "      <td>4,066716</td>\n",
              "      <td>m</td>\n",
              "      <td>m</td>\n",
              "      <td>m</td>\n",
              "      <td>m</td>\n",
              "      <td>m</td>\n",
              "      <td>m</td>\n",
              "      <td>m</td>\n",
              "      <td>1</td>\n",
              "      <td>m</td>\n",
              "      <td>m</td>\n",
              "      <td>m</td>\n",
              "      <td>NaN</td>\n",
              "      <td>m</td>\n",
              "      <td>m</td>\n",
              "      <td>m</td>\n",
              "      <td>NaN</td>\n",
              "      <td>m</td>\n",
              "      <td>m</td>\n",
              "      <td>m</td>\n",
              "      <td>NaN</td>\n",
              "      <td>m</td>\n",
              "      <td>m</td>\n",
              "      <td>m</td>\n",
              "      <td>m</td>\n",
              "      <td>m</td>\n",
              "      <td>m</td>\n",
              "      <td>m</td>\n",
              "      <td>m</td>\n",
              "      <td>m</td>\n",
              "      <td>m</td>\n",
              "      <td>m</td>\n",
              "      <td>m</td>\n",
              "      <td>...</td>\n",
              "      <td>m</td>\n",
              "      <td>m</td>\n",
              "      <td>m</td>\n",
              "      <td>NaN</td>\n",
              "      <td>m</td>\n",
              "      <td>m</td>\n",
              "      <td>m</td>\n",
              "      <td>NaN</td>\n",
              "      <td>m</td>\n",
              "      <td>m</td>\n",
              "      <td>m</td>\n",
              "      <td>NaN</td>\n",
              "      <td>m</td>\n",
              "      <td>m</td>\n",
              "      <td>m</td>\n",
              "      <td>m</td>\n",
              "      <td>m</td>\n",
              "      <td>m</td>\n",
              "      <td>m</td>\n",
              "      <td>m</td>\n",
              "      <td>m</td>\n",
              "      <td>m</td>\n",
              "      <td>m</td>\n",
              "      <td>m</td>\n",
              "      <td>NaN</td>\n",
              "      <td>m</td>\n",
              "      <td>NaN</td>\n",
              "      <td>NaN</td>\n",
              "      <td>m</td>\n",
              "      <td>m</td>\n",
              "      <td>NaN</td>\n",
              "      <td>m</td>\n",
              "      <td>m</td>\n",
              "      <td>m</td>\n",
              "      <td>NaN</td>\n",
              "      <td>NaN</td>\n",
              "      <td>m</td>\n",
              "      <td>NaN</td>\n",
              "      <td>m</td>\n",
              "      <td>m</td>\n",
              "    </tr>\n",
              "    <tr>\n",
              "      <th>2</th>\n",
              "      <td>FR0003.2017</td>\n",
              "      <td>FR0003</td>\n",
              "      <td>0130230E</td>\n",
              "      <td>NaN</td>\n",
              "      <td>FR</td>\n",
              "      <td>FRL0</td>\n",
              "      <td>43,624831</td>\n",
              "      <td>5,111683</td>\n",
              "      <td>m</td>\n",
              "      <td>m</td>\n",
              "      <td>m</td>\n",
              "      <td>m</td>\n",
              "      <td>m</td>\n",
              "      <td>m</td>\n",
              "      <td>m</td>\n",
              "      <td>0</td>\n",
              "      <td>a</td>\n",
              "      <td>a</td>\n",
              "      <td>a</td>\n",
              "      <td>NaN</td>\n",
              "      <td>a</td>\n",
              "      <td>a</td>\n",
              "      <td>a</td>\n",
              "      <td>NaN</td>\n",
              "      <td>a</td>\n",
              "      <td>a</td>\n",
              "      <td>a</td>\n",
              "      <td>NaN</td>\n",
              "      <td>a</td>\n",
              "      <td>a</td>\n",
              "      <td>a</td>\n",
              "      <td>a</td>\n",
              "      <td>a</td>\n",
              "      <td>a</td>\n",
              "      <td>a</td>\n",
              "      <td>a</td>\n",
              "      <td>a</td>\n",
              "      <td>a</td>\n",
              "      <td>a</td>\n",
              "      <td>a</td>\n",
              "      <td>...</td>\n",
              "      <td>a</td>\n",
              "      <td>a</td>\n",
              "      <td>a</td>\n",
              "      <td>NaN</td>\n",
              "      <td>a</td>\n",
              "      <td>a</td>\n",
              "      <td>a</td>\n",
              "      <td>NaN</td>\n",
              "      <td>a</td>\n",
              "      <td>a</td>\n",
              "      <td>a</td>\n",
              "      <td>NaN</td>\n",
              "      <td>a</td>\n",
              "      <td>a</td>\n",
              "      <td>a</td>\n",
              "      <td>a</td>\n",
              "      <td>a</td>\n",
              "      <td>a</td>\n",
              "      <td>a</td>\n",
              "      <td>a</td>\n",
              "      <td>a</td>\n",
              "      <td>a</td>\n",
              "      <td>a</td>\n",
              "      <td>a</td>\n",
              "      <td>NaN</td>\n",
              "      <td>a</td>\n",
              "      <td>NaN</td>\n",
              "      <td>NaN</td>\n",
              "      <td>m</td>\n",
              "      <td>a</td>\n",
              "      <td>NaN</td>\n",
              "      <td>m</td>\n",
              "      <td>m</td>\n",
              "      <td>m</td>\n",
              "      <td>NaN</td>\n",
              "      <td>NaN</td>\n",
              "      <td>a</td>\n",
              "      <td>NaN</td>\n",
              "      <td>m</td>\n",
              "      <td>m</td>\n",
              "    </tr>\n",
              "    <tr>\n",
              "      <th>3</th>\n",
              "      <td>FR0004.2017</td>\n",
              "      <td>FR0004</td>\n",
              "      <td>0130236L</td>\n",
              "      <td>NaN</td>\n",
              "      <td>FR</td>\n",
              "      <td>FRL0</td>\n",
              "      <td>43,229591</td>\n",
              "      <td>5,434393</td>\n",
              "      <td>m</td>\n",
              "      <td>m</td>\n",
              "      <td>m</td>\n",
              "      <td>m</td>\n",
              "      <td>m</td>\n",
              "      <td>m</td>\n",
              "      <td>m</td>\n",
              "      <td>m</td>\n",
              "      <td>x</td>\n",
              "      <td>x</td>\n",
              "      <td>x</td>\n",
              "      <td>NaN</td>\n",
              "      <td>x</td>\n",
              "      <td>x</td>\n",
              "      <td>x</td>\n",
              "      <td>NaN</td>\n",
              "      <td>x</td>\n",
              "      <td>x</td>\n",
              "      <td>x</td>\n",
              "      <td>NaN</td>\n",
              "      <td>x</td>\n",
              "      <td>x</td>\n",
              "      <td>x</td>\n",
              "      <td>x</td>\n",
              "      <td>x</td>\n",
              "      <td>x</td>\n",
              "      <td>x</td>\n",
              "      <td>x</td>\n",
              "      <td>x</td>\n",
              "      <td>x</td>\n",
              "      <td>x</td>\n",
              "      <td>x</td>\n",
              "      <td>...</td>\n",
              "      <td>m</td>\n",
              "      <td>m</td>\n",
              "      <td>m</td>\n",
              "      <td>NaN</td>\n",
              "      <td>m</td>\n",
              "      <td>m</td>\n",
              "      <td>m</td>\n",
              "      <td>NaN</td>\n",
              "      <td>m</td>\n",
              "      <td>m</td>\n",
              "      <td>m</td>\n",
              "      <td>NaN</td>\n",
              "      <td>m</td>\n",
              "      <td>m</td>\n",
              "      <td>m</td>\n",
              "      <td>m</td>\n",
              "      <td>m</td>\n",
              "      <td>m</td>\n",
              "      <td>m</td>\n",
              "      <td>m</td>\n",
              "      <td>m</td>\n",
              "      <td>m</td>\n",
              "      <td>m</td>\n",
              "      <td>m</td>\n",
              "      <td>NaN</td>\n",
              "      <td>m</td>\n",
              "      <td>NaN</td>\n",
              "      <td>NaN</td>\n",
              "      <td>m</td>\n",
              "      <td>m</td>\n",
              "      <td>NaN</td>\n",
              "      <td>m</td>\n",
              "      <td>m</td>\n",
              "      <td>m</td>\n",
              "      <td>NaN</td>\n",
              "      <td>NaN</td>\n",
              "      <td>m</td>\n",
              "      <td>NaN</td>\n",
              "      <td>m</td>\n",
              "      <td>m</td>\n",
              "    </tr>\n",
              "    <tr>\n",
              "      <th>4</th>\n",
              "      <td>FR0005.2017</td>\n",
              "      <td>FR0005</td>\n",
              "      <td>0132557J</td>\n",
              "      <td>NaN</td>\n",
              "      <td>FR</td>\n",
              "      <td>FRL0</td>\n",
              "      <td>43,228555</td>\n",
              "      <td>5,43565</td>\n",
              "      <td>m</td>\n",
              "      <td>m</td>\n",
              "      <td>m</td>\n",
              "      <td>m</td>\n",
              "      <td>m</td>\n",
              "      <td>m</td>\n",
              "      <td>m</td>\n",
              "      <td>m</td>\n",
              "      <td>x</td>\n",
              "      <td>x</td>\n",
              "      <td>x</td>\n",
              "      <td>NaN</td>\n",
              "      <td>x</td>\n",
              "      <td>x</td>\n",
              "      <td>x</td>\n",
              "      <td>NaN</td>\n",
              "      <td>x</td>\n",
              "      <td>x</td>\n",
              "      <td>x</td>\n",
              "      <td>NaN</td>\n",
              "      <td>x</td>\n",
              "      <td>x</td>\n",
              "      <td>x</td>\n",
              "      <td>x</td>\n",
              "      <td>x</td>\n",
              "      <td>x</td>\n",
              "      <td>x</td>\n",
              "      <td>x</td>\n",
              "      <td>x</td>\n",
              "      <td>x</td>\n",
              "      <td>x</td>\n",
              "      <td>x</td>\n",
              "      <td>...</td>\n",
              "      <td>m</td>\n",
              "      <td>m</td>\n",
              "      <td>m</td>\n",
              "      <td>NaN</td>\n",
              "      <td>m</td>\n",
              "      <td>m</td>\n",
              "      <td>m</td>\n",
              "      <td>NaN</td>\n",
              "      <td>m</td>\n",
              "      <td>m</td>\n",
              "      <td>m</td>\n",
              "      <td>NaN</td>\n",
              "      <td>m</td>\n",
              "      <td>m</td>\n",
              "      <td>m</td>\n",
              "      <td>m</td>\n",
              "      <td>m</td>\n",
              "      <td>m</td>\n",
              "      <td>m</td>\n",
              "      <td>m</td>\n",
              "      <td>m</td>\n",
              "      <td>m</td>\n",
              "      <td>m</td>\n",
              "      <td>m</td>\n",
              "      <td>NaN</td>\n",
              "      <td>m</td>\n",
              "      <td>NaN</td>\n",
              "      <td>NaN</td>\n",
              "      <td>m</td>\n",
              "      <td>m</td>\n",
              "      <td>NaN</td>\n",
              "      <td>m</td>\n",
              "      <td>m</td>\n",
              "      <td>m</td>\n",
              "      <td>NaN</td>\n",
              "      <td>NaN</td>\n",
              "      <td>m</td>\n",
              "      <td>NaN</td>\n",
              "      <td>m</td>\n",
              "      <td>m</td>\n",
              "    </tr>\n",
              "  </tbody>\n",
              "</table>\n",
              "<p>5 rows × 84 columns</p>\n",
              "</div>"
            ],
            "text/plain": [
              "  ï»¿ETER ID Year  ... Erasmus outgoing students - ISCED 8\n",
              "0     FR0001.2017  ...                                   m\n",
              "1     FR0002.2017  ...                                   m\n",
              "2     FR0003.2017  ...                                   m\n",
              "3     FR0004.2017  ...                                   m\n",
              "4     FR0005.2017  ...                                   m\n",
              "\n",
              "[5 rows x 84 columns]"
            ]
          },
          "metadata": {
            "tags": []
          },
          "execution_count": 5
        }
      ]
    },
    {
      "cell_type": "code",
      "metadata": {
        "id": "J2g4tCno9bJU",
        "colab_type": "code",
        "outputId": "8d48500b-6f47-4730-c6df-4761abbfdcd2",
        "colab": {
          "base_uri": "https://localhost:8080/",
          "height": 34
        }
      },
      "source": [
        "list_country_code = ['IT', 'SE', 'NO', 'FI', 'PT', 'ES']\n",
        "raw_data = raw_data.loc[raw_data[\"Country Code\"].isin(list_country_code)]\n",
        "set(raw_data[\"Country Code\"])"
      ],
      "execution_count": 0,
      "outputs": [
        {
          "output_type": "execute_result",
          "data": {
            "text/plain": [
              "{'ES', 'FI', 'IT', 'NO', 'PT', 'SE'}"
            ]
          },
          "metadata": {
            "tags": []
          },
          "execution_count": 6
        }
      ]
    },
    {
      "cell_type": "code",
      "metadata": {
        "id": "HlSlxmlNLkl7",
        "colab_type": "code",
        "colab": {}
      },
      "source": [
        "raw_data.rename(columns={'ï»¿ETER ID Year':'ETER ID Year'}, inplace=True)"
      ],
      "execution_count": 0,
      "outputs": []
    },
    {
      "cell_type": "code",
      "metadata": {
        "id": "-B5MngbxLflL",
        "colab_type": "code",
        "outputId": "da689ea9-402a-4a91-80c3-79dd52998b98",
        "colab": {
          "base_uri": "https://localhost:8080/",
          "height": 1000
        }
      },
      "source": [
        "raw_data.columns"
      ],
      "execution_count": 0,
      "outputs": [
        {
          "output_type": "execute_result",
          "data": {
            "text/plain": [
              "Index(['ETER ID Year', 'ETER ID', 'National identifier',\n",
              "       'English Institution Name', 'Country Code',\n",
              "       'Region of establishment (NUTS 2)', 'Geographic coordinates - latitude',\n",
              "       'Geographic coordinates - longitude', 'Personnel expenditure (EURO)',\n",
              "       'Non-personnel expenditure (EURO)', 'Expenditure unclassified (EURO)',\n",
              "       'Total Current expenditure (EURO)', 'Capital expenditure (EURO)',\n",
              "       'Basic government allocation (EURO)', 'Total Current revenues (EURO)',\n",
              "       'Research active institution', 'Students enrolled at ISCED 8 - men',\n",
              "       'Students enrolled at ISCED 8 - women',\n",
              "       'Students enrolled ISCED 8 - gender unclassified',\n",
              "       'Flag Students ISCED 8 - gender',\n",
              "       'Students enrolled at ISCED 8 - national',\n",
              "       'Students enrolled at ISCED 8 - foreigner',\n",
              "       'Students enrolled ISCED 8-citizenship unclassified',\n",
              "       'Flag Students ISCED 8 - citizenship',\n",
              "       'Students enrolled at ISCED 8 - resident',\n",
              "       'Students enrolled at ISCED 8 - mobile',\n",
              "       'Students enrolled ISCED 8-mobility unclassified',\n",
              "       'Flag Students ISCED 8 - mobility',\n",
              "       'Students enrolled at ISCED 8 - Generic programmes and qualifications',\n",
              "       'Students enrolled at ISCED 8 - Education',\n",
              "       'Students enrolled at ISCED 8 - Arts and Humanities',\n",
              "       'Students enrolled at ISCED 8 - Social sciences, journalism and information',\n",
              "       'Students enrolled at ISCED 8 - Business, administration and law',\n",
              "       'Students enrolled at ISCED 8 - Natural sciences, mathematics and statistics',\n",
              "       'Students enrolled at ISCED 8 - Information and Communication Technologies',\n",
              "       'Students enrolled at ISCED 8 - Engineering, manufacturing and construction',\n",
              "       'Students enrolled at ISCED 8 - Agriculture, forestry, fisheries and veterinary',\n",
              "       'Students enrolled at ISCED 8 - Health and welfare',\n",
              "       'Students enrolled at ISCED 8 - Services',\n",
              "       'Students enrolled ISCED 8 - ISCED-FoE unclassified',\n",
              "       'Flag Students ISCED 8 - ISCED-FoE',\n",
              "       'Total students enrolled at ISCED 8', 'Flag Total students ISCED 8',\n",
              "       'Notes on students enrolled at ISCED 8', 'Graduates at ISCED 8 - men',\n",
              "       'Graduates at ISCED 8 - women',\n",
              "       'Graduates at ISCED 8 - gender unclassified',\n",
              "       'Flag Graduates ISCED 8 - gender', 'Graduates at ISCED 8 - national',\n",
              "       'Graduates at ISCED 8 - foreigner',\n",
              "       'Graduates at ISCED 8 - citizenship unclassified',\n",
              "       'Flag Graduates ISCED 8 - citizenship',\n",
              "       'Graduates at ISCED 8 - resident', 'Graduates at ISCED 8 - mobile',\n",
              "       'Graduates at ISCED 8 - mobility unclassified',\n",
              "       'Flag Graduates ISCED 8 - mobility',\n",
              "       'Graduates at ISCED 8 - Generic programmes and qualifications',\n",
              "       'Graduates at ISCED 8 - Education',\n",
              "       'Graduates at ISCED 8 - Arts and Humanities',\n",
              "       'Graduates at ISCED 8 - Social sciences, journalism and information',\n",
              "       'Graduates at ISCED 8 - Business, administration and law',\n",
              "       'Graduates at ISCED 8 - Natural sciences, mathematics and statistics',\n",
              "       'Graduates at ISCED 8 - Information and Communication Technologies',\n",
              "       'Graduates at ISCED 8 - Engineering, manufacturing and construction',\n",
              "       'Graduates at ISCED 8 - Agriculture, forestry, fisheries and veterinary',\n",
              "       'Graduates at ISCED 8 - Health and welfare',\n",
              "       'Graduates at ISCED 8 - Services',\n",
              "       'Graduates at ISCED 8 - ISCED-FoE unclassified',\n",
              "       'Flag Graduates ISCED 8 - ISCED-FoE', 'Total graduates at ISCED 8',\n",
              "       'Flag Total graduates ISCED 8', 'Notes on graduates at ISCED 8',\n",
              "       'Included in official R&D statistics', 'R&D Expenditure (EURO)',\n",
              "       'Flag R&D Expenditure', 'EU-FP Researchers mobility',\n",
              "       'EU-FP Staff mobility', 'EU-FP Research training cooperation',\n",
              "       'Flag Researchers mobility', 'Notes on research activities',\n",
              "       'PhD intensity', 'Flag PhD intensity',\n",
              "       'Erasmus incoming students - ISCED 8',\n",
              "       'Erasmus outgoing students - ISCED 8'],\n",
              "      dtype='object')"
            ]
          },
          "metadata": {
            "tags": []
          },
          "execution_count": 8
        }
      ]
    },
    {
      "cell_type": "code",
      "metadata": {
        "id": "KZHJFOcBAMd0",
        "colab_type": "code",
        "colab": {}
      },
      "source": [
        "# variables chosen for the analysis\n",
        "variables = ['ETER ID Year', 'ETER ID', 'National identifier', 'English Institution Name',\n",
        "       'Country Code', 'Region of establishment (NUTS 2)',\n",
        "       'Students enrolled at ISCED 8 - men',\n",
        "       'Students enrolled at ISCED 8 - women',\n",
        "       'Students enrolled ISCED 8 - gender unclassified',\n",
        "       'Students enrolled at ISCED 8 - national',\n",
        "       'Students enrolled at ISCED 8 - foreigner',\n",
        "       'Students enrolled at ISCED 8 - resident',\n",
        "       'Students enrolled at ISCED 8 - mobile',\n",
        "       'Total students enrolled at ISCED 8', 'Graduates at ISCED 8 - men',\n",
        "       'Graduates at ISCED 8 - women',\n",
        "       'Graduates at ISCED 8 - gender unclassified',\n",
        "       'Graduates at ISCED 8 - national',\n",
        "       'Graduates at ISCED 8 - foreigner',\n",
        "       'Graduates at ISCED 8 - resident', 'Graduates at ISCED 8 - mobile',\n",
        "       'Total graduates at ISCED 8','Erasmus incoming students - ISCED 8',\n",
        "       'Erasmus outgoing students - ISCED 8', 'PhD intensity', \n",
        "       'Geographic coordinates - latitude',\n",
        "       'Geographic coordinates - longitude', 'Personnel expenditure (EURO)',\n",
        "       'Non-personnel expenditure (EURO)', 'Expenditure unclassified (EURO)',\n",
        "       'Total Current expenditure (EURO)', 'Capital expenditure (EURO)',\n",
        "       'Basic government allocation (EURO)', 'Total Current revenues (EURO)', \n",
        "       'Research active institution', 'Included in official R&D statistics', 'R&D Expenditure (EURO)'\n",
        "       ]"
      ],
      "execution_count": 0,
      "outputs": []
    },
    {
      "cell_type": "code",
      "metadata": {
        "id": "TnrkkupWrcrN",
        "colab_type": "code",
        "colab": {}
      },
      "source": [
        ""
      ],
      "execution_count": 0,
      "outputs": []
    },
    {
      "cell_type": "code",
      "metadata": {
        "id": "V-HENRGnx8NU",
        "colab_type": "code",
        "colab": {}
      },
      "source": [
        ""
      ],
      "execution_count": 0,
      "outputs": []
    },
    {
      "cell_type": "markdown",
      "metadata": {
        "id": "6LTnlSbVBhRV",
        "colab_type": "text"
      },
      "source": [
        "Accuracy "
      ]
    },
    {
      "cell_type": "code",
      "metadata": {
        "id": "BmA_UkhYBe3T",
        "colab_type": "code",
        "colab": {}
      },
      "source": [
        "missing_values = ['a', 'c', 'm', 's', 'x', 'xc', 'xr', 'nc']\n",
        "raw_data_acc = raw_data[variables]\n",
        "\n",
        "# before accuracy \n",
        "before_accuracy=defaultdict()\n",
        "for j in raw_data_acc.columns:\n",
        "    counter=0\n",
        "    for i in range(len(list((raw_data_acc[j])))):\n",
        "        if str(list(raw_data_acc[j])[i]).isdigit():\n",
        "            if int(list(raw_data_acc[j])[i])>=0:\n",
        "                counter+=1\n",
        "        else:\n",
        "          if list(raw_data_acc[j])[i] in (missing_values):\n",
        "            counter+=1\n",
        "\n",
        "    before_accuracy[j]=counter/len(raw_data)"
      ],
      "execution_count": 0,
      "outputs": []
    },
    {
      "cell_type": "code",
      "metadata": {
        "id": "E5l1JZDEQUw7",
        "colab_type": "code",
        "colab": {}
      },
      "source": [
        "# variables to check the accuracy \n",
        "var_check = [\n",
        "       'Students enrolled at ISCED 8 - men',\n",
        "       'Students enrolled at ISCED 8 - women',\n",
        "       'Students enrolled ISCED 8 - gender unclassified',\n",
        "       'Students enrolled at ISCED 8 - national',\n",
        "       'Students enrolled at ISCED 8 - foreigner',\n",
        "       'Students enrolled at ISCED 8 - resident',\n",
        "       'Students enrolled at ISCED 8 - mobile',\n",
        "       'Total students enrolled at ISCED 8', 'Graduates at ISCED 8 - men',\n",
        "       'Graduates at ISCED 8 - women',\n",
        "       'Graduates at ISCED 8 - gender unclassified',\n",
        "       'Graduates at ISCED 8 - national',\n",
        "       'Graduates at ISCED 8 - foreigner',\n",
        "       'Graduates at ISCED 8 - resident', 'Graduates at ISCED 8 - mobile',\n",
        "       'Total graduates at ISCED 8','Erasmus incoming students - ISCED 8',\n",
        "       'Erasmus outgoing students - ISCED 8', 'PhD intensity', 'Personnel expenditure (EURO)',\n",
        "       'Non-personnel expenditure (EURO)', 'Expenditure unclassified (EURO)',\n",
        "       'Total Current expenditure (EURO)', \n",
        "       'Basic government allocation (EURO)', 'Total Current revenues (EURO)', \n",
        "       'Research active institution', 'Included in official R&D statistics', 'R&D Expenditure (EURO)'\n",
        "       ]"
      ],
      "execution_count": 0,
      "outputs": []
    },
    {
      "cell_type": "code",
      "metadata": {
        "id": "P3YjZ09jBe_P",
        "colab_type": "code",
        "outputId": "1a79e990-0983-4839-ca50-d91613adf684",
        "colab": {
          "base_uri": "https://localhost:8080/",
          "height": 917
        }
      },
      "source": [
        "df_before_accuracy = pd.DataFrame.from_dict(before_accuracy, orient='index',\n",
        "                                            columns=['Before-Accuracy']).loc[var_check, :]\n",
        "df_before_accuracy"
      ],
      "execution_count": 0,
      "outputs": [
        {
          "output_type": "execute_result",
          "data": {
            "text/html": [
              "<div>\n",
              "<style scoped>\n",
              "    .dataframe tbody tr th:only-of-type {\n",
              "        vertical-align: middle;\n",
              "    }\n",
              "\n",
              "    .dataframe tbody tr th {\n",
              "        vertical-align: top;\n",
              "    }\n",
              "\n",
              "    .dataframe thead th {\n",
              "        text-align: right;\n",
              "    }\n",
              "</style>\n",
              "<table border=\"1\" class=\"dataframe\">\n",
              "  <thead>\n",
              "    <tr style=\"text-align: right;\">\n",
              "      <th></th>\n",
              "      <th>Before-Accuracy</th>\n",
              "    </tr>\n",
              "  </thead>\n",
              "  <tbody>\n",
              "    <tr>\n",
              "      <th>Students enrolled at ISCED 8 - men</th>\n",
              "      <td>1.000000</td>\n",
              "    </tr>\n",
              "    <tr>\n",
              "      <th>Students enrolled at ISCED 8 - women</th>\n",
              "      <td>1.000000</td>\n",
              "    </tr>\n",
              "    <tr>\n",
              "      <th>Students enrolled ISCED 8 - gender unclassified</th>\n",
              "      <td>1.000000</td>\n",
              "    </tr>\n",
              "    <tr>\n",
              "      <th>Students enrolled at ISCED 8 - national</th>\n",
              "      <td>1.000000</td>\n",
              "    </tr>\n",
              "    <tr>\n",
              "      <th>Students enrolled at ISCED 8 - foreigner</th>\n",
              "      <td>1.000000</td>\n",
              "    </tr>\n",
              "    <tr>\n",
              "      <th>Students enrolled at ISCED 8 - resident</th>\n",
              "      <td>1.000000</td>\n",
              "    </tr>\n",
              "    <tr>\n",
              "      <th>Students enrolled at ISCED 8 - mobile</th>\n",
              "      <td>1.000000</td>\n",
              "    </tr>\n",
              "    <tr>\n",
              "      <th>Total students enrolled at ISCED 8</th>\n",
              "      <td>1.000000</td>\n",
              "    </tr>\n",
              "    <tr>\n",
              "      <th>Graduates at ISCED 8 - men</th>\n",
              "      <td>1.000000</td>\n",
              "    </tr>\n",
              "    <tr>\n",
              "      <th>Graduates at ISCED 8 - women</th>\n",
              "      <td>1.000000</td>\n",
              "    </tr>\n",
              "    <tr>\n",
              "      <th>Graduates at ISCED 8 - gender unclassified</th>\n",
              "      <td>1.000000</td>\n",
              "    </tr>\n",
              "    <tr>\n",
              "      <th>Graduates at ISCED 8 - national</th>\n",
              "      <td>1.000000</td>\n",
              "    </tr>\n",
              "    <tr>\n",
              "      <th>Graduates at ISCED 8 - foreigner</th>\n",
              "      <td>1.000000</td>\n",
              "    </tr>\n",
              "    <tr>\n",
              "      <th>Graduates at ISCED 8 - resident</th>\n",
              "      <td>1.000000</td>\n",
              "    </tr>\n",
              "    <tr>\n",
              "      <th>Graduates at ISCED 8 - mobile</th>\n",
              "      <td>1.000000</td>\n",
              "    </tr>\n",
              "    <tr>\n",
              "      <th>Total graduates at ISCED 8</th>\n",
              "      <td>1.000000</td>\n",
              "    </tr>\n",
              "    <tr>\n",
              "      <th>Erasmus incoming students - ISCED 8</th>\n",
              "      <td>1.000000</td>\n",
              "    </tr>\n",
              "    <tr>\n",
              "      <th>Erasmus outgoing students - ISCED 8</th>\n",
              "      <td>1.000000</td>\n",
              "    </tr>\n",
              "    <tr>\n",
              "      <th>PhD intensity</th>\n",
              "      <td>0.566257</td>\n",
              "    </tr>\n",
              "    <tr>\n",
              "      <th>Personnel expenditure (EURO)</th>\n",
              "      <td>0.783461</td>\n",
              "    </tr>\n",
              "    <tr>\n",
              "      <th>Non-personnel expenditure (EURO)</th>\n",
              "      <td>0.775822</td>\n",
              "    </tr>\n",
              "    <tr>\n",
              "      <th>Expenditure unclassified (EURO)</th>\n",
              "      <td>0.892395</td>\n",
              "    </tr>\n",
              "    <tr>\n",
              "      <th>Total Current expenditure (EURO)</th>\n",
              "      <td>0.775490</td>\n",
              "    </tr>\n",
              "    <tr>\n",
              "      <th>Basic government allocation (EURO)</th>\n",
              "      <td>0.867154</td>\n",
              "    </tr>\n",
              "    <tr>\n",
              "      <th>Total Current revenues (EURO)</th>\n",
              "      <td>0.775822</td>\n",
              "    </tr>\n",
              "    <tr>\n",
              "      <th>Research active institution</th>\n",
              "      <td>1.000000</td>\n",
              "    </tr>\n",
              "    <tr>\n",
              "      <th>Included in official R&amp;D statistics</th>\n",
              "      <td>1.000000</td>\n",
              "    </tr>\n",
              "    <tr>\n",
              "      <th>R&amp;D Expenditure (EURO)</th>\n",
              "      <td>0.884424</td>\n",
              "    </tr>\n",
              "  </tbody>\n",
              "</table>\n",
              "</div>"
            ],
            "text/plain": [
              "                                                 Before-Accuracy\n",
              "Students enrolled at ISCED 8 - men                      1.000000\n",
              "Students enrolled at ISCED 8 - women                    1.000000\n",
              "Students enrolled ISCED 8 - gender unclassified         1.000000\n",
              "Students enrolled at ISCED 8 - national                 1.000000\n",
              "Students enrolled at ISCED 8 - foreigner                1.000000\n",
              "Students enrolled at ISCED 8 - resident                 1.000000\n",
              "Students enrolled at ISCED 8 - mobile                   1.000000\n",
              "Total students enrolled at ISCED 8                      1.000000\n",
              "Graduates at ISCED 8 - men                              1.000000\n",
              "Graduates at ISCED 8 - women                            1.000000\n",
              "Graduates at ISCED 8 - gender unclassified              1.000000\n",
              "Graduates at ISCED 8 - national                         1.000000\n",
              "Graduates at ISCED 8 - foreigner                        1.000000\n",
              "Graduates at ISCED 8 - resident                         1.000000\n",
              "Graduates at ISCED 8 - mobile                           1.000000\n",
              "Total graduates at ISCED 8                              1.000000\n",
              "Erasmus incoming students - ISCED 8                     1.000000\n",
              "Erasmus outgoing students - ISCED 8                     1.000000\n",
              "PhD intensity                                           0.566257\n",
              "Personnel expenditure (EURO)                            0.783461\n",
              "Non-personnel expenditure (EURO)                        0.775822\n",
              "Expenditure unclassified (EURO)                         0.892395\n",
              "Total Current expenditure (EURO)                        0.775490\n",
              "Basic government allocation (EURO)                      0.867154\n",
              "Total Current revenues (EURO)                           0.775822\n",
              "Research active institution                             1.000000\n",
              "Included in official R&D statistics                     1.000000\n",
              "R&D Expenditure (EURO)                                  0.884424"
            ]
          },
          "metadata": {
            "tags": []
          },
          "execution_count": 10
        }
      ]
    },
    {
      "cell_type": "code",
      "metadata": {
        "id": "l5fibS45KZ0h",
        "colab_type": "code",
        "outputId": "b56ebfe0-463c-41de-f9cd-3e683cfcd568",
        "colab": {
          "base_uri": "https://localhost:8080/",
          "height": 119
        }
      },
      "source": [
        "for i in var_check:\n",
        "    aux_list=[]\n",
        "    for j in list(raw_data_acc[i]):\n",
        "        try:\n",
        "            aux_list.append(str(int(j)))\n",
        "        except:\n",
        "            try:\n",
        "                aux_list.append(str(int(round(float('.'.join((j.split(',')))))))) \n",
        "            except:\n",
        "                aux_list.append(j)\n",
        "    raw_data_acc[i]=aux_list"
      ],
      "execution_count": 0,
      "outputs": [
        {
          "output_type": "stream",
          "text": [
            "/usr/local/lib/python3.6/dist-packages/ipykernel_launcher.py:11: SettingWithCopyWarning: \n",
            "A value is trying to be set on a copy of a slice from a DataFrame.\n",
            "Try using .loc[row_indexer,col_indexer] = value instead\n",
            "\n",
            "See the caveats in the documentation: https://pandas.pydata.org/pandas-docs/stable/user_guide/indexing.html#returning-a-view-versus-a-copy\n",
            "  # This is added back by InteractiveShellApp.init_path()\n"
          ],
          "name": "stderr"
        }
      ]
    },
    {
      "cell_type": "code",
      "metadata": {
        "id": "8_IUEKV7BfGp",
        "colab_type": "code",
        "colab": {}
      },
      "source": [
        "raw_data_acc = raw_data_acc.replace(['a', 'c', 'm', 's', 'x', 'xc', 'xr'], 0)\n",
        "raw_data_acc = raw_data_acc.fillna(0)\n",
        "\n",
        "# after accuracy\n",
        "after_accuracy=defaultdict()\n",
        "for j in var_check:\n",
        "    counter=0\n",
        "    for i in range(len(list((raw_data_acc[j])))):\n",
        "        if str(list(raw_data_acc[j])[i]).isdigit():\n",
        "            if int(list(raw_data_acc[j])[i])>=0:\n",
        "                counter+=1\n",
        "        else:\n",
        "            if list(raw_data_acc[j])[i] in (missing_values):\n",
        "                counter+=1\n",
        "    after_accuracy[j]=counter/len(raw_data)"
      ],
      "execution_count": 0,
      "outputs": []
    },
    {
      "cell_type": "code",
      "metadata": {
        "id": "AdKioNaYBfNC",
        "colab_type": "code",
        "outputId": "273ffb4b-3df8-4ea1-e0c9-fe99cc2f8c85",
        "colab": {
          "base_uri": "https://localhost:8080/",
          "height": 917
        }
      },
      "source": [
        "df_after_accuracy=pd.DataFrame.from_dict(after_accuracy, orient='index', \n",
        "                                         columns=['After-Accuracy']).loc[var_check, :]\n",
        "df_after_accuracy"
      ],
      "execution_count": 0,
      "outputs": [
        {
          "output_type": "execute_result",
          "data": {
            "text/html": [
              "<div>\n",
              "<style scoped>\n",
              "    .dataframe tbody tr th:only-of-type {\n",
              "        vertical-align: middle;\n",
              "    }\n",
              "\n",
              "    .dataframe tbody tr th {\n",
              "        vertical-align: top;\n",
              "    }\n",
              "\n",
              "    .dataframe thead th {\n",
              "        text-align: right;\n",
              "    }\n",
              "</style>\n",
              "<table border=\"1\" class=\"dataframe\">\n",
              "  <thead>\n",
              "    <tr style=\"text-align: right;\">\n",
              "      <th></th>\n",
              "      <th>After-Accuracy</th>\n",
              "    </tr>\n",
              "  </thead>\n",
              "  <tbody>\n",
              "    <tr>\n",
              "      <th>Students enrolled at ISCED 8 - men</th>\n",
              "      <td>1.0</td>\n",
              "    </tr>\n",
              "    <tr>\n",
              "      <th>Students enrolled at ISCED 8 - women</th>\n",
              "      <td>1.0</td>\n",
              "    </tr>\n",
              "    <tr>\n",
              "      <th>Students enrolled ISCED 8 - gender unclassified</th>\n",
              "      <td>1.0</td>\n",
              "    </tr>\n",
              "    <tr>\n",
              "      <th>Students enrolled at ISCED 8 - national</th>\n",
              "      <td>1.0</td>\n",
              "    </tr>\n",
              "    <tr>\n",
              "      <th>Students enrolled at ISCED 8 - foreigner</th>\n",
              "      <td>1.0</td>\n",
              "    </tr>\n",
              "    <tr>\n",
              "      <th>Students enrolled at ISCED 8 - resident</th>\n",
              "      <td>1.0</td>\n",
              "    </tr>\n",
              "    <tr>\n",
              "      <th>Students enrolled at ISCED 8 - mobile</th>\n",
              "      <td>1.0</td>\n",
              "    </tr>\n",
              "    <tr>\n",
              "      <th>Total students enrolled at ISCED 8</th>\n",
              "      <td>1.0</td>\n",
              "    </tr>\n",
              "    <tr>\n",
              "      <th>Graduates at ISCED 8 - men</th>\n",
              "      <td>1.0</td>\n",
              "    </tr>\n",
              "    <tr>\n",
              "      <th>Graduates at ISCED 8 - women</th>\n",
              "      <td>1.0</td>\n",
              "    </tr>\n",
              "    <tr>\n",
              "      <th>Graduates at ISCED 8 - gender unclassified</th>\n",
              "      <td>1.0</td>\n",
              "    </tr>\n",
              "    <tr>\n",
              "      <th>Graduates at ISCED 8 - national</th>\n",
              "      <td>1.0</td>\n",
              "    </tr>\n",
              "    <tr>\n",
              "      <th>Graduates at ISCED 8 - foreigner</th>\n",
              "      <td>1.0</td>\n",
              "    </tr>\n",
              "    <tr>\n",
              "      <th>Graduates at ISCED 8 - resident</th>\n",
              "      <td>1.0</td>\n",
              "    </tr>\n",
              "    <tr>\n",
              "      <th>Graduates at ISCED 8 - mobile</th>\n",
              "      <td>1.0</td>\n",
              "    </tr>\n",
              "    <tr>\n",
              "      <th>Total graduates at ISCED 8</th>\n",
              "      <td>1.0</td>\n",
              "    </tr>\n",
              "    <tr>\n",
              "      <th>Erasmus incoming students - ISCED 8</th>\n",
              "      <td>1.0</td>\n",
              "    </tr>\n",
              "    <tr>\n",
              "      <th>Erasmus outgoing students - ISCED 8</th>\n",
              "      <td>1.0</td>\n",
              "    </tr>\n",
              "    <tr>\n",
              "      <th>PhD intensity</th>\n",
              "      <td>1.0</td>\n",
              "    </tr>\n",
              "    <tr>\n",
              "      <th>Personnel expenditure (EURO)</th>\n",
              "      <td>1.0</td>\n",
              "    </tr>\n",
              "    <tr>\n",
              "      <th>Non-personnel expenditure (EURO)</th>\n",
              "      <td>1.0</td>\n",
              "    </tr>\n",
              "    <tr>\n",
              "      <th>Expenditure unclassified (EURO)</th>\n",
              "      <td>1.0</td>\n",
              "    </tr>\n",
              "    <tr>\n",
              "      <th>Total Current expenditure (EURO)</th>\n",
              "      <td>1.0</td>\n",
              "    </tr>\n",
              "    <tr>\n",
              "      <th>Basic government allocation (EURO)</th>\n",
              "      <td>1.0</td>\n",
              "    </tr>\n",
              "    <tr>\n",
              "      <th>Total Current revenues (EURO)</th>\n",
              "      <td>1.0</td>\n",
              "    </tr>\n",
              "    <tr>\n",
              "      <th>Research active institution</th>\n",
              "      <td>1.0</td>\n",
              "    </tr>\n",
              "    <tr>\n",
              "      <th>Included in official R&amp;D statistics</th>\n",
              "      <td>1.0</td>\n",
              "    </tr>\n",
              "    <tr>\n",
              "      <th>R&amp;D Expenditure (EURO)</th>\n",
              "      <td>1.0</td>\n",
              "    </tr>\n",
              "  </tbody>\n",
              "</table>\n",
              "</div>"
            ],
            "text/plain": [
              "                                                 After-Accuracy\n",
              "Students enrolled at ISCED 8 - men                          1.0\n",
              "Students enrolled at ISCED 8 - women                        1.0\n",
              "Students enrolled ISCED 8 - gender unclassified             1.0\n",
              "Students enrolled at ISCED 8 - national                     1.0\n",
              "Students enrolled at ISCED 8 - foreigner                    1.0\n",
              "Students enrolled at ISCED 8 - resident                     1.0\n",
              "Students enrolled at ISCED 8 - mobile                       1.0\n",
              "Total students enrolled at ISCED 8                          1.0\n",
              "Graduates at ISCED 8 - men                                  1.0\n",
              "Graduates at ISCED 8 - women                                1.0\n",
              "Graduates at ISCED 8 - gender unclassified                  1.0\n",
              "Graduates at ISCED 8 - national                             1.0\n",
              "Graduates at ISCED 8 - foreigner                            1.0\n",
              "Graduates at ISCED 8 - resident                             1.0\n",
              "Graduates at ISCED 8 - mobile                               1.0\n",
              "Total graduates at ISCED 8                                  1.0\n",
              "Erasmus incoming students - ISCED 8                         1.0\n",
              "Erasmus outgoing students - ISCED 8                         1.0\n",
              "PhD intensity                                               1.0\n",
              "Personnel expenditure (EURO)                                1.0\n",
              "Non-personnel expenditure (EURO)                            1.0\n",
              "Expenditure unclassified (EURO)                             1.0\n",
              "Total Current expenditure (EURO)                            1.0\n",
              "Basic government allocation (EURO)                          1.0\n",
              "Total Current revenues (EURO)                               1.0\n",
              "Research active institution                                 1.0\n",
              "Included in official R&D statistics                         1.0\n",
              "R&D Expenditure (EURO)                                      1.0"
            ]
          },
          "metadata": {
            "tags": []
          },
          "execution_count": 13
        }
      ]
    },
    {
      "cell_type": "code",
      "metadata": {
        "id": "H9vK1S2y4T2s",
        "colab_type": "code",
        "outputId": "6f976e1d-8272-4c28-c79d-0c2f6e01a90a",
        "colab": {
          "base_uri": "https://localhost:8080/",
          "height": 917
        }
      },
      "source": [
        "pd.concat([df_before_accuracy, df_after_accuracy], axis=1)"
      ],
      "execution_count": 0,
      "outputs": [
        {
          "output_type": "execute_result",
          "data": {
            "text/html": [
              "<div>\n",
              "<style scoped>\n",
              "    .dataframe tbody tr th:only-of-type {\n",
              "        vertical-align: middle;\n",
              "    }\n",
              "\n",
              "    .dataframe tbody tr th {\n",
              "        vertical-align: top;\n",
              "    }\n",
              "\n",
              "    .dataframe thead th {\n",
              "        text-align: right;\n",
              "    }\n",
              "</style>\n",
              "<table border=\"1\" class=\"dataframe\">\n",
              "  <thead>\n",
              "    <tr style=\"text-align: right;\">\n",
              "      <th></th>\n",
              "      <th>Before-Accuracy</th>\n",
              "      <th>After-Accuracy</th>\n",
              "    </tr>\n",
              "  </thead>\n",
              "  <tbody>\n",
              "    <tr>\n",
              "      <th>Students enrolled at ISCED 8 - men</th>\n",
              "      <td>1.000000</td>\n",
              "      <td>1.0</td>\n",
              "    </tr>\n",
              "    <tr>\n",
              "      <th>Students enrolled at ISCED 8 - women</th>\n",
              "      <td>1.000000</td>\n",
              "      <td>1.0</td>\n",
              "    </tr>\n",
              "    <tr>\n",
              "      <th>Students enrolled ISCED 8 - gender unclassified</th>\n",
              "      <td>1.000000</td>\n",
              "      <td>1.0</td>\n",
              "    </tr>\n",
              "    <tr>\n",
              "      <th>Students enrolled at ISCED 8 - national</th>\n",
              "      <td>1.000000</td>\n",
              "      <td>1.0</td>\n",
              "    </tr>\n",
              "    <tr>\n",
              "      <th>Students enrolled at ISCED 8 - foreigner</th>\n",
              "      <td>1.000000</td>\n",
              "      <td>1.0</td>\n",
              "    </tr>\n",
              "    <tr>\n",
              "      <th>Students enrolled at ISCED 8 - resident</th>\n",
              "      <td>1.000000</td>\n",
              "      <td>1.0</td>\n",
              "    </tr>\n",
              "    <tr>\n",
              "      <th>Students enrolled at ISCED 8 - mobile</th>\n",
              "      <td>1.000000</td>\n",
              "      <td>1.0</td>\n",
              "    </tr>\n",
              "    <tr>\n",
              "      <th>Total students enrolled at ISCED 8</th>\n",
              "      <td>1.000000</td>\n",
              "      <td>1.0</td>\n",
              "    </tr>\n",
              "    <tr>\n",
              "      <th>Graduates at ISCED 8 - men</th>\n",
              "      <td>1.000000</td>\n",
              "      <td>1.0</td>\n",
              "    </tr>\n",
              "    <tr>\n",
              "      <th>Graduates at ISCED 8 - women</th>\n",
              "      <td>1.000000</td>\n",
              "      <td>1.0</td>\n",
              "    </tr>\n",
              "    <tr>\n",
              "      <th>Graduates at ISCED 8 - gender unclassified</th>\n",
              "      <td>1.000000</td>\n",
              "      <td>1.0</td>\n",
              "    </tr>\n",
              "    <tr>\n",
              "      <th>Graduates at ISCED 8 - national</th>\n",
              "      <td>1.000000</td>\n",
              "      <td>1.0</td>\n",
              "    </tr>\n",
              "    <tr>\n",
              "      <th>Graduates at ISCED 8 - foreigner</th>\n",
              "      <td>1.000000</td>\n",
              "      <td>1.0</td>\n",
              "    </tr>\n",
              "    <tr>\n",
              "      <th>Graduates at ISCED 8 - resident</th>\n",
              "      <td>1.000000</td>\n",
              "      <td>1.0</td>\n",
              "    </tr>\n",
              "    <tr>\n",
              "      <th>Graduates at ISCED 8 - mobile</th>\n",
              "      <td>1.000000</td>\n",
              "      <td>1.0</td>\n",
              "    </tr>\n",
              "    <tr>\n",
              "      <th>Total graduates at ISCED 8</th>\n",
              "      <td>1.000000</td>\n",
              "      <td>1.0</td>\n",
              "    </tr>\n",
              "    <tr>\n",
              "      <th>Erasmus incoming students - ISCED 8</th>\n",
              "      <td>1.000000</td>\n",
              "      <td>1.0</td>\n",
              "    </tr>\n",
              "    <tr>\n",
              "      <th>Erasmus outgoing students - ISCED 8</th>\n",
              "      <td>1.000000</td>\n",
              "      <td>1.0</td>\n",
              "    </tr>\n",
              "    <tr>\n",
              "      <th>PhD intensity</th>\n",
              "      <td>0.566257</td>\n",
              "      <td>1.0</td>\n",
              "    </tr>\n",
              "    <tr>\n",
              "      <th>Personnel expenditure (EURO)</th>\n",
              "      <td>0.783461</td>\n",
              "      <td>1.0</td>\n",
              "    </tr>\n",
              "    <tr>\n",
              "      <th>Non-personnel expenditure (EURO)</th>\n",
              "      <td>0.775822</td>\n",
              "      <td>1.0</td>\n",
              "    </tr>\n",
              "    <tr>\n",
              "      <th>Expenditure unclassified (EURO)</th>\n",
              "      <td>0.892395</td>\n",
              "      <td>1.0</td>\n",
              "    </tr>\n",
              "    <tr>\n",
              "      <th>Total Current expenditure (EURO)</th>\n",
              "      <td>0.775490</td>\n",
              "      <td>1.0</td>\n",
              "    </tr>\n",
              "    <tr>\n",
              "      <th>Basic government allocation (EURO)</th>\n",
              "      <td>0.867154</td>\n",
              "      <td>1.0</td>\n",
              "    </tr>\n",
              "    <tr>\n",
              "      <th>Total Current revenues (EURO)</th>\n",
              "      <td>0.775822</td>\n",
              "      <td>1.0</td>\n",
              "    </tr>\n",
              "    <tr>\n",
              "      <th>Research active institution</th>\n",
              "      <td>1.000000</td>\n",
              "      <td>1.0</td>\n",
              "    </tr>\n",
              "    <tr>\n",
              "      <th>Included in official R&amp;D statistics</th>\n",
              "      <td>1.000000</td>\n",
              "      <td>1.0</td>\n",
              "    </tr>\n",
              "    <tr>\n",
              "      <th>R&amp;D Expenditure (EURO)</th>\n",
              "      <td>0.884424</td>\n",
              "      <td>1.0</td>\n",
              "    </tr>\n",
              "  </tbody>\n",
              "</table>\n",
              "</div>"
            ],
            "text/plain": [
              "                                                 Before-Accuracy  After-Accuracy\n",
              "Students enrolled at ISCED 8 - men                      1.000000             1.0\n",
              "Students enrolled at ISCED 8 - women                    1.000000             1.0\n",
              "Students enrolled ISCED 8 - gender unclassified         1.000000             1.0\n",
              "Students enrolled at ISCED 8 - national                 1.000000             1.0\n",
              "Students enrolled at ISCED 8 - foreigner                1.000000             1.0\n",
              "Students enrolled at ISCED 8 - resident                 1.000000             1.0\n",
              "Students enrolled at ISCED 8 - mobile                   1.000000             1.0\n",
              "Total students enrolled at ISCED 8                      1.000000             1.0\n",
              "Graduates at ISCED 8 - men                              1.000000             1.0\n",
              "Graduates at ISCED 8 - women                            1.000000             1.0\n",
              "Graduates at ISCED 8 - gender unclassified              1.000000             1.0\n",
              "Graduates at ISCED 8 - national                         1.000000             1.0\n",
              "Graduates at ISCED 8 - foreigner                        1.000000             1.0\n",
              "Graduates at ISCED 8 - resident                         1.000000             1.0\n",
              "Graduates at ISCED 8 - mobile                           1.000000             1.0\n",
              "Total graduates at ISCED 8                              1.000000             1.0\n",
              "Erasmus incoming students - ISCED 8                     1.000000             1.0\n",
              "Erasmus outgoing students - ISCED 8                     1.000000             1.0\n",
              "PhD intensity                                           0.566257             1.0\n",
              "Personnel expenditure (EURO)                            0.783461             1.0\n",
              "Non-personnel expenditure (EURO)                        0.775822             1.0\n",
              "Expenditure unclassified (EURO)                         0.892395             1.0\n",
              "Total Current expenditure (EURO)                        0.775490             1.0\n",
              "Basic government allocation (EURO)                      0.867154             1.0\n",
              "Total Current revenues (EURO)                           0.775822             1.0\n",
              "Research active institution                             1.000000             1.0\n",
              "Included in official R&D statistics                     1.000000             1.0\n",
              "R&D Expenditure (EURO)                                  0.884424             1.0"
            ]
          },
          "metadata": {
            "tags": []
          },
          "execution_count": 14
        }
      ]
    },
    {
      "cell_type": "markdown",
      "metadata": {
        "id": "SC2SAEYYL3Uv",
        "colab_type": "text"
      },
      "source": [
        "Completeness "
      ]
    },
    {
      "cell_type": "code",
      "metadata": {
        "id": "E1p9ziBjBfTK",
        "colab_type": "code",
        "colab": {}
      },
      "source": [
        "raw_data_completeness = raw_data[variables]"
      ],
      "execution_count": 0,
      "outputs": []
    },
    {
      "cell_type": "code",
      "metadata": {
        "id": "JAgkTo6MBfZe",
        "colab_type": "code",
        "outputId": "7427b190-ea4b-405d-9164-5df78ee9c1bb",
        "colab": {
          "base_uri": "https://localhost:8080/",
          "height": 663
        }
      },
      "source": [
        "# check the number of null values for each variable\n",
        "raw_data_completeness.isnull().sum()\n",
        "# only one variable has some null values, the other have no nulls "
      ],
      "execution_count": 0,
      "outputs": [
        {
          "output_type": "execute_result",
          "data": {
            "text/plain": [
              "ETER ID Year                                        0\n",
              "ETER ID                                             0\n",
              "National identifier                                 0\n",
              "English Institution Name                           18\n",
              "Country Code                                        0\n",
              "Region of establishment (NUTS 2)                    0\n",
              "Students enrolled at ISCED 8 - men                  0\n",
              "Students enrolled at ISCED 8 - women                0\n",
              "Students enrolled ISCED 8 - gender unclassified     0\n",
              "Students enrolled at ISCED 8 - national             0\n",
              "Students enrolled at ISCED 8 - foreigner            0\n",
              "Students enrolled at ISCED 8 - resident             0\n",
              "Students enrolled at ISCED 8 - mobile               0\n",
              "Total students enrolled at ISCED 8                  0\n",
              "Graduates at ISCED 8 - men                          0\n",
              "Graduates at ISCED 8 - women                        0\n",
              "Graduates at ISCED 8 - gender unclassified          0\n",
              "Graduates at ISCED 8 - national                     0\n",
              "Graduates at ISCED 8 - foreigner                    0\n",
              "Graduates at ISCED 8 - resident                     0\n",
              "Graduates at ISCED 8 - mobile                       0\n",
              "Total graduates at ISCED 8                          0\n",
              "Erasmus incoming students - ISCED 8                 0\n",
              "Erasmus outgoing students - ISCED 8                 0\n",
              "PhD intensity                                       0\n",
              "Geographic coordinates - latitude                   0\n",
              "Geographic coordinates - longitude                  0\n",
              "Personnel expenditure (EURO)                        0\n",
              "Non-personnel expenditure (EURO)                    0\n",
              "Expenditure unclassified (EURO)                     0\n",
              "Total Current expenditure (EURO)                    0\n",
              "Capital expenditure (EURO)                          0\n",
              "Basic government allocation (EURO)                  0\n",
              "Total Current revenues (EURO)                       0\n",
              "Research active institution                         0\n",
              "Included in official R&D statistics                 0\n",
              "R&D Expenditure (EURO)                              0\n",
              "dtype: int64"
            ]
          },
          "metadata": {
            "tags": []
          },
          "execution_count": 17
        }
      ]
    },
    {
      "cell_type": "code",
      "metadata": {
        "id": "9AUEegRvBffq",
        "colab_type": "code",
        "colab": {}
      },
      "source": [
        "# Missing values replaced witht the string 'None'\n",
        "missing_values = ['a', 'c', 'm', 's', 'x', 'xc', 'xr', 'nc']\n",
        "raw_data_completeness = raw_data_completeness.replace(missing_values, 'None') \n",
        "raw_data_completeness = raw_data_completeness.fillna('None')"
      ],
      "execution_count": 0,
      "outputs": []
    },
    {
      "cell_type": "code",
      "metadata": {
        "id": "p5AzByqKBfkl",
        "colab_type": "code",
        "outputId": "70e7c995-8073-424b-c8b5-6084e1b42f72",
        "colab": {
          "base_uri": "https://localhost:8080/",
          "height": 1000
        }
      },
      "source": [
        "missing = defaultdict()\n",
        "for i in raw_data_completeness.columns:\n",
        "    missing[i] = 1 - Counter(raw_data_completeness[i])['None']/sum(Counter(raw_data_completeness[i]).values())\n",
        "df_compl_before = pd.DataFrame.from_dict(missing, orient='index', \n",
        "                                         columns=['Before']).loc[raw_data_completeness.columns,:]\n",
        "df_compl_before                                         "
      ],
      "execution_count": 0,
      "outputs": [
        {
          "output_type": "execute_result",
          "data": {
            "text/html": [
              "<div>\n",
              "<style scoped>\n",
              "    .dataframe tbody tr th:only-of-type {\n",
              "        vertical-align: middle;\n",
              "    }\n",
              "\n",
              "    .dataframe tbody tr th {\n",
              "        vertical-align: top;\n",
              "    }\n",
              "\n",
              "    .dataframe thead th {\n",
              "        text-align: right;\n",
              "    }\n",
              "</style>\n",
              "<table border=\"1\" class=\"dataframe\">\n",
              "  <thead>\n",
              "    <tr style=\"text-align: right;\">\n",
              "      <th></th>\n",
              "      <th>Before</th>\n",
              "    </tr>\n",
              "  </thead>\n",
              "  <tbody>\n",
              "    <tr>\n",
              "      <th>ETER ID Year</th>\n",
              "      <td>1.000000</td>\n",
              "    </tr>\n",
              "    <tr>\n",
              "      <th>ETER ID</th>\n",
              "      <td>1.000000</td>\n",
              "    </tr>\n",
              "    <tr>\n",
              "      <th>National identifier</th>\n",
              "      <td>0.445699</td>\n",
              "    </tr>\n",
              "    <tr>\n",
              "      <th>English Institution Name</th>\n",
              "      <td>0.994022</td>\n",
              "    </tr>\n",
              "    <tr>\n",
              "      <th>Country Code</th>\n",
              "      <td>1.000000</td>\n",
              "    </tr>\n",
              "    <tr>\n",
              "      <th>Region of establishment (NUTS 2)</th>\n",
              "      <td>1.000000</td>\n",
              "    </tr>\n",
              "    <tr>\n",
              "      <th>Students enrolled at ISCED 8 - men</th>\n",
              "      <td>0.419462</td>\n",
              "    </tr>\n",
              "    <tr>\n",
              "      <th>Students enrolled at ISCED 8 - women</th>\n",
              "      <td>0.422783</td>\n",
              "    </tr>\n",
              "    <tr>\n",
              "      <th>Students enrolled ISCED 8 - gender unclassified</th>\n",
              "      <td>0.415144</td>\n",
              "    </tr>\n",
              "    <tr>\n",
              "      <th>Students enrolled at ISCED 8 - national</th>\n",
              "      <td>0.326470</td>\n",
              "    </tr>\n",
              "    <tr>\n",
              "      <th>Students enrolled at ISCED 8 - foreigner</th>\n",
              "      <td>0.303554</td>\n",
              "    </tr>\n",
              "    <tr>\n",
              "      <th>Students enrolled at ISCED 8 - resident</th>\n",
              "      <td>0.184324</td>\n",
              "    </tr>\n",
              "    <tr>\n",
              "      <th>Students enrolled at ISCED 8 - mobile</th>\n",
              "      <td>0.174693</td>\n",
              "    </tr>\n",
              "    <tr>\n",
              "      <th>Total students enrolled at ISCED 8</th>\n",
              "      <td>0.428761</td>\n",
              "    </tr>\n",
              "    <tr>\n",
              "      <th>Graduates at ISCED 8 - men</th>\n",
              "      <td>0.457655</td>\n",
              "    </tr>\n",
              "    <tr>\n",
              "      <th>Graduates at ISCED 8 - women</th>\n",
              "      <td>0.454998</td>\n",
              "    </tr>\n",
              "    <tr>\n",
              "      <th>Graduates at ISCED 8 - gender unclassified</th>\n",
              "      <td>0.442046</td>\n",
              "    </tr>\n",
              "    <tr>\n",
              "      <th>Graduates at ISCED 8 - national</th>\n",
              "      <td>0.463633</td>\n",
              "    </tr>\n",
              "    <tr>\n",
              "      <th>Graduates at ISCED 8 - foreigner</th>\n",
              "      <td>0.405181</td>\n",
              "    </tr>\n",
              "    <tr>\n",
              "      <th>Graduates at ISCED 8 - resident</th>\n",
              "      <td>0.121554</td>\n",
              "    </tr>\n",
              "    <tr>\n",
              "      <th>Graduates at ISCED 8 - mobile</th>\n",
              "      <td>0.112919</td>\n",
              "    </tr>\n",
              "    <tr>\n",
              "      <th>Total graduates at ISCED 8</th>\n",
              "      <td>0.479243</td>\n",
              "    </tr>\n",
              "    <tr>\n",
              "      <th>Erasmus incoming students - ISCED 8</th>\n",
              "      <td>0.568582</td>\n",
              "    </tr>\n",
              "    <tr>\n",
              "      <th>Erasmus outgoing students - ISCED 8</th>\n",
              "      <td>0.561940</td>\n",
              "    </tr>\n",
              "    <tr>\n",
              "      <th>PhD intensity</th>\n",
              "      <td>0.470940</td>\n",
              "    </tr>\n",
              "    <tr>\n",
              "      <th>Geographic coordinates - latitude</th>\n",
              "      <td>1.000000</td>\n",
              "    </tr>\n",
              "    <tr>\n",
              "      <th>Geographic coordinates - longitude</th>\n",
              "      <td>1.000000</td>\n",
              "    </tr>\n",
              "    <tr>\n",
              "      <th>Personnel expenditure (EURO)</th>\n",
              "      <td>0.457987</td>\n",
              "    </tr>\n",
              "    <tr>\n",
              "      <th>Non-personnel expenditure (EURO)</th>\n",
              "      <td>0.457987</td>\n",
              "    </tr>\n",
              "    <tr>\n",
              "      <th>Expenditure unclassified (EURO)</th>\n",
              "      <td>0.457987</td>\n",
              "    </tr>\n",
              "    <tr>\n",
              "      <th>Total Current expenditure (EURO)</th>\n",
              "      <td>0.459316</td>\n",
              "    </tr>\n",
              "    <tr>\n",
              "      <th>Capital expenditure (EURO)</th>\n",
              "      <td>0.397542</td>\n",
              "    </tr>\n",
              "    <tr>\n",
              "      <th>Basic government allocation (EURO)</th>\n",
              "      <td>0.317835</td>\n",
              "    </tr>\n",
              "    <tr>\n",
              "      <th>Total Current revenues (EURO)</th>\n",
              "      <td>0.457987</td>\n",
              "    </tr>\n",
              "    <tr>\n",
              "      <th>Research active institution</th>\n",
              "      <td>1.000000</td>\n",
              "    </tr>\n",
              "    <tr>\n",
              "      <th>Included in official R&amp;D statistics</th>\n",
              "      <td>1.000000</td>\n",
              "    </tr>\n",
              "    <tr>\n",
              "      <th>R&amp;D Expenditure (EURO)</th>\n",
              "      <td>0.169379</td>\n",
              "    </tr>\n",
              "  </tbody>\n",
              "</table>\n",
              "</div>"
            ],
            "text/plain": [
              "                                                   Before\n",
              "ETER ID Year                                     1.000000\n",
              "ETER ID                                          1.000000\n",
              "National identifier                              0.445699\n",
              "English Institution Name                         0.994022\n",
              "Country Code                                     1.000000\n",
              "Region of establishment (NUTS 2)                 1.000000\n",
              "Students enrolled at ISCED 8 - men               0.419462\n",
              "Students enrolled at ISCED 8 - women             0.422783\n",
              "Students enrolled ISCED 8 - gender unclassified  0.415144\n",
              "Students enrolled at ISCED 8 - national          0.326470\n",
              "Students enrolled at ISCED 8 - foreigner         0.303554\n",
              "Students enrolled at ISCED 8 - resident          0.184324\n",
              "Students enrolled at ISCED 8 - mobile            0.174693\n",
              "Total students enrolled at ISCED 8               0.428761\n",
              "Graduates at ISCED 8 - men                       0.457655\n",
              "Graduates at ISCED 8 - women                     0.454998\n",
              "Graduates at ISCED 8 - gender unclassified       0.442046\n",
              "Graduates at ISCED 8 - national                  0.463633\n",
              "Graduates at ISCED 8 - foreigner                 0.405181\n",
              "Graduates at ISCED 8 - resident                  0.121554\n",
              "Graduates at ISCED 8 - mobile                    0.112919\n",
              "Total graduates at ISCED 8                       0.479243\n",
              "Erasmus incoming students - ISCED 8              0.568582\n",
              "Erasmus outgoing students - ISCED 8              0.561940\n",
              "PhD intensity                                    0.470940\n",
              "Geographic coordinates - latitude                1.000000\n",
              "Geographic coordinates - longitude               1.000000\n",
              "Personnel expenditure (EURO)                     0.457987\n",
              "Non-personnel expenditure (EURO)                 0.457987\n",
              "Expenditure unclassified (EURO)                  0.457987\n",
              "Total Current expenditure (EURO)                 0.459316\n",
              "Capital expenditure (EURO)                       0.397542\n",
              "Basic government allocation (EURO)               0.317835\n",
              "Total Current revenues (EURO)                    0.457987\n",
              "Research active institution                      1.000000\n",
              "Included in official R&D statistics              1.000000\n",
              "R&D Expenditure (EURO)                           0.169379"
            ]
          },
          "metadata": {
            "tags": []
          },
          "execution_count": 19
        }
      ]
    },
    {
      "cell_type": "code",
      "metadata": {
        "id": "I8CsSwBtRQR7",
        "colab_type": "code",
        "colab": {}
      },
      "source": [
        "for i in raw_data_completeness.columns:\n",
        "    aux_list=[]\n",
        "    for j in list(raw_data_completeness[i]):\n",
        "        try:\n",
        "            aux_list.append(str(int(j)))\n",
        "        except:\n",
        "            try:\n",
        "                aux_list.append(str(int(round(float('.'.join((j.split(','))))))))\n",
        "            except:\n",
        "                aux_list.append(j)\n",
        "    raw_data_completeness[i] = aux_list"
      ],
      "execution_count": 0,
      "outputs": []
    },
    {
      "cell_type": "code",
      "metadata": {
        "id": "ozev-7u-RQo4",
        "colab_type": "code",
        "colab": {}
      },
      "source": [
        "raw_data_completeness = raw_data_completeness.replace('None', np.nan) \n",
        "\n",
        "df_count = pd.DataFrame(raw_data_completeness.isna().sum(axis=1))\n",
        "uni_column = raw_data_completeness['English Institution Name']\n",
        "data_count = pd.concat([df_count,uni_column], axis = 1)\n",
        "df = data_count.groupby(['English Institution Name'])[0].sum()"
      ],
      "execution_count": 0,
      "outputs": []
    },
    {
      "cell_type": "code",
      "metadata": {
        "id": "TMfOU2UWUHKd",
        "colab_type": "code",
        "colab": {}
      },
      "source": [
        "df = pd.DataFrame({'English Institution Name':df.index, 'sum_null':df.values})"
      ],
      "execution_count": 0,
      "outputs": []
    },
    {
      "cell_type": "code",
      "metadata": {
        "id": "LrWnsNTelscw",
        "colab_type": "code",
        "outputId": "67ab582a-cd36-4eb8-8833-39169ceeb6df",
        "colab": {
          "base_uri": "https://localhost:8080/",
          "height": 34
        }
      },
      "source": [
        "# Remove the university with low data to improve completeness\n",
        "# fixed a thershold of 100 null values \n",
        "to_remove = list((df[df['sum_null']>100])['English Institution Name'])\n",
        "len(to_remove) # number of institution removed"
      ],
      "execution_count": 0,
      "outputs": [
        {
          "output_type": "execute_result",
          "data": {
            "text/plain": [
              "184"
            ]
          },
          "metadata": {
            "tags": []
          },
          "execution_count": 23
        }
      ]
    },
    {
      "cell_type": "code",
      "metadata": {
        "id": "eyToHXf9Bf-6",
        "colab_type": "code",
        "colab": {}
      },
      "source": [
        "data_dropped = raw_data_completeness[~(raw_data_completeness[\"English Institution Name\"].isin(to_remove))]"
      ],
      "execution_count": 0,
      "outputs": []
    },
    {
      "cell_type": "code",
      "metadata": {
        "id": "NfUNzWxZhgBW",
        "colab_type": "code",
        "outputId": "7931248c-1708-47b0-f45c-1454395aa75f",
        "colab": {
          "base_uri": "https://localhost:8080/",
          "height": 1000
        }
      },
      "source": [
        "missing2 = defaultdict()\n",
        "data_dropped = data_dropped.fillna('None')\n",
        "for i in data_dropped.columns:\n",
        "    missing2[i] = 1 - Counter(data_dropped[i])['None']/sum(Counter(data_dropped[i]).values())\n",
        "df_compl_after = pd.DataFrame.from_dict(missing2, orient='index',\n",
        "                       columns=['After']).loc[data_dropped.columns,:]\n",
        "df_compl_after"
      ],
      "execution_count": 0,
      "outputs": [
        {
          "output_type": "execute_result",
          "data": {
            "text/html": [
              "<div>\n",
              "<style scoped>\n",
              "    .dataframe tbody tr th:only-of-type {\n",
              "        vertical-align: middle;\n",
              "    }\n",
              "\n",
              "    .dataframe tbody tr th {\n",
              "        vertical-align: top;\n",
              "    }\n",
              "\n",
              "    .dataframe thead th {\n",
              "        text-align: right;\n",
              "    }\n",
              "</style>\n",
              "<table border=\"1\" class=\"dataframe\">\n",
              "  <thead>\n",
              "    <tr style=\"text-align: right;\">\n",
              "      <th></th>\n",
              "      <th>After</th>\n",
              "    </tr>\n",
              "  </thead>\n",
              "  <tbody>\n",
              "    <tr>\n",
              "      <th>ETER ID Year</th>\n",
              "      <td>1.000000</td>\n",
              "    </tr>\n",
              "    <tr>\n",
              "      <th>ETER ID</th>\n",
              "      <td>1.000000</td>\n",
              "    </tr>\n",
              "    <tr>\n",
              "      <th>National identifier</th>\n",
              "      <td>0.486262</td>\n",
              "    </tr>\n",
              "    <tr>\n",
              "      <th>English Institution Name</th>\n",
              "      <td>0.990669</td>\n",
              "    </tr>\n",
              "    <tr>\n",
              "      <th>Country Code</th>\n",
              "      <td>1.000000</td>\n",
              "    </tr>\n",
              "    <tr>\n",
              "      <th>Region of establishment (NUTS 2)</th>\n",
              "      <td>1.000000</td>\n",
              "    </tr>\n",
              "    <tr>\n",
              "      <th>Students enrolled at ISCED 8 - men</th>\n",
              "      <td>0.637118</td>\n",
              "    </tr>\n",
              "    <tr>\n",
              "      <th>Students enrolled at ISCED 8 - women</th>\n",
              "      <td>0.641783</td>\n",
              "    </tr>\n",
              "    <tr>\n",
              "      <th>Students enrolled ISCED 8 - gender unclassified</th>\n",
              "      <td>0.631934</td>\n",
              "    </tr>\n",
              "    <tr>\n",
              "      <th>Students enrolled at ISCED 8 - national</th>\n",
              "      <td>0.490410</td>\n",
              "    </tr>\n",
              "    <tr>\n",
              "      <th>Students enrolled at ISCED 8 - foreigner</th>\n",
              "      <td>0.460342</td>\n",
              "    </tr>\n",
              "    <tr>\n",
              "      <th>Students enrolled at ISCED 8 - resident</th>\n",
              "      <td>0.275272</td>\n",
              "    </tr>\n",
              "    <tr>\n",
              "      <th>Students enrolled at ISCED 8 - mobile</th>\n",
              "      <td>0.262312</td>\n",
              "    </tr>\n",
              "    <tr>\n",
              "      <th>Total students enrolled at ISCED 8</th>\n",
              "      <td>0.648523</td>\n",
              "    </tr>\n",
              "    <tr>\n",
              "      <th>Graduates at ISCED 8 - men</th>\n",
              "      <td>0.693105</td>\n",
              "    </tr>\n",
              "    <tr>\n",
              "      <th>Graduates at ISCED 8 - women</th>\n",
              "      <td>0.693105</td>\n",
              "    </tr>\n",
              "    <tr>\n",
              "      <th>Graduates at ISCED 8 - gender unclassified</th>\n",
              "      <td>0.674443</td>\n",
              "    </tr>\n",
              "    <tr>\n",
              "      <th>Graduates at ISCED 8 - national</th>\n",
              "      <td>0.701400</td>\n",
              "    </tr>\n",
              "    <tr>\n",
              "      <th>Graduates at ISCED 8 - foreigner</th>\n",
              "      <td>0.611198</td>\n",
              "    </tr>\n",
              "    <tr>\n",
              "      <th>Graduates at ISCED 8 - resident</th>\n",
              "      <td>0.186107</td>\n",
              "    </tr>\n",
              "    <tr>\n",
              "      <th>Graduates at ISCED 8 - mobile</th>\n",
              "      <td>0.172628</td>\n",
              "    </tr>\n",
              "    <tr>\n",
              "      <th>Total graduates at ISCED 8</th>\n",
              "      <td>0.722654</td>\n",
              "    </tr>\n",
              "    <tr>\n",
              "      <th>Erasmus incoming students - ISCED 8</th>\n",
              "      <td>0.791602</td>\n",
              "    </tr>\n",
              "    <tr>\n",
              "      <th>Erasmus outgoing students - ISCED 8</th>\n",
              "      <td>0.781752</td>\n",
              "    </tr>\n",
              "    <tr>\n",
              "      <th>PhD intensity</th>\n",
              "      <td>0.709694</td>\n",
              "    </tr>\n",
              "    <tr>\n",
              "      <th>Geographic coordinates - latitude</th>\n",
              "      <td>1.000000</td>\n",
              "    </tr>\n",
              "    <tr>\n",
              "      <th>Geographic coordinates - longitude</th>\n",
              "      <td>1.000000</td>\n",
              "    </tr>\n",
              "    <tr>\n",
              "      <th>Personnel expenditure (EURO)</th>\n",
              "      <td>0.582167</td>\n",
              "    </tr>\n",
              "    <tr>\n",
              "      <th>Non-personnel expenditure (EURO)</th>\n",
              "      <td>0.582167</td>\n",
              "    </tr>\n",
              "    <tr>\n",
              "      <th>Expenditure unclassified (EURO)</th>\n",
              "      <td>0.582167</td>\n",
              "    </tr>\n",
              "    <tr>\n",
              "      <th>Total Current expenditure (EURO)</th>\n",
              "      <td>0.583722</td>\n",
              "    </tr>\n",
              "    <tr>\n",
              "      <th>Capital expenditure (EURO)</th>\n",
              "      <td>0.494038</td>\n",
              "    </tr>\n",
              "    <tr>\n",
              "      <th>Basic government allocation (EURO)</th>\n",
              "      <td>0.402281</td>\n",
              "    </tr>\n",
              "    <tr>\n",
              "      <th>Total Current revenues (EURO)</th>\n",
              "      <td>0.583722</td>\n",
              "    </tr>\n",
              "    <tr>\n",
              "      <th>Research active institution</th>\n",
              "      <td>1.000000</td>\n",
              "    </tr>\n",
              "    <tr>\n",
              "      <th>Included in official R&amp;D statistics</th>\n",
              "      <td>1.000000</td>\n",
              "    </tr>\n",
              "    <tr>\n",
              "      <th>R&amp;D Expenditure (EURO)</th>\n",
              "      <td>0.232763</td>\n",
              "    </tr>\n",
              "  </tbody>\n",
              "</table>\n",
              "</div>"
            ],
            "text/plain": [
              "                                                    After\n",
              "ETER ID Year                                     1.000000\n",
              "ETER ID                                          1.000000\n",
              "National identifier                              0.486262\n",
              "English Institution Name                         0.990669\n",
              "Country Code                                     1.000000\n",
              "Region of establishment (NUTS 2)                 1.000000\n",
              "Students enrolled at ISCED 8 - men               0.637118\n",
              "Students enrolled at ISCED 8 - women             0.641783\n",
              "Students enrolled ISCED 8 - gender unclassified  0.631934\n",
              "Students enrolled at ISCED 8 - national          0.490410\n",
              "Students enrolled at ISCED 8 - foreigner         0.460342\n",
              "Students enrolled at ISCED 8 - resident          0.275272\n",
              "Students enrolled at ISCED 8 - mobile            0.262312\n",
              "Total students enrolled at ISCED 8               0.648523\n",
              "Graduates at ISCED 8 - men                       0.693105\n",
              "Graduates at ISCED 8 - women                     0.693105\n",
              "Graduates at ISCED 8 - gender unclassified       0.674443\n",
              "Graduates at ISCED 8 - national                  0.701400\n",
              "Graduates at ISCED 8 - foreigner                 0.611198\n",
              "Graduates at ISCED 8 - resident                  0.186107\n",
              "Graduates at ISCED 8 - mobile                    0.172628\n",
              "Total graduates at ISCED 8                       0.722654\n",
              "Erasmus incoming students - ISCED 8              0.791602\n",
              "Erasmus outgoing students - ISCED 8              0.781752\n",
              "PhD intensity                                    0.709694\n",
              "Geographic coordinates - latitude                1.000000\n",
              "Geographic coordinates - longitude               1.000000\n",
              "Personnel expenditure (EURO)                     0.582167\n",
              "Non-personnel expenditure (EURO)                 0.582167\n",
              "Expenditure unclassified (EURO)                  0.582167\n",
              "Total Current expenditure (EURO)                 0.583722\n",
              "Capital expenditure (EURO)                       0.494038\n",
              "Basic government allocation (EURO)               0.402281\n",
              "Total Current revenues (EURO)                    0.583722\n",
              "Research active institution                      1.000000\n",
              "Included in official R&D statistics              1.000000\n",
              "R&D Expenditure (EURO)                           0.232763"
            ]
          },
          "metadata": {
            "tags": []
          },
          "execution_count": 25
        }
      ]
    },
    {
      "cell_type": "code",
      "metadata": {
        "id": "Z1S46p24WjQz",
        "colab_type": "code",
        "outputId": "3c76a5d0-2797-4f70-a052-1a691f5da851",
        "colab": {
          "base_uri": "https://localhost:8080/",
          "height": 1000
        }
      },
      "source": [
        "pd.concat([df_compl_before, df_compl_after], axis=1)"
      ],
      "execution_count": 0,
      "outputs": [
        {
          "output_type": "execute_result",
          "data": {
            "text/html": [
              "<div>\n",
              "<style scoped>\n",
              "    .dataframe tbody tr th:only-of-type {\n",
              "        vertical-align: middle;\n",
              "    }\n",
              "\n",
              "    .dataframe tbody tr th {\n",
              "        vertical-align: top;\n",
              "    }\n",
              "\n",
              "    .dataframe thead th {\n",
              "        text-align: right;\n",
              "    }\n",
              "</style>\n",
              "<table border=\"1\" class=\"dataframe\">\n",
              "  <thead>\n",
              "    <tr style=\"text-align: right;\">\n",
              "      <th></th>\n",
              "      <th>Before</th>\n",
              "      <th>After</th>\n",
              "    </tr>\n",
              "  </thead>\n",
              "  <tbody>\n",
              "    <tr>\n",
              "      <th>ETER ID Year</th>\n",
              "      <td>1.000000</td>\n",
              "      <td>1.000000</td>\n",
              "    </tr>\n",
              "    <tr>\n",
              "      <th>ETER ID</th>\n",
              "      <td>1.000000</td>\n",
              "      <td>1.000000</td>\n",
              "    </tr>\n",
              "    <tr>\n",
              "      <th>National identifier</th>\n",
              "      <td>0.445699</td>\n",
              "      <td>0.486262</td>\n",
              "    </tr>\n",
              "    <tr>\n",
              "      <th>English Institution Name</th>\n",
              "      <td>0.994022</td>\n",
              "      <td>0.990669</td>\n",
              "    </tr>\n",
              "    <tr>\n",
              "      <th>Country Code</th>\n",
              "      <td>1.000000</td>\n",
              "      <td>1.000000</td>\n",
              "    </tr>\n",
              "    <tr>\n",
              "      <th>Region of establishment (NUTS 2)</th>\n",
              "      <td>1.000000</td>\n",
              "      <td>1.000000</td>\n",
              "    </tr>\n",
              "    <tr>\n",
              "      <th>Students enrolled at ISCED 8 - men</th>\n",
              "      <td>0.419462</td>\n",
              "      <td>0.637118</td>\n",
              "    </tr>\n",
              "    <tr>\n",
              "      <th>Students enrolled at ISCED 8 - women</th>\n",
              "      <td>0.422783</td>\n",
              "      <td>0.641783</td>\n",
              "    </tr>\n",
              "    <tr>\n",
              "      <th>Students enrolled ISCED 8 - gender unclassified</th>\n",
              "      <td>0.415144</td>\n",
              "      <td>0.631934</td>\n",
              "    </tr>\n",
              "    <tr>\n",
              "      <th>Students enrolled at ISCED 8 - national</th>\n",
              "      <td>0.326470</td>\n",
              "      <td>0.490410</td>\n",
              "    </tr>\n",
              "    <tr>\n",
              "      <th>Students enrolled at ISCED 8 - foreigner</th>\n",
              "      <td>0.303554</td>\n",
              "      <td>0.460342</td>\n",
              "    </tr>\n",
              "    <tr>\n",
              "      <th>Students enrolled at ISCED 8 - resident</th>\n",
              "      <td>0.184324</td>\n",
              "      <td>0.275272</td>\n",
              "    </tr>\n",
              "    <tr>\n",
              "      <th>Students enrolled at ISCED 8 - mobile</th>\n",
              "      <td>0.174693</td>\n",
              "      <td>0.262312</td>\n",
              "    </tr>\n",
              "    <tr>\n",
              "      <th>Total students enrolled at ISCED 8</th>\n",
              "      <td>0.428761</td>\n",
              "      <td>0.648523</td>\n",
              "    </tr>\n",
              "    <tr>\n",
              "      <th>Graduates at ISCED 8 - men</th>\n",
              "      <td>0.457655</td>\n",
              "      <td>0.693105</td>\n",
              "    </tr>\n",
              "    <tr>\n",
              "      <th>Graduates at ISCED 8 - women</th>\n",
              "      <td>0.454998</td>\n",
              "      <td>0.693105</td>\n",
              "    </tr>\n",
              "    <tr>\n",
              "      <th>Graduates at ISCED 8 - gender unclassified</th>\n",
              "      <td>0.442046</td>\n",
              "      <td>0.674443</td>\n",
              "    </tr>\n",
              "    <tr>\n",
              "      <th>Graduates at ISCED 8 - national</th>\n",
              "      <td>0.463633</td>\n",
              "      <td>0.701400</td>\n",
              "    </tr>\n",
              "    <tr>\n",
              "      <th>Graduates at ISCED 8 - foreigner</th>\n",
              "      <td>0.405181</td>\n",
              "      <td>0.611198</td>\n",
              "    </tr>\n",
              "    <tr>\n",
              "      <th>Graduates at ISCED 8 - resident</th>\n",
              "      <td>0.121554</td>\n",
              "      <td>0.186107</td>\n",
              "    </tr>\n",
              "    <tr>\n",
              "      <th>Graduates at ISCED 8 - mobile</th>\n",
              "      <td>0.112919</td>\n",
              "      <td>0.172628</td>\n",
              "    </tr>\n",
              "    <tr>\n",
              "      <th>Total graduates at ISCED 8</th>\n",
              "      <td>0.479243</td>\n",
              "      <td>0.722654</td>\n",
              "    </tr>\n",
              "    <tr>\n",
              "      <th>Erasmus incoming students - ISCED 8</th>\n",
              "      <td>0.568582</td>\n",
              "      <td>0.791602</td>\n",
              "    </tr>\n",
              "    <tr>\n",
              "      <th>Erasmus outgoing students - ISCED 8</th>\n",
              "      <td>0.561940</td>\n",
              "      <td>0.781752</td>\n",
              "    </tr>\n",
              "    <tr>\n",
              "      <th>PhD intensity</th>\n",
              "      <td>0.470940</td>\n",
              "      <td>0.709694</td>\n",
              "    </tr>\n",
              "    <tr>\n",
              "      <th>Geographic coordinates - latitude</th>\n",
              "      <td>1.000000</td>\n",
              "      <td>1.000000</td>\n",
              "    </tr>\n",
              "    <tr>\n",
              "      <th>Geographic coordinates - longitude</th>\n",
              "      <td>1.000000</td>\n",
              "      <td>1.000000</td>\n",
              "    </tr>\n",
              "    <tr>\n",
              "      <th>Personnel expenditure (EURO)</th>\n",
              "      <td>0.457987</td>\n",
              "      <td>0.582167</td>\n",
              "    </tr>\n",
              "    <tr>\n",
              "      <th>Non-personnel expenditure (EURO)</th>\n",
              "      <td>0.457987</td>\n",
              "      <td>0.582167</td>\n",
              "    </tr>\n",
              "    <tr>\n",
              "      <th>Expenditure unclassified (EURO)</th>\n",
              "      <td>0.457987</td>\n",
              "      <td>0.582167</td>\n",
              "    </tr>\n",
              "    <tr>\n",
              "      <th>Total Current expenditure (EURO)</th>\n",
              "      <td>0.459316</td>\n",
              "      <td>0.583722</td>\n",
              "    </tr>\n",
              "    <tr>\n",
              "      <th>Capital expenditure (EURO)</th>\n",
              "      <td>0.397542</td>\n",
              "      <td>0.494038</td>\n",
              "    </tr>\n",
              "    <tr>\n",
              "      <th>Basic government allocation (EURO)</th>\n",
              "      <td>0.317835</td>\n",
              "      <td>0.402281</td>\n",
              "    </tr>\n",
              "    <tr>\n",
              "      <th>Total Current revenues (EURO)</th>\n",
              "      <td>0.457987</td>\n",
              "      <td>0.583722</td>\n",
              "    </tr>\n",
              "    <tr>\n",
              "      <th>Research active institution</th>\n",
              "      <td>1.000000</td>\n",
              "      <td>1.000000</td>\n",
              "    </tr>\n",
              "    <tr>\n",
              "      <th>Included in official R&amp;D statistics</th>\n",
              "      <td>1.000000</td>\n",
              "      <td>1.000000</td>\n",
              "    </tr>\n",
              "    <tr>\n",
              "      <th>R&amp;D Expenditure (EURO)</th>\n",
              "      <td>0.169379</td>\n",
              "      <td>0.232763</td>\n",
              "    </tr>\n",
              "  </tbody>\n",
              "</table>\n",
              "</div>"
            ],
            "text/plain": [
              "                                                   Before     After\n",
              "ETER ID Year                                     1.000000  1.000000\n",
              "ETER ID                                          1.000000  1.000000\n",
              "National identifier                              0.445699  0.486262\n",
              "English Institution Name                         0.994022  0.990669\n",
              "Country Code                                     1.000000  1.000000\n",
              "Region of establishment (NUTS 2)                 1.000000  1.000000\n",
              "Students enrolled at ISCED 8 - men               0.419462  0.637118\n",
              "Students enrolled at ISCED 8 - women             0.422783  0.641783\n",
              "Students enrolled ISCED 8 - gender unclassified  0.415144  0.631934\n",
              "Students enrolled at ISCED 8 - national          0.326470  0.490410\n",
              "Students enrolled at ISCED 8 - foreigner         0.303554  0.460342\n",
              "Students enrolled at ISCED 8 - resident          0.184324  0.275272\n",
              "Students enrolled at ISCED 8 - mobile            0.174693  0.262312\n",
              "Total students enrolled at ISCED 8               0.428761  0.648523\n",
              "Graduates at ISCED 8 - men                       0.457655  0.693105\n",
              "Graduates at ISCED 8 - women                     0.454998  0.693105\n",
              "Graduates at ISCED 8 - gender unclassified       0.442046  0.674443\n",
              "Graduates at ISCED 8 - national                  0.463633  0.701400\n",
              "Graduates at ISCED 8 - foreigner                 0.405181  0.611198\n",
              "Graduates at ISCED 8 - resident                  0.121554  0.186107\n",
              "Graduates at ISCED 8 - mobile                    0.112919  0.172628\n",
              "Total graduates at ISCED 8                       0.479243  0.722654\n",
              "Erasmus incoming students - ISCED 8              0.568582  0.791602\n",
              "Erasmus outgoing students - ISCED 8              0.561940  0.781752\n",
              "PhD intensity                                    0.470940  0.709694\n",
              "Geographic coordinates - latitude                1.000000  1.000000\n",
              "Geographic coordinates - longitude               1.000000  1.000000\n",
              "Personnel expenditure (EURO)                     0.457987  0.582167\n",
              "Non-personnel expenditure (EURO)                 0.457987  0.582167\n",
              "Expenditure unclassified (EURO)                  0.457987  0.582167\n",
              "Total Current expenditure (EURO)                 0.459316  0.583722\n",
              "Capital expenditure (EURO)                       0.397542  0.494038\n",
              "Basic government allocation (EURO)               0.317835  0.402281\n",
              "Total Current revenues (EURO)                    0.457987  0.583722\n",
              "Research active institution                      1.000000  1.000000\n",
              "Included in official R&D statistics              1.000000  1.000000\n",
              "R&D Expenditure (EURO)                           0.169379  0.232763"
            ]
          },
          "metadata": {
            "tags": []
          },
          "execution_count": 26
        }
      ]
    },
    {
      "cell_type": "code",
      "metadata": {
        "id": "oC6p9PuDgtUw",
        "colab_type": "code",
        "colab": {}
      },
      "source": [
        ""
      ],
      "execution_count": 0,
      "outputs": []
    },
    {
      "cell_type": "markdown",
      "metadata": {
        "id": "c78-9lvXccmE",
        "colab_type": "text"
      },
      "source": [
        "Consistency "
      ]
    },
    {
      "cell_type": "code",
      "metadata": {
        "id": "BbZMmE9MeRq8",
        "colab_type": "code",
        "colab": {}
      },
      "source": [
        "raw_data_cons = data_dropped[variables]\n",
        "raw_data_cons = raw_data_cons.replace('None', 0) "
      ],
      "execution_count": 0,
      "outputs": []
    },
    {
      "cell_type": "code",
      "metadata": {
        "id": "321aBcbffg46",
        "colab_type": "code",
        "colab": {}
      },
      "source": [
        "l1 = list(raw_data_cons['Students enrolled at ISCED 8 - men'])\n",
        "l2 = list(raw_data_cons['Students enrolled at ISCED 8 - women'])\n",
        "l3 = list(raw_data_cons['Students enrolled ISCED 8 - gender unclassified'])\n",
        "l4 = list(raw_data_cons['Total students enrolled at ISCED 8'])"
      ],
      "execution_count": 0,
      "outputs": []
    },
    {
      "cell_type": "code",
      "metadata": {
        "id": "is9swNhgd708",
        "colab_type": "code",
        "colab": {}
      },
      "source": [
        "# consistent indicator 19 for student enrolled at ISCED 8\n",
        "sum_enr=[]\n",
        "for i in range(len(l1)):\n",
        "    sum_enr.append(float(l1[i]) + float(l2[i]) + float(l3[i]) )\n",
        "    \n",
        "count=0\n",
        "for i in range(len(sum_enr)):\n",
        "    if sum_enr[i]==l4[i]:\n",
        "        count+=1"
      ],
      "execution_count": 0,
      "outputs": []
    },
    {
      "cell_type": "code",
      "metadata": {
        "id": "58hGOUHIinkN",
        "colab_type": "code",
        "outputId": "0cf614ad-789a-4840-fe9b-859b459f2940",
        "colab": {
          "base_uri": "https://localhost:8080/",
          "height": 34
        }
      },
      "source": [
        "count = 0\n",
        "for i in range(len(sum_enr)):\n",
        "    if sum_enr[i] >= 0.99*float(l4[i]) and sum_enr[i] <= 1.01*float(l4[i]):\n",
        "        count+=1\n",
        "print(float(count/len(sum_enr)))"
      ],
      "execution_count": 0,
      "outputs": [
        {
          "output_type": "stream",
          "text": [
            "0.9834110938310006\n"
          ],
          "name": "stdout"
        }
      ]
    },
    {
      "cell_type": "code",
      "metadata": {
        "id": "iwPwu6NXlrzv",
        "colab_type": "code",
        "colab": {}
      },
      "source": [
        "g1 = list(raw_data_cons['Graduates at ISCED 8 - men'])\n",
        "g2 = list(raw_data_cons['Graduates at ISCED 8 - women'])\n",
        "g3 = list(raw_data_cons['Graduates at ISCED 8 - gender unclassified'])\n",
        "g4 = list(raw_data_cons['Total graduates at ISCED 8'])"
      ],
      "execution_count": 0,
      "outputs": []
    },
    {
      "cell_type": "code",
      "metadata": {
        "id": "_2tLzx7VinqI",
        "colab_type": "code",
        "outputId": "58101dbc-3379-49af-e2e8-f60d26a7b389",
        "colab": {
          "base_uri": "https://localhost:8080/",
          "height": 34
        }
      },
      "source": [
        "# consistent indicator 19 for student graduated at ISCED 8 \n",
        "sum_g=[]\n",
        "for i in range(len(l1)):\n",
        "    sum_g.append(float(g1[i]) + float(g2[i]) + float(g3[i]) )\n",
        "    \n",
        "count=0\n",
        "for i in range(len(sum_g)):\n",
        "    if sum_g[i]==g4[i]:\n",
        "        count+=1\n",
        "print(float(count/len(sum_g))*100)"
      ],
      "execution_count": 0,
      "outputs": [
        {
          "output_type": "stream",
          "text": [
            "27.73457750129601\n"
          ],
          "name": "stdout"
        }
      ]
    },
    {
      "cell_type": "code",
      "metadata": {
        "id": "i4HX1vHpmBlK",
        "colab_type": "code",
        "outputId": "b5ec71c1-5725-49ef-d36c-35ee6abbdf92",
        "colab": {
          "base_uri": "https://localhost:8080/",
          "height": 34
        }
      },
      "source": [
        "count = 0\n",
        "for i in range(len(sum_g)):\n",
        "    if sum_g[i] >= 0.99*float(g4[i]) and sum_g[i] <= 1.01*float(g4[i]):\n",
        "        count+=1\n",
        "print(float(count/len(sum_g)))"
      ],
      "execution_count": 0,
      "outputs": [
        {
          "output_type": "stream",
          "text": [
            "0.9517884914463453\n"
          ],
          "name": "stdout"
        }
      ]
    },
    {
      "cell_type": "code",
      "metadata": {
        "id": "iGKUxqsvoc_b",
        "colab_type": "code",
        "colab": {}
      },
      "source": [
        "# save cleaned data\n",
        "data_dropped.to_csv('final_dataset.csv')"
      ],
      "execution_count": 0,
      "outputs": []
    },
    {
      "cell_type": "code",
      "metadata": {
        "id": "0uhFnX3D0NeZ",
        "colab_type": "code",
        "colab": {}
      },
      "source": [
        ""
      ],
      "execution_count": 0,
      "outputs": []
    },
    {
      "cell_type": "code",
      "metadata": {
        "id": "6Laf-d0Z8ka0",
        "colab_type": "code",
        "colab": {}
      },
      "source": [
        "# consistent indicator of raw data to compare with the consistency of the cleaned data "
      ],
      "execution_count": 0,
      "outputs": []
    },
    {
      "cell_type": "code",
      "metadata": {
        "id": "cx4Kgz1xbU71",
        "colab_type": "code",
        "colab": {}
      },
      "source": [
        "missing_values = ['a', 'c', 'm', 's', 'x', 'xc', 'xr', 'nc']\n",
        "data = raw_data\n",
        "data = data.replace(missing_values, np.nan)\n",
        "#data['Students enrolled at ISCED 8 - men'] = data['Students enrolled at ISCED 8 - men'].astype(float)\n",
        "#data['Students enrolled at ISCED 8 - women'] = data['Students enrolled at ISCED 8 - women'].astype(float)\n",
        "#data['Students enrolled ISCED 8 - gender unclassified'] = data ['Students enrolled ISCED 8 - gender unclassified'].astype(float)\n",
        "#data['Total students enrolled at ISCED 8'] = data['Total students enrolled at ISCED 8'].astype(float)"
      ],
      "execution_count": 0,
      "outputs": []
    },
    {
      "cell_type": "code",
      "metadata": {
        "id": "5P6_7vGzPjBF",
        "colab_type": "code",
        "colab": {}
      },
      "source": [
        "for i in variables:\n",
        "    aux_list=[]\n",
        "    for j in list(data[i]):\n",
        "        try:\n",
        "            aux_list.append(str(int(j)))\n",
        "        except:\n",
        "            try:\n",
        "                aux_list.append(str(int(round(float('.'.join((j.split(','))))))))\n",
        "            except:\n",
        "                aux_list.append(j)\n",
        "    data[i]=aux_list"
      ],
      "execution_count": 0,
      "outputs": []
    },
    {
      "cell_type": "code",
      "metadata": {
        "id": "MOvwVcL0pzrN",
        "colab_type": "code",
        "colab": {}
      },
      "source": [
        "l11 = list(data['Students enrolled at ISCED 8 - men'])\n",
        "l21 = list(data['Students enrolled at ISCED 8 - women'])\n",
        "l31 = list(data['Students enrolled ISCED 8 - gender unclassified'])\n",
        "l41 = list(data['Total students enrolled at ISCED 8'])"
      ],
      "execution_count": 0,
      "outputs": []
    },
    {
      "cell_type": "code",
      "metadata": {
        "id": "fKWBzmKvpzum",
        "colab_type": "code",
        "colab": {}
      },
      "source": [
        "sum_enr1=[]\n",
        "for i in range(len(l11)):\n",
        "    sum_enr1.append(float(l11[i]) + float(l21[i]) + float(l31[i])) "
      ],
      "execution_count": 0,
      "outputs": []
    },
    {
      "cell_type": "code",
      "metadata": {
        "id": "ntME0Oedpzy9",
        "colab_type": "code",
        "outputId": "9aedf694-a7fd-441b-fbe8-ecc2fb2f8650",
        "colab": {
          "base_uri": "https://localhost:8080/",
          "height": 34
        }
      },
      "source": [
        "count = 0\n",
        "for i in range(len(sum_enr1)):\n",
        "    if sum_enr1[i] >= 0.99*float(l41[i]) and sum_enr1[i] <= 1.01*float(l41[i]):\n",
        "        count+=1\n",
        "print(float(count/len(sum_enr1)))"
      ],
      "execution_count": 0,
      "outputs": [
        {
          "output_type": "stream",
          "text": [
            "0.41514447027565593\n"
          ],
          "name": "stdout"
        }
      ]
    },
    {
      "cell_type": "code",
      "metadata": {
        "id": "ILeBECxTqPUN",
        "colab_type": "code",
        "colab": {}
      },
      "source": [
        ""
      ],
      "execution_count": 0,
      "outputs": []
    },
    {
      "cell_type": "code",
      "metadata": {
        "id": "a5YTWo_FrKt8",
        "colab_type": "code",
        "outputId": "40d7eb7b-40e0-438d-c591-50dac21510d0",
        "colab": {
          "base_uri": "https://localhost:8080/",
          "height": 34
        }
      },
      "source": [
        "data = raw_data[variables]\n",
        "data = data.replace(missing_values, np.nan)\n",
        "g11 = list(data['Graduates at ISCED 8 - men'])\n",
        "g21 = list(data['Graduates at ISCED 8 - women'])\n",
        "g31 = list(data['Graduates at ISCED 8 - gender unclassified'])\n",
        "g41 = list(data['Total graduates at ISCED 8'])\n",
        "sum_i=[]\n",
        "for i in range(len(g11)):\n",
        "    sum_i.append(float(g11[i]) + float(g21[i]) + float(g31[i]) )\n",
        "count=0\n",
        "for i in range(len(sum_i)):\n",
        "    if sum_i[i] >= 0.99*float(g41[i]) and sum_i[i] <= 1.01*float(g41[i]):\n",
        "        count+=1\n",
        "print(float(count/len(sum_i)))"
      ],
      "execution_count": 0,
      "outputs": [
        {
          "output_type": "stream",
          "text": [
            "0.4420458319495184\n"
          ],
          "name": "stdout"
        }
      ]
    },
    {
      "cell_type": "code",
      "metadata": {
        "id": "L-3Y_0tprKxg",
        "colab_type": "code",
        "colab": {}
      },
      "source": [
        ""
      ],
      "execution_count": 0,
      "outputs": []
    },
    {
      "cell_type": "code",
      "metadata": {
        "id": "eJ4AwuqO8zmo",
        "colab_type": "code",
        "colab": {}
      },
      "source": [
        ""
      ],
      "execution_count": 0,
      "outputs": []
    },
    {
      "cell_type": "code",
      "metadata": {
        "id": "IBsmk1qoqksI",
        "colab_type": "code",
        "colab": {}
      },
      "source": [
        "#consistency expenditure analysis"
      ],
      "execution_count": 0,
      "outputs": []
    },
    {
      "cell_type": "code",
      "metadata": {
        "id": "VVk6Yxlaqkvp",
        "colab_type": "code",
        "colab": {}
      },
      "source": [
        "variables_exp = ['Total Current expenditure (EURO)', 'R&D Expenditure (EURO)']"
      ],
      "execution_count": 0,
      "outputs": []
    },
    {
      "cell_type": "code",
      "metadata": {
        "id": "G6vNPvZPqk0C",
        "colab_type": "code",
        "colab": {}
      },
      "source": [
        "raw_data_exp[variables_exp] = raw_data_exp[variables_exp].apply(pd.to_numeric, errors='coerce')"
      ],
      "execution_count": 0,
      "outputs": []
    },
    {
      "cell_type": "code",
      "metadata": {
        "id": "kDhQ2SU1OygD",
        "colab_type": "code",
        "colab": {}
      },
      "source": [
        "raw_data_exp['difference'] = raw_data_exp['Total Current expenditure (EURO)'] - raw_data_exp['R&D Expenditure (EURO)']"
      ],
      "execution_count": 0,
      "outputs": []
    },
    {
      "cell_type": "code",
      "metadata": {
        "id": "yNa8As0DOyuB",
        "colab_type": "code",
        "colab": {}
      },
      "source": [
        "raw_data_exp.shape"
      ],
      "execution_count": 0,
      "outputs": []
    },
    {
      "cell_type": "code",
      "metadata": {
        "id": "WsmkAMkOOzEa",
        "colab_type": "code",
        "colab": {}
      },
      "source": [
        "raw_data_exp = raw_data_exp[(raw_data_exp['difference'] >= 0) | (raw_data_exp['difference'].isnull())]"
      ],
      "execution_count": 0,
      "outputs": []
    },
    {
      "cell_type": "code",
      "metadata": {
        "id": "RGvfn2owOzRh",
        "colab_type": "code",
        "colab": {}
      },
      "source": [
        "raw_data_exp.shape"
      ],
      "execution_count": 0,
      "outputs": []
    },
    {
      "cell_type": "code",
      "metadata": {
        "id": "NgEMOxJTqk3r",
        "colab_type": "code",
        "colab": {}
      },
      "source": [
        "raw_data_exp.to_csv('last_dataset.csv')"
      ],
      "execution_count": 0,
      "outputs": []
    },
    {
      "cell_type": "code",
      "metadata": {
        "id": "lokAbUw9O9PZ",
        "colab_type": "code",
        "colab": {}
      },
      "source": [
        ""
      ],
      "execution_count": 0,
      "outputs": []
    },
    {
      "cell_type": "code",
      "metadata": {
        "id": "wQtcRnuvO9sq",
        "colab_type": "code",
        "colab": {}
      },
      "source": [
        "# histogram expenditure analysis"
      ],
      "execution_count": 0,
      "outputs": []
    },
    {
      "cell_type": "code",
      "metadata": {
        "id": "3SrkdiXeO9eZ",
        "colab_type": "code",
        "colab": {}
      },
      "source": [
        "raw_data_exp['Total Current expenditure (EURO)'] = raw_data_exp['Total Current expenditure (EURO)'].astype(int)\n",
        "raw_data_exp['R&D Expenditure (EURO)'] = raw_data_exp['R&D Expenditure (EURO)'].astype(int)"
      ],
      "execution_count": 0,
      "outputs": []
    },
    {
      "cell_type": "code",
      "metadata": {
        "id": "RbgLEoqnPEQe",
        "colab_type": "code",
        "colab": {}
      },
      "source": [
        "tot_exp = raw_data_exp.groupby(['Country Code'])['Total Current expenditure (EURO)'].sum()\n",
        "tot_rd = raw_data_exp.groupby(['Country Code'])['R&D Expenditure (EURO)'].sum()"
      ],
      "execution_count": 0,
      "outputs": []
    },
    {
      "cell_type": "code",
      "metadata": {
        "id": "FnVXulgWPEf_",
        "colab_type": "code",
        "colab": {}
      },
      "source": [
        "tot_exp"
      ],
      "execution_count": 0,
      "outputs": []
    },
    {
      "cell_type": "code",
      "metadata": {
        "id": "l5Qx9e7-PEu6",
        "colab_type": "code",
        "colab": {}
      },
      "source": [
        "tot_rd"
      ],
      "execution_count": 0,
      "outputs": []
    },
    {
      "cell_type": "code",
      "metadata": {
        "id": "XtGkJRddPJdF",
        "colab_type": "code",
        "colab": {}
      },
      "source": [
        "# Histogram for expenditure\n",
        "labels = ['ES', 'FI', 'IT', 'NO', 'PT', 'SE']\n",
        "tot_exp_means = list(tot_exp)\n",
        "tot_rd_means = list(tot_rd)\n",
        "x = np.arange(len(labels)) \n",
        "width = 0.35 \n",
        "\n",
        "fig, ax = plt.subplots()\n",
        "rects1 = ax.bar(x - width/2, tot_exp_means, width, label='Total Expenditure')\n",
        "rects2 = ax.bar(x + width/2, tot_rd_means, width, label='R&D Expenditure')\n",
        "\n",
        "ax.set_title('Total current expenditure vs R&D expenditure', fontsize=15)\n",
        "ax.set_xticks(x)\n",
        "ax.set_xticklabels(labels)\n",
        "ax.legend()"
      ],
      "execution_count": 0,
      "outputs": []
    },
    {
      "cell_type": "code",
      "metadata": {
        "id": "6KODXxwDPJvY",
        "colab_type": "code",
        "colab": {}
      },
      "source": [
        ""
      ],
      "execution_count": 0,
      "outputs": []
    },
    {
      "cell_type": "code",
      "metadata": {
        "id": "tVgEifTGPJsX",
        "colab_type": "code",
        "colab": {}
      },
      "source": [
        "# Histogram for gender gap"
      ],
      "execution_count": 0,
      "outputs": []
    },
    {
      "cell_type": "code",
      "metadata": {
        "id": "2pzgUEAq0NrU",
        "colab_type": "code",
        "colab": {}
      },
      "source": [
        "data = raw_data\n",
        "data = data.replace(missing_values, '0')"
      ],
      "execution_count": 0,
      "outputs": []
    },
    {
      "cell_type": "code",
      "metadata": {
        "id": "zTnCqoeihigZ",
        "colab_type": "code",
        "colab": {}
      },
      "source": [
        "data['Students enrolled at ISCED 8 - men'] = data['Students enrolled at ISCED 8 - men'].astype(int)\n",
        "data['Students enrolled at ISCED 8 - women'] = data['Students enrolled at ISCED 8 - women'].astype(int)"
      ],
      "execution_count": 0,
      "outputs": []
    },
    {
      "cell_type": "code",
      "metadata": {
        "id": "mH5zjje6COa_",
        "colab_type": "code",
        "colab": {}
      },
      "source": [
        "tot_stud_enrolled_men = data.groupby(['Country Code'])['Students enrolled at ISCED 8 - men'].sum()\n",
        "tot_stud_enrolled_wom = data.groupby(['Country Code'])['Students enrolled at ISCED 8 - women'].sum()"
      ],
      "execution_count": 0,
      "outputs": []
    },
    {
      "cell_type": "code",
      "metadata": {
        "id": "jeqBvPVDnHTd",
        "colab_type": "code",
        "outputId": "c2c82ba3-a91d-4578-c2bb-8b88249761c4",
        "colab": {
          "base_uri": "https://localhost:8080/",
          "height": 153
        }
      },
      "source": [
        "tot_stud_enrolled_men"
      ],
      "execution_count": 0,
      "outputs": [
        {
          "output_type": "execute_result",
          "data": {
            "text/plain": [
              "Country Code\n",
              "ES    80161\n",
              "FI    56801\n",
              "IT    94600\n",
              "NO    28031\n",
              "PT    54559\n",
              "SE    65738\n",
              "Name: Students enrolled at ISCED 8 - men, dtype: int64"
            ]
          },
          "metadata": {
            "tags": []
          },
          "execution_count": 48
        }
      ]
    },
    {
      "cell_type": "code",
      "metadata": {
        "id": "NxM-ph1ENQMh",
        "colab_type": "code",
        "outputId": "65150820-776d-4db5-f82d-484ce474ae17",
        "colab": {
          "base_uri": "https://localhost:8080/",
          "height": 153
        }
      },
      "source": [
        "tot_stud_enrolled_wom"
      ],
      "execution_count": 0,
      "outputs": [
        {
          "output_type": "execute_result",
          "data": {
            "text/plain": [
              "Country Code\n",
              "ES    79073\n",
              "FI    62533\n",
              "IT    99123\n",
              "NO    29701\n",
              "PT    61995\n",
              "SE    61152\n",
              "Name: Students enrolled at ISCED 8 - women, dtype: int64"
            ]
          },
          "metadata": {
            "tags": []
          },
          "execution_count": 49
        }
      ]
    },
    {
      "cell_type": "code",
      "metadata": {
        "id": "l1fglfG5I8yx",
        "colab_type": "code",
        "outputId": "522db469-f68a-46c5-9703-2e0abb936311",
        "colab": {
          "base_uri": "https://localhost:8080/",
          "height": 318
        }
      },
      "source": [
        "# Histogram for the enrolled student: comparisong between men and women \n",
        "labels = ['ES', 'FI', 'IT', 'NO', 'PT', 'SE']\n",
        "men_means = list(tot_stud_enrolled_men)\n",
        "women_means = list(tot_stud_enrolled_wom)\n",
        "x = np.arange(len(labels)) \n",
        "width = 0.35 \n",
        "\n",
        "fig, ax = plt.subplots()\n",
        "rects1 = ax.bar(x - width/2, men_means, width, label='Men')\n",
        "rects2 = ax.bar(x + width/2, women_means, width, label='Women')\n",
        "\n",
        "ax.set_title('Student Enrolled at ISCED 8 \\n Men vs Women', fontsize=15)\n",
        "ax.set_xticks(x)\n",
        "ax.set_xticklabels(labels)\n",
        "ax.legend()"
      ],
      "execution_count": 0,
      "outputs": [
        {
          "output_type": "execute_result",
          "data": {
            "text/plain": [
              "<matplotlib.legend.Legend at 0x7fc0e21eb898>"
            ]
          },
          "metadata": {
            "tags": []
          },
          "execution_count": 50
        },
        {
          "output_type": "display_data",
          "data": {
            "image/png": "[encoded data removed]",
            "text/plain": [
              "<Figure size 432x288 with 1 Axes>"
            ]
          },
          "metadata": {
            "tags": [],
            "needs_background": "light"
          }
        }
      ]
    },
    {
      "cell_type": "code",
      "metadata": {
        "id": "d1XL35NdPshO",
        "colab_type": "code",
        "outputId": "03b9cdb3-875d-4f25-cd42-4b0252bee16f",
        "colab": {
          "base_uri": "https://localhost:8080/",
          "height": 153
        }
      },
      "source": [
        "data['Graduates at ISCED 8 - men'] = data['Graduates at ISCED 8 - men'].astype(int)\n",
        "data['Graduates at ISCED 8 - women'] = data['Graduates at ISCED 8 - women'].astype(int)\n",
        "tot_stud_graduated_men = data.groupby(['Country Code'])['Graduates at ISCED 8 - men'].sum()\n",
        "tot_stud_graduated_wom = data.groupby(['Country Code'])['Graduates at ISCED 8 - women'].sum()\n",
        "tot_stud_graduated_wom"
      ],
      "execution_count": 0,
      "outputs": [
        {
          "output_type": "execute_result",
          "data": {
            "text/plain": [
              "Country Code\n",
              "ES    37079\n",
              "FI     6043\n",
              "IT    33920\n",
              "NO     4134\n",
              "PT     7446\n",
              "SE     9601\n",
              "Name: Graduates at ISCED 8 - women, dtype: int64"
            ]
          },
          "metadata": {
            "tags": []
          },
          "execution_count": 66
        }
      ]
    },
    {
      "cell_type": "code",
      "metadata": {
        "id": "poL0aMXbqmfJ",
        "colab_type": "code",
        "outputId": "948a50cf-e420-4e62-83dc-7ce36299d66c",
        "colab": {
          "base_uri": "https://localhost:8080/",
          "height": 153
        }
      },
      "source": [
        "tot_stud_graduated_men"
      ],
      "execution_count": 0,
      "outputs": [
        {
          "output_type": "execute_result",
          "data": {
            "text/plain": [
              "Country Code\n",
              "ES    37288\n",
              "FI     5578\n",
              "IT    30759\n",
              "NO     4320\n",
              "PT     6159\n",
              "SE    11373\n",
              "Name: Graduates at ISCED 8 - men, dtype: int64"
            ]
          },
          "metadata": {
            "tags": []
          },
          "execution_count": 52
        }
      ]
    },
    {
      "cell_type": "code",
      "metadata": {
        "id": "h1H9Ezk1Ojd_",
        "colab_type": "code",
        "outputId": "25a88d0a-173e-4551-fa8f-aa30b26d7a9d",
        "colab": {
          "base_uri": "https://localhost:8080/",
          "height": 318
        }
      },
      "source": [
        "# Histogram for the graduated student: comparisong between men and women \n",
        "men_means = list(tot_stud_graduated_men)\n",
        "women_means = list(tot_stud_graduated_wom)\n",
        "\n",
        "x = np.arange(len(labels)) \n",
        "width = 0.35 \n",
        "\n",
        "fig, ax = plt.subplots()\n",
        "rects1 = ax.bar(x - width/2, men_means, width, label='Men')\n",
        "rects2 = ax.bar(x + width/2, women_means, width, label='Women')\n",
        "\n",
        "ax.set_title('Student Graduated at ISCED 8 \\n Men vs Women', fontsize=15)\n",
        "ax.set_xticks(x)\n",
        "ax.set_xticklabels(labels)\n",
        "ax.legend()"
      ],
      "execution_count": 0,
      "outputs": [
        {
          "output_type": "execute_result",
          "data": {
            "text/plain": [
              "<matplotlib.legend.Legend at 0x7fc0e22877b8>"
            ]
          },
          "metadata": {
            "tags": []
          },
          "execution_count": 53
        },
        {
          "output_type": "display_data",
          "data": {
            "image/png": "[encoded data removed]",
            "text/plain": [
              "<Figure size 432x288 with 1 Axes>"
            ]
          },
          "metadata": {
            "tags": [],
            "needs_background": "light"
          }
        }
      ]
    },
    {
      "cell_type": "code",
      "metadata": {
        "id": "CDm0-75aRLrw",
        "colab_type": "code",
        "outputId": "4b99568a-0c8e-4cdf-9238-12a606c3f15e",
        "colab": {
          "base_uri": "https://localhost:8080/",
          "height": 153
        }
      },
      "source": [
        "data['Total students enrolled at ISCED 8'] = data['Total students enrolled at ISCED 8'].astype(int)\n",
        "data['Total graduates at ISCED 8'] = data['Total graduates at ISCED 8'].astype(int)\n",
        "tot_enrolled = data.groupby(['Country Code'])['Total students enrolled at ISCED 8'].sum()\n",
        "tot_graduated = data.groupby(['Country Code'])['Total graduates at ISCED 8'].sum()\n",
        "tot_enrolled"
      ],
      "execution_count": 0,
      "outputs": [
        {
          "output_type": "execute_result",
          "data": {
            "text/plain": [
              "Country Code\n",
              "ES    159236\n",
              "FI    119337\n",
              "IT    193768\n",
              "NO     57751\n",
              "PT    116570\n",
              "SE    126907\n",
              "Name: Total students enrolled at ISCED 8, dtype: int64"
            ]
          },
          "metadata": {
            "tags": []
          },
          "execution_count": 54
        }
      ]
    },
    {
      "cell_type": "code",
      "metadata": {
        "id": "iG-wjnuVRn6l",
        "colab_type": "code",
        "outputId": "0436cca3-0efa-459c-a5db-ec96ddb1b6b7",
        "colab": {
          "base_uri": "https://localhost:8080/",
          "height": 153
        }
      },
      "source": [
        "tot_graduated"
      ],
      "execution_count": 0,
      "outputs": [
        {
          "output_type": "execute_result",
          "data": {
            "text/plain": [
              "Country Code\n",
              "ES    76900\n",
              "FI    11629\n",
              "IT    64760\n",
              "NO     8556\n",
              "PT    13629\n",
              "SE    21011\n",
              "Name: Total graduates at ISCED 8, dtype: int64"
            ]
          },
          "metadata": {
            "tags": []
          },
          "execution_count": 55
        }
      ]
    },
    {
      "cell_type": "code",
      "metadata": {
        "id": "Tjz__aIfQOMP",
        "colab_type": "code",
        "outputId": "c155e1a3-2266-4b08-ed62-a4da77e92994",
        "colab": {
          "base_uri": "https://localhost:8080/",
          "height": 300
        }
      },
      "source": [
        "# Histogram for analyze the difference between the total enrolled and the total graduated \n",
        "men_means = list(tot_enrolled)\n",
        "women_means = list(tot_graduated)\n",
        "\n",
        "x = np.arange(len(labels)) \n",
        "width = 0.35 \n",
        "\n",
        "fig, ax = plt.subplots()\n",
        "rects1 = ax.bar(x - width/2, men_means, width, label='Enrolled', color='g')\n",
        "rects2 = ax.bar(x + width/2, women_means, width, label='Graduated', color=\"r\")\n",
        "\n",
        "ax.set_title('Total Enrolled vs Total Gratuated', fontsize=15)\n",
        "ax.set_xticks(x)\n",
        "ax.set_xticklabels(labels)\n",
        "ax.legend()"
      ],
      "execution_count": 0,
      "outputs": [
        {
          "output_type": "execute_result",
          "data": {
            "text/plain": [
              "<matplotlib.legend.Legend at 0x7fc0e215fe48>"
            ]
          },
          "metadata": {
            "tags": []
          },
          "execution_count": 56
        },
        {
          "output_type": "display_data",
          "data": {
            "image/png": "[encoded data removed]",
            "text/plain": [
              "<Figure size 432x288 with 1 Axes>"
            ]
          },
          "metadata": {
            "tags": [],
            "needs_background": "light"
          }
        }
      ]
    },
    {
      "cell_type": "code",
      "metadata": {
        "id": "_nwxTi891ZA9",
        "colab_type": "code",
        "colab": {}
      },
      "source": [
        ""
      ],
      "execution_count": 0,
      "outputs": []
    },
    {
      "cell_type": "code",
      "metadata": {
        "id": "sySm8MDU2CUZ",
        "colab_type": "code",
        "colab": {}
      },
      "source": [
        ""
      ],
      "execution_count": 0,
      "outputs": []
    },
    {
      "cell_type": "code",
      "metadata": {
        "id": "7Cy9fc6Y1ZER",
        "colab_type": "code",
        "outputId": "9163de51-cd75-476f-915f-3842b6821b2c",
        "colab": {
          "base_uri": "https://localhost:8080/",
          "height": 301
        }
      },
      "source": [
        "# Pareto chart - gender gap for enrolled student \n",
        "df = pd.DataFrame({'Enrolled-men': list(tot_stud_enrolled_men)})\n",
        "df.index = labels\n",
        "df = df.sort_values(by='Enrolled-men',ascending=False)\n",
        "df[\"cumpercentage\"] = df[\"Enrolled-men\"].cumsum()/df[\"Enrolled-men\"].sum()*100\n",
        "\n",
        "\n",
        "fig, ax = plt.subplots()\n",
        "ax.bar(df.index, df[\"Enrolled-men\"], color=\"C0\")\n",
        "ax2 = ax.twinx()\n",
        "ax2.plot(df.index, df[\"cumpercentage\"], color=\"C1\", marker=\"D\", ms=7)\n",
        "ax2.yaxis.set_major_formatter(PercentFormatter())\n",
        "ax.set_title('Student Enrolled at ISCED 8 \\n men', fontsize=15)\n",
        "ax.tick_params(axis=\"y\", colors=\"C0\")\n",
        "ax2.tick_params(axis=\"y\", colors=\"C1\")\n",
        "plt.show()"
      ],
      "execution_count": 0,
      "outputs": [
        {
          "output_type": "display_data",
          "data": {
            "image/png": "[encoded data removed]",
            "text/plain": [
              "<Figure size 432x288 with 2 Axes>"
            ]
          },
          "metadata": {
            "tags": []
          }
        }
      ]
    },
    {
      "cell_type": "code",
      "metadata": {
        "id": "7mUgxjEU1ZR-",
        "colab_type": "code",
        "outputId": "ae2173a7-8761-430a-faa1-a56a51b08e99",
        "colab": {
          "base_uri": "https://localhost:8080/",
          "height": 301
        }
      },
      "source": [
        "df = pd.DataFrame({'Enrolled-wom': list(tot_stud_enrolled_men)})\n",
        "df.index = labels\n",
        "df = df.sort_values(by='Enrolled-wom',ascending=False)\n",
        "df[\"cumpercentage\"] = df[\"Enrolled-wom\"].cumsum()/df[\"Enrolled-wom\"].sum()*100\n",
        "\n",
        "\n",
        "fig, ax = plt.subplots()\n",
        "ax.bar(df.index, df[\"Enrolled-wom\"], color=\"orange\")\n",
        "ax2 = ax.twinx()\n",
        "ax2.plot(df.index, df[\"cumpercentage\"], color=\"C1\", marker=\"D\", ms=7)\n",
        "ax2.yaxis.set_major_formatter(PercentFormatter())\n",
        "ax.set_title('Student Enrolled at ISCED 8 \\n women', fontsize=15)\n",
        "ax.tick_params(axis=\"y\", colors=\"orange\")\n",
        "ax2.tick_params(axis=\"y\", colors=\"C1\")\n",
        "plt.show()"
      ],
      "execution_count": 0,
      "outputs": [
        {
          "output_type": "display_data",
          "data": {
            "image/png": "[encoded data removed]",
            "text/plain": [
              "<Figure size 432x288 with 2 Axes>"
            ]
          },
          "metadata": {
            "tags": []
          }
        }
      ]
    },
    {
      "cell_type": "code",
      "metadata": {
        "id": "nO08wPHZ6LIq",
        "colab_type": "code",
        "colab": {}
      },
      "source": [
        ""
      ],
      "execution_count": 0,
      "outputs": []
    },
    {
      "cell_type": "code",
      "metadata": {
        "id": "-QROvWhQ8_du",
        "colab_type": "code",
        "outputId": "13b7f2a0-e882-4221-d58c-0444b815cee8",
        "colab": {
          "base_uri": "https://localhost:8080/",
          "height": 301
        }
      },
      "source": [
        "# Pareto chart - gender gap for graduated student \n",
        "df = pd.DataFrame({'Graduated-men': list(tot_stud_graduated_men)})\n",
        "df.index = labels\n",
        "df = df.sort_values(by='Graduated-men',ascending=False)\n",
        "df[\"cumpercentage\"] = df[\"Graduated-men\"].cumsum()/df[\"Graduated-men\"].sum()*100\n",
        "\n",
        "\n",
        "fig, ax = plt.subplots()\n",
        "ax.bar(df.index, df[\"Graduated-men\"], color=\"C0\")\n",
        "ax2 = ax.twinx()\n",
        "ax2.plot(df.index, df[\"cumpercentage\"], color=\"C1\", marker=\"D\", ms=7)\n",
        "ax2.yaxis.set_major_formatter(PercentFormatter())\n",
        "ax.set_title('Student Graduated at ISCED 8 \\n men', fontsize=15)\n",
        "ax.tick_params(axis=\"y\", colors=\"C0\")\n",
        "ax2.tick_params(axis=\"y\", colors=\"C1\")\n",
        "plt.show()"
      ],
      "execution_count": 0,
      "outputs": [
        {
          "output_type": "display_data",
          "data": {
            "image/png": "[encoded data removed]",
            "text/plain": [
              "<Figure size 432x288 with 2 Axes>"
            ]
          },
          "metadata": {
            "tags": []
          }
        }
      ]
    },
    {
      "cell_type": "code",
      "metadata": {
        "id": "3gh-zNzi6LWH",
        "colab_type": "code",
        "outputId": "20a30184-f7f9-4283-c57b-8c1e18bcd0d0",
        "colab": {
          "base_uri": "https://localhost:8080/",
          "height": 301
        }
      },
      "source": [
        "df = pd.DataFrame({'Graduated-wom': list(tot_stud_graduated_wom)})\n",
        "df.index = labels\n",
        "df = df.sort_values(by='Graduated-wom',ascending=False)\n",
        "df[\"cumpercentage\"] = df[\"Graduated-wom\"].cumsum()/df[\"Graduated-wom\"].sum()*100\n",
        "\n",
        "\n",
        "fig, ax = plt.subplots()\n",
        "ax.bar(df.index, df[\"Graduated-wom\"], color=\"orange\")\n",
        "ax2 = ax.twinx()\n",
        "ax2.plot(df.index, df[\"cumpercentage\"], color=\"C1\", marker=\"D\", ms=7)\n",
        "ax2.yaxis.set_major_formatter(PercentFormatter())\n",
        "ax.set_title('Student Graduated at ISCED 8 \\n women', fontsize=15)\n",
        "ax.tick_params(axis=\"y\", colors=\"orange\")\n",
        "ax2.tick_params(axis=\"y\", colors=\"C1\")\n",
        "plt.show()"
      ],
      "execution_count": 0,
      "outputs": [
        {
          "output_type": "display_data",
          "data": {
            "image/png": "[encoded data removed]",
            "text/plain": [
              "<Figure size 432x288 with 2 Axes>"
            ]
          },
          "metadata": {
            "tags": []
          }
        }
      ]
    },
    {
      "cell_type": "code",
      "metadata": {
        "id": "lGjlTEMU2A63",
        "colab_type": "code",
        "colab": {}
      },
      "source": [
        ""
      ],
      "execution_count": 0,
      "outputs": []
    },
    {
      "cell_type": "code",
      "metadata": {
        "id": "u8mSaSn8-K-t",
        "colab_type": "code",
        "colab": {}
      },
      "source": [
        ""
      ],
      "execution_count": 0,
      "outputs": []
    },
    {
      "cell_type": "code",
      "metadata": {
        "id": "y9vKTMN92BPJ",
        "colab_type": "code",
        "colab": {}
      },
      "source": [
        "# boxplot"
      ],
      "execution_count": 0,
      "outputs": []
    },
    {
      "cell_type": "code",
      "metadata": {
        "id": "g-4IDUqPRnLs",
        "colab_type": "code",
        "outputId": "d803e41f-daa2-45cb-dfc3-22fc71d4735d",
        "colab": {
          "base_uri": "https://localhost:8080/",
          "height": 609
        }
      },
      "source": [
        "plt.figure(figsize=(15, 10))\n",
        "boxplot = data.boxplot(column=['Graduates at ISCED 8 - men','Graduates at ISCED 8 - women',\n",
        "                               'Students enrolled at ISCED 8 - men', \n",
        "                               'Students enrolled at ISCED 8 - women'])\n",
        "plt.title('Total Student - ISCED 8',fontsize=15)\n",
        "boxplot\n",
        "ax.set_xticks(np.arange(4))\n",
        "\n",
        "#ax.legend()\n",
        "plt.show()"
      ],
      "execution_count": 0,
      "outputs": [
        {
          "output_type": "display_data",
          "data": {
            "image/png": "[encoded data removed]",
            "text/plain": [
              "<Figure size 1080x720 with 1 Axes>"
            ]
          },
          "metadata": {
            "tags": [],
            "needs_background": "light"
          }
        }
      ]
    },
    {
      "cell_type": "code",
      "metadata": {
        "id": "0O7e7V_kTDIn",
        "colab_type": "code",
        "colab": {}
      },
      "source": [
        "# Dendogram\n",
        "from scipy.cluster import hierarchy\n",
        "import sys\n",
        "sys.setrecursionlimit(10000)\n",
        "hcl_67=data_clean0.groupby(['Country Code'])[['Students enrolled at ISCED 8 - men','Students enrolled at ISCED 8 - women']]\n",
        "\n",
        "# Calculate the distance between each sample\n",
        "Z = hierarchy.linkage(hcl_67, 'ward')\n",
        "\n",
        "plt.figure(figsize=(25,10))\n",
        "# Plot with Custom leaves\n",
        "hierarchy.dendrogram(Z, leaf_rotation=90, leaf_font_size=8, labels=hcl_67.index)\n",
        "plt.show()"
      ],
      "execution_count": 0,
      "outputs": []
    },
    {
      "cell_type": "code",
      "metadata": {
        "id": "atrnxShxm6S1",
        "colab_type": "code",
        "colab": {}
      },
      "source": [
        ""
      ],
      "execution_count": 0,
      "outputs": []
    },
    {
      "cell_type": "code",
      "metadata": {
        "id": "q1CcwXaBSJbm",
        "colab_type": "code",
        "colab": {}
      },
      "source": [
        ""
      ],
      "execution_count": 0,
      "outputs": []
    },
    {
      "cell_type": "code",
      "metadata": {
        "id": "JAb-cWmlSJjd",
        "colab_type": "code",
        "colab": {}
      },
      "source": [
        ""
      ],
      "execution_count": 0,
      "outputs": []
    },
    {
      "cell_type": "code",
      "metadata": {
        "id": "Rn5G1UQ1P99P",
        "colab_type": "code",
        "colab": {}
      },
      "source": [
        "# scatterplot\n",
        "# take a sample of data to create a more readible plot \n",
        "# Enrolled students - men vs women \n",
        "l_enr_men = list(data['Students enrolled at ISCED 8 - men'])\n",
        "l_enr_wom = list(data['Students enrolled at ISCED 8 - women'])\n",
        "l_enr_men = list(filter(lambda a: a != 0, l_enr_men))\n",
        "l_enr_wom = list(filter(lambda a: a != 0, l_enr_wom))"
      ],
      "execution_count": 0,
      "outputs": []
    },
    {
      "cell_type": "code",
      "metadata": {
        "id": "ix3K3JGrOTnx",
        "colab_type": "code",
        "outputId": "54b35e8b-b269-4692-a376-8f9b9eb6ca1b",
        "colab": {
          "base_uri": "https://localhost:8080/",
          "height": 404
        }
      },
      "source": [
        "plt.figure(figsize=(8, 6))\n",
        "\n",
        "x = random.sample(l_enr_men, 300)\n",
        "y = random.sample(l_enr_wom, 300)\n",
        "\n",
        "area = np.pi*3\n",
        "\n",
        "plt.scatter(x, y, s=area, alpha=0.5)\n",
        "plt.title('Enrolled students at ISCED 8')\n",
        "plt.xlabel('Men')\n",
        "plt.ylabel('Women')\n",
        "plt.show()"
      ],
      "execution_count": 0,
      "outputs": [
        {
          "output_type": "display_data",
          "data": {
            "image/png": "[encoded data removed]",
            "text/plain": [
              "<Figure size 576x432 with 1 Axes>"
            ]
          },
          "metadata": {
            "tags": [],
            "needs_background": "light"
          }
        }
      ]
    },
    {
      "cell_type": "code",
      "metadata": {
        "id": "sMBv69IWy31A",
        "colab_type": "code",
        "colab": {}
      },
      "source": [
        ""
      ],
      "execution_count": 0,
      "outputs": []
    },
    {
      "cell_type": "code",
      "metadata": {
        "id": "yxwZMqGqm6Yb",
        "colab_type": "code",
        "colab": {}
      },
      "source": [
        ""
      ],
      "execution_count": 0,
      "outputs": []
    },
    {
      "cell_type": "code",
      "metadata": {
        "id": "jdXBHZl8m6fO",
        "colab_type": "code",
        "colab": {}
      },
      "source": [
        ""
      ],
      "execution_count": 0,
      "outputs": []
    },
    {
      "cell_type": "code",
      "metadata": {
        "id": "ibcGyTMBLcpr",
        "colab_type": "code",
        "outputId": "16c46db2-d2c3-4308-dc70-0fee7f3e0b9a",
        "colab": {
          "base_uri": "https://localhost:8080/",
          "height": 1000
        }
      },
      "source": [
        "raw_data = pd.read_csv('eter-export-selected.csv', sep=\";\", header = 0, encoding='utf8')\n",
        "\n",
        "\n",
        "list_country_code = ['IT', 'SE', 'NO', 'FI', 'PT', 'ES']\n",
        "raw_data = raw_data.loc[raw_data[\"Country Code\"].isin(list_country_code)]\n",
        "set(raw_data[\"Country Code\"])\n",
        "raw_data.rename(columns={'ï»¿ETER ID Year':'ETER ID Year'}, inplace=True)\n",
        "\n",
        "\n",
        "nuts_list=list(raw_data['Region of establishment (NUTS 2)'].unique())\n",
        "\n",
        "\n",
        "var_list=['Students enrolled at ISCED 8 - men',\n",
        "       'Students enrolled at ISCED 8 - women','Students enrolled ISCED 8 - gender unclassified','Students enrolled at ISCED 8 - national',\n",
        "       'Students enrolled at ISCED 8 - foreigner',\n",
        "       'Students enrolled ISCED 8-citizenship unclassified',\n",
        "       'Students enrolled at ISCED 8 - resident',\n",
        "       'Students enrolled at ISCED 8 - mobile',\n",
        "       'Students enrolled ISCED 8-mobility unclassified','Students enrolled at ISCED 8 - Generic programmes and qualifications',\n",
        "       'Students enrolled at ISCED 8 - Education',\n",
        "       'Students enrolled at ISCED 8 - Arts and Humanities',\n",
        "       'Students enrolled at ISCED 8 - Social sciences, journalism and information',\n",
        "       'Students enrolled at ISCED 8 - Business, administration and law',\n",
        "       'Students enrolled at ISCED 8 - Natural sciences, mathematics and statistics',\n",
        "       'Students enrolled at ISCED 8 - Information and Communication Technologies',\n",
        "       'Students enrolled at ISCED 8 - Engineering, manufacturing and construction',\n",
        "       'Students enrolled at ISCED 8 - Agriculture, forestry, fisheries and veterinary',\n",
        "       'Students enrolled at ISCED 8 - Health and welfare',\n",
        "       'Students enrolled at ISCED 8 - Services',\n",
        "       'Students enrolled ISCED 8 - ISCED-FoE unclassified',\n",
        "       'Total students enrolled at ISCED 8','Graduates at ISCED 8 - men',\n",
        "       'Graduates at ISCED 8 - women',\n",
        "       'Graduates at ISCED 8 - gender unclassified','Graduates at ISCED 8 - foreigner',\n",
        "       'Graduates at ISCED 8 - citizenship unclassified','Graduates at ISCED 8 - resident', 'Graduates at ISCED 8 - mobile',\n",
        "       'Graduates at ISCED 8 - mobility unclassified','Graduates at ISCED 8 - Generic programmes and qualifications',\n",
        "       'Graduates at ISCED 8 - Education',\n",
        "       'Graduates at ISCED 8 - Arts and Humanities',\n",
        "       'Graduates at ISCED 8 - Social sciences, journalism and information',\n",
        "       'Graduates at ISCED 8 - Business, administration and law',\n",
        "       'Graduates at ISCED 8 - Natural sciences, mathematics and statistics',\n",
        "       'Graduates at ISCED 8 - Information and Communication Technologies',\n",
        "       'Graduates at ISCED 8 - Engineering, manufacturing and construction',\n",
        "       'Graduates at ISCED 8 - Agriculture, forestry, fisheries and veterinary',\n",
        "       'Graduates at ISCED 8 - Health and welfare',\n",
        "       'Graduates at ISCED 8 - Services',\n",
        "       'Graduates at ISCED 8 - ISCED-FoE unclassified']\n",
        "\n",
        "year_list = list(raw_data['ETER ID Year'].unique())\n",
        "\n",
        "mean_list=[]\n",
        "\n",
        "Y = raw_data['ETER ID Year'].values\n",
        "\n",
        "for i in range(len(Y)):\n",
        "    if Y[i]=='':\n",
        "      Y[i]=2016\n",
        "    if type(Y[i]) is str and Y[i]!='':\n",
        "        Y[i] = Y[i][7:]\n",
        "        Y[i] = int(Y[i])\n",
        "\n",
        "raw_data['ETER ID Year']=Y\n",
        "\n",
        "year_list = list(raw_data['ETER ID Year'].unique())\n",
        "\n",
        "print('Computing the means')\n",
        "\n",
        "for nut in nuts_list:\n",
        "  print('nut step there are',len(nuts_list))\n",
        "  for y in year_list:\n",
        "    l=[nut,y]\n",
        "    m_data = raw_data[raw_data['Region of establishment (NUTS 2)']==nut]\n",
        "    m_data = m_data[m_data['ETER ID Year']==y]\n",
        "    for var in var_list:\n",
        "      m_datav = m_data[var]\n",
        "      m_datav = m_datav.replace(['m','a','xr','s','xc','x','c','nc'],np.nan).values\n",
        "      #m_datav = m_datav[pd.notnull(m_data)].values\n",
        "      for i in range(len(m_datav)): \n",
        "        if type(m_datav[i]) is str:\n",
        "          m_datav[i] = m_datav[i].replace(',','.')\n",
        "          m_datav[i] = float(m_datav[i])\n",
        "      #print(nut,y,var)\n",
        "      mean = m_datav.mean()\n",
        "      l.append(mean)\n",
        "    mean_list.append(l)\n",
        "\n",
        "print('creating the df')\n",
        "\n",
        "df=pd.DataFrame(mean_list,columns=['NUTS','Year']+var_list)\n",
        "print(len(nuts_list)*len(year_list))\n",
        "print(df.shape)\n",
        "df.head()"
      ],
      "execution_count": 0,
      "outputs": [
        {
          "output_type": "stream",
          "text": [
            "/usr/local/lib/python3.6/dist-packages/IPython/core/interactiveshell.py:2718: DtypeWarning: Columns (75,76,77,78) have mixed types.Specify dtype option on import or set low_memory=False.\n",
            "  interactivity=interactivity, compiler=compiler, result=result)\n"
          ],
          "name": "stderr"
        },
        {
          "output_type": "stream",
          "text": [
            "Computing the means\n",
            "nut step there are 65\n",
            "nut step there are 65\n",
            "nut step there are 65\n",
            "nut step there are 65\n",
            "nut step there are 65\n",
            "nut step there are 65\n",
            "nut step there are 65\n",
            "nut step there are 65\n",
            "nut step there are 65\n",
            "nut step there are 65\n",
            "nut step there are 65\n",
            "nut step there are 65\n",
            "nut step there are 65\n",
            "nut step there are 65\n",
            "nut step there are 65\n",
            "nut step there are 65\n",
            "nut step there are 65\n",
            "nut step there are 65\n",
            "nut step there are 65\n",
            "nut step there are 65\n",
            "nut step there are 65\n",
            "nut step there are 65\n",
            "nut step there are 65\n",
            "nut step there are 65\n",
            "nut step there are 65\n",
            "nut step there are 65\n",
            "nut step there are 65\n",
            "nut step there are 65\n",
            "nut step there are 65\n",
            "nut step there are 65\n",
            "nut step there are 65\n",
            "nut step there are 65\n",
            "nut step there are 65\n",
            "nut step there are 65\n",
            "nut step there are 65\n",
            "nut step there are 65\n",
            "nut step there are 65\n",
            "nut step there are 65\n",
            "nut step there are 65\n",
            "nut step there are 65\n",
            "nut step there are 65\n",
            "nut step there are 65\n",
            "nut step there are 65\n",
            "nut step there are 65\n",
            "nut step there are 65\n",
            "nut step there are 65\n",
            "nut step there are 65\n",
            "nut step there are 65\n",
            "nut step there are 65\n",
            "nut step there are 65\n",
            "nut step there are 65\n",
            "nut step there are 65\n",
            "nut step there are 65\n",
            "nut step there are 65\n",
            "nut step there are 65\n",
            "nut step there are 65\n",
            "nut step there are 65\n",
            "nut step there are 65\n",
            "nut step there are 65\n",
            "nut step there are 65\n",
            "nut step there are 65\n",
            "nut step there are 65\n",
            "nut step there are 65\n",
            "nut step there are 65\n",
            "nut step there are 65\n",
            "creating the df\n",
            "390\n",
            "(390, 44)\n"
          ],
          "name": "stdout"
        },
        {
          "output_type": "execute_result",
          "data": {
            "text/html": [
              "<div>\n",
              "<style scoped>\n",
              "    .dataframe tbody tr th:only-of-type {\n",
              "        vertical-align: middle;\n",
              "    }\n",
              "\n",
              "    .dataframe tbody tr th {\n",
              "        vertical-align: top;\n",
              "    }\n",
              "\n",
              "    .dataframe thead th {\n",
              "        text-align: right;\n",
              "    }\n",
              "</style>\n",
              "<table border=\"1\" class=\"dataframe\">\n",
              "  <thead>\n",
              "    <tr style=\"text-align: right;\">\n",
              "      <th></th>\n",
              "      <th>NUTS</th>\n",
              "      <th>Year</th>\n",
              "      <th>Students enrolled at ISCED 8 - men</th>\n",
              "      <th>Students enrolled at ISCED 8 - women</th>\n",
              "      <th>Students enrolled ISCED 8 - gender unclassified</th>\n",
              "      <th>Students enrolled at ISCED 8 - national</th>\n",
              "      <th>Students enrolled at ISCED 8 - foreigner</th>\n",
              "      <th>Students enrolled ISCED 8-citizenship unclassified</th>\n",
              "      <th>Students enrolled at ISCED 8 - resident</th>\n",
              "      <th>Students enrolled at ISCED 8 - mobile</th>\n",
              "      <th>Students enrolled ISCED 8-mobility unclassified</th>\n",
              "      <th>Students enrolled at ISCED 8 - Generic programmes and qualifications</th>\n",
              "      <th>Students enrolled at ISCED 8 - Education</th>\n",
              "      <th>Students enrolled at ISCED 8 - Arts and Humanities</th>\n",
              "      <th>Students enrolled at ISCED 8 - Social sciences, journalism and information</th>\n",
              "      <th>Students enrolled at ISCED 8 - Business, administration and law</th>\n",
              "      <th>Students enrolled at ISCED 8 - Natural sciences, mathematics and statistics</th>\n",
              "      <th>Students enrolled at ISCED 8 - Information and Communication Technologies</th>\n",
              "      <th>Students enrolled at ISCED 8 - Engineering, manufacturing and construction</th>\n",
              "      <th>Students enrolled at ISCED 8 - Agriculture, forestry, fisheries and veterinary</th>\n",
              "      <th>Students enrolled at ISCED 8 - Health and welfare</th>\n",
              "      <th>Students enrolled at ISCED 8 - Services</th>\n",
              "      <th>Students enrolled ISCED 8 - ISCED-FoE unclassified</th>\n",
              "      <th>Total students enrolled at ISCED 8</th>\n",
              "      <th>Graduates at ISCED 8 - men</th>\n",
              "      <th>Graduates at ISCED 8 - women</th>\n",
              "      <th>Graduates at ISCED 8 - gender unclassified</th>\n",
              "      <th>Graduates at ISCED 8 - foreigner</th>\n",
              "      <th>Graduates at ISCED 8 - citizenship unclassified</th>\n",
              "      <th>Graduates at ISCED 8 - resident</th>\n",
              "      <th>Graduates at ISCED 8 - mobile</th>\n",
              "      <th>Graduates at ISCED 8 - mobility unclassified</th>\n",
              "      <th>Graduates at ISCED 8 - Generic programmes and qualifications</th>\n",
              "      <th>Graduates at ISCED 8 - Education</th>\n",
              "      <th>Graduates at ISCED 8 - Arts and Humanities</th>\n",
              "      <th>Graduates at ISCED 8 - Social sciences, journalism and information</th>\n",
              "      <th>Graduates at ISCED 8 - Business, administration and law</th>\n",
              "      <th>Graduates at ISCED 8 - Natural sciences, mathematics and statistics</th>\n",
              "      <th>Graduates at ISCED 8 - Information and Communication Technologies</th>\n",
              "      <th>Graduates at ISCED 8 - Engineering, manufacturing and construction</th>\n",
              "      <th>Graduates at ISCED 8 - Agriculture, forestry, fisheries and veterinary</th>\n",
              "      <th>Graduates at ISCED 8 - Health and welfare</th>\n",
              "      <th>Graduates at ISCED 8 - Services</th>\n",
              "      <th>Graduates at ISCED 8 - ISCED-FoE unclassified</th>\n",
              "    </tr>\n",
              "  </thead>\n",
              "  <tbody>\n",
              "    <tr>\n",
              "      <th>0</th>\n",
              "      <td>ES61</td>\n",
              "      <td>2016</td>\n",
              "      <td>521.8</td>\n",
              "      <td>490.5</td>\n",
              "      <td>0.0</td>\n",
              "      <td>752.0</td>\n",
              "      <td>260.3</td>\n",
              "      <td>0.0</td>\n",
              "      <td>819.5</td>\n",
              "      <td>192.8</td>\n",
              "      <td>0.0</td>\n",
              "      <td>0.0</td>\n",
              "      <td>72.3</td>\n",
              "      <td>159.0</td>\n",
              "      <td>190.2</td>\n",
              "      <td>NaN</td>\n",
              "      <td>218.9</td>\n",
              "      <td>13.0</td>\n",
              "      <td>103.1</td>\n",
              "      <td>52.2</td>\n",
              "      <td>123.2</td>\n",
              "      <td>10.1</td>\n",
              "      <td>NaN</td>\n",
              "      <td>1012.3</td>\n",
              "      <td>118.6</td>\n",
              "      <td>123.5</td>\n",
              "      <td>0.0</td>\n",
              "      <td>56.2</td>\n",
              "      <td>NaN</td>\n",
              "      <td>NaN</td>\n",
              "      <td>NaN</td>\n",
              "      <td>NaN</td>\n",
              "      <td>NaN</td>\n",
              "      <td>NaN</td>\n",
              "      <td>NaN</td>\n",
              "      <td>NaN</td>\n",
              "      <td>NaN</td>\n",
              "      <td>NaN</td>\n",
              "      <td>NaN</td>\n",
              "      <td>NaN</td>\n",
              "      <td>NaN</td>\n",
              "      <td>NaN</td>\n",
              "      <td>NaN</td>\n",
              "      <td>NaN</td>\n",
              "    </tr>\n",
              "    <tr>\n",
              "      <th>1</th>\n",
              "      <td>ES61</td>\n",
              "      <td>2015</td>\n",
              "      <td>417.6</td>\n",
              "      <td>382.3</td>\n",
              "      <td>0.0</td>\n",
              "      <td>609.1</td>\n",
              "      <td>NaN</td>\n",
              "      <td>NaN</td>\n",
              "      <td>662.6</td>\n",
              "      <td>NaN</td>\n",
              "      <td>NaN</td>\n",
              "      <td>0.0</td>\n",
              "      <td>53.4</td>\n",
              "      <td>124.5</td>\n",
              "      <td>143.6</td>\n",
              "      <td>57.3</td>\n",
              "      <td>181.9</td>\n",
              "      <td>19.5</td>\n",
              "      <td>68.5</td>\n",
              "      <td>46.1</td>\n",
              "      <td>98.0</td>\n",
              "      <td>7.1</td>\n",
              "      <td>0.0</td>\n",
              "      <td>799.9</td>\n",
              "      <td>NaN</td>\n",
              "      <td>NaN</td>\n",
              "      <td>NaN</td>\n",
              "      <td>37.1</td>\n",
              "      <td>0.4</td>\n",
              "      <td>NaN</td>\n",
              "      <td>NaN</td>\n",
              "      <td>NaN</td>\n",
              "      <td>NaN</td>\n",
              "      <td>NaN</td>\n",
              "      <td>NaN</td>\n",
              "      <td>NaN</td>\n",
              "      <td>NaN</td>\n",
              "      <td>NaN</td>\n",
              "      <td>NaN</td>\n",
              "      <td>NaN</td>\n",
              "      <td>NaN</td>\n",
              "      <td>NaN</td>\n",
              "      <td>NaN</td>\n",
              "      <td>NaN</td>\n",
              "    </tr>\n",
              "    <tr>\n",
              "      <th>2</th>\n",
              "      <td>ES61</td>\n",
              "      <td>2014</td>\n",
              "      <td>271.9</td>\n",
              "      <td>260.4</td>\n",
              "      <td>0.0</td>\n",
              "      <td>409.7</td>\n",
              "      <td>122.6</td>\n",
              "      <td>0.0</td>\n",
              "      <td>NaN</td>\n",
              "      <td>NaN</td>\n",
              "      <td>NaN</td>\n",
              "      <td>0.0</td>\n",
              "      <td>37.8</td>\n",
              "      <td>106.2</td>\n",
              "      <td>75.2</td>\n",
              "      <td>36.0</td>\n",
              "      <td>105.2</td>\n",
              "      <td>7.9</td>\n",
              "      <td>65.3</td>\n",
              "      <td>14.3</td>\n",
              "      <td>79.7</td>\n",
              "      <td>4.7</td>\n",
              "      <td>0.0</td>\n",
              "      <td>532.3</td>\n",
              "      <td>75.8</td>\n",
              "      <td>NaN</td>\n",
              "      <td>NaN</td>\n",
              "      <td>32.4</td>\n",
              "      <td>0.0</td>\n",
              "      <td>NaN</td>\n",
              "      <td>NaN</td>\n",
              "      <td>NaN</td>\n",
              "      <td>NaN</td>\n",
              "      <td>NaN</td>\n",
              "      <td>NaN</td>\n",
              "      <td>NaN</td>\n",
              "      <td>NaN</td>\n",
              "      <td>NaN</td>\n",
              "      <td>NaN</td>\n",
              "      <td>NaN</td>\n",
              "      <td>NaN</td>\n",
              "      <td>NaN</td>\n",
              "      <td>NaN</td>\n",
              "      <td>NaN</td>\n",
              "    </tr>\n",
              "    <tr>\n",
              "      <th>3</th>\n",
              "      <td>ES61</td>\n",
              "      <td>2013</td>\n",
              "      <td>NaN</td>\n",
              "      <td>NaN</td>\n",
              "      <td>NaN</td>\n",
              "      <td>NaN</td>\n",
              "      <td>NaN</td>\n",
              "      <td>NaN</td>\n",
              "      <td>NaN</td>\n",
              "      <td>NaN</td>\n",
              "      <td>NaN</td>\n",
              "      <td>NaN</td>\n",
              "      <td>NaN</td>\n",
              "      <td>NaN</td>\n",
              "      <td>NaN</td>\n",
              "      <td>NaN</td>\n",
              "      <td>NaN</td>\n",
              "      <td>NaN</td>\n",
              "      <td>NaN</td>\n",
              "      <td>NaN</td>\n",
              "      <td>NaN</td>\n",
              "      <td>NaN</td>\n",
              "      <td>NaN</td>\n",
              "      <td>NaN</td>\n",
              "      <td>73.0</td>\n",
              "      <td>73.0</td>\n",
              "      <td>0.0</td>\n",
              "      <td>35.6</td>\n",
              "      <td>NaN</td>\n",
              "      <td>NaN</td>\n",
              "      <td>NaN</td>\n",
              "      <td>NaN</td>\n",
              "      <td>0.0</td>\n",
              "      <td>9.9</td>\n",
              "      <td>NaN</td>\n",
              "      <td>NaN</td>\n",
              "      <td>NaN</td>\n",
              "      <td>NaN</td>\n",
              "      <td>NaN</td>\n",
              "      <td>NaN</td>\n",
              "      <td>NaN</td>\n",
              "      <td>NaN</td>\n",
              "      <td>NaN</td>\n",
              "      <td>NaN</td>\n",
              "    </tr>\n",
              "    <tr>\n",
              "      <th>4</th>\n",
              "      <td>ES61</td>\n",
              "      <td>2012</td>\n",
              "      <td>NaN</td>\n",
              "      <td>NaN</td>\n",
              "      <td>NaN</td>\n",
              "      <td>NaN</td>\n",
              "      <td>NaN</td>\n",
              "      <td>NaN</td>\n",
              "      <td>NaN</td>\n",
              "      <td>NaN</td>\n",
              "      <td>NaN</td>\n",
              "      <td>NaN</td>\n",
              "      <td>NaN</td>\n",
              "      <td>NaN</td>\n",
              "      <td>NaN</td>\n",
              "      <td>NaN</td>\n",
              "      <td>NaN</td>\n",
              "      <td>NaN</td>\n",
              "      <td>NaN</td>\n",
              "      <td>NaN</td>\n",
              "      <td>NaN</td>\n",
              "      <td>NaN</td>\n",
              "      <td>NaN</td>\n",
              "      <td>NaN</td>\n",
              "      <td>NaN</td>\n",
              "      <td>NaN</td>\n",
              "      <td>NaN</td>\n",
              "      <td>NaN</td>\n",
              "      <td>NaN</td>\n",
              "      <td>NaN</td>\n",
              "      <td>NaN</td>\n",
              "      <td>NaN</td>\n",
              "      <td>NaN</td>\n",
              "      <td>NaN</td>\n",
              "      <td>NaN</td>\n",
              "      <td>NaN</td>\n",
              "      <td>NaN</td>\n",
              "      <td>NaN</td>\n",
              "      <td>NaN</td>\n",
              "      <td>NaN</td>\n",
              "      <td>NaN</td>\n",
              "      <td>NaN</td>\n",
              "      <td>NaN</td>\n",
              "      <td>NaN</td>\n",
              "    </tr>\n",
              "  </tbody>\n",
              "</table>\n",
              "</div>"
            ],
            "text/plain": [
              "   NUTS  ...  Graduates at ISCED 8 - ISCED-FoE unclassified\n",
              "0  ES61  ...                                            NaN\n",
              "1  ES61  ...                                            NaN\n",
              "2  ES61  ...                                            NaN\n",
              "3  ES61  ...                                            NaN\n",
              "4  ES61  ...                                            NaN\n",
              "\n",
              "[5 rows x 44 columns]"
            ]
          },
          "metadata": {
            "tags": []
          },
          "execution_count": 168
        }
      ]
    }
  ]
}