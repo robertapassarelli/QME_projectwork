{
  "nbformat": 4,
  "nbformat_minor": 0,
  "metadata": {
    "colab": {
      "name": "project-qme.ipynb",
      "provenance": [],
      "collapsed_sections": [],
      "authorship_tag": "ABX9TyNIiY3K6jBSzOUYajSCsB2u",
      "include_colab_link": true
    },
    "kernelspec": {
      "name": "python3",
      "display_name": "Python 3"
    }
  },
  "cells": [
    {
      "cell_type": "markdown",
      "metadata": {
        "id": "view-in-github",
        "colab_type": "text"
      },
      "source": [
        "<a href=\"https://colab.research.google.com/github/robertapassarelli/QME_projectwork/blob/master/project_qme.ipynb\" target=\"_parent\"><img src=\"https://colab.research.google.com/assets/colab-badge.svg\" alt=\"Open In Colab\"/></a>"
      ]
    },
    {
      "cell_type": "code",
      "metadata": {
        "id": "0OYMhFt4SMPR",
        "colab_type": "code",
        "colab": {}
      },
      "source": [
        "# Group H \n",
        "# Project work - QME "
      ],
      "execution_count": 0,
      "outputs": []
    },
    {
      "cell_type": "code",
      "metadata": {
        "id": "kDv_BTLTUwBm",
        "colab_type": "code",
        "colab": {}
      },
      "source": [
        "import pandas as pd \n",
        "import numpy as np\n",
        "import io \n",
        "from google.colab import files # to save and read the csv file \n",
        "import matplotlib.pyplot as plt"
      ],
      "execution_count": 0,
      "outputs": []
    },
    {
      "cell_type": "code",
      "metadata": {
        "id": "VLioOeWPaWgQ",
        "colab_type": "code",
        "colab": {
          "resources": {
            "http://localhost:8080/nbextensions/google.colab/files.js": {
              "data": "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",
              "ok": true,
              "headers": [
                [
                  "content-type",
                  "application/javascript"
                ]
              ],
              "status": 200,
              "status_text": ""
            }
          },
          "base_uri": "https://localhost:8080/",
          "height": 105
        },
        "outputId": "4bb942b1-d004-434c-9b57-687f6975595d"
      },
      "source": [
        "uploaded = files.upload()\n",
        "data = pd.read_csv(io.BytesIO(uploaded['eter_data.csv']), sep=\";\", header = 0, encoding='latin-1')\n",
        "data_clean = pd.read_csv(io.BytesIO(uploaded['clean_data.csv']), sep=\",\", header = 0, encoding='latin-1')\n",
        "# Dataset is now stored in a Pandas Dataframe"
      ],
      "execution_count": 61,
      "outputs": [
        {
          "output_type": "display_data",
          "data": {
            "text/html": [
              "\n",
              "     <input type=\"file\" id=\"files-0d89f9ef-fbc4-4d04-808b-48e4167daf84\" name=\"files[]\" multiple disabled />\n",
              "     <output id=\"result-0d89f9ef-fbc4-4d04-808b-48e4167daf84\">\n",
              "      Upload widget is only available when the cell has been executed in the\n",
              "      current browser session. Please rerun this cell to enable.\n",
              "      </output>\n",
              "      <script src=\"/nbextensions/google.colab/files.js\"></script> "
            ],
            "text/plain": [
              "<IPython.core.display.HTML object>"
            ]
          },
          "metadata": {
            "tags": []
          }
        },
        {
          "output_type": "stream",
          "text": [
            "Saving eter_data.csv to eter_data.csv\n",
            "Saving clean_data.csv to clean_data.csv\n"
          ],
          "name": "stdout"
        }
      ]
    },
    {
      "cell_type": "code",
      "metadata": {
        "id": "IzrXe7Ywaj-v",
        "colab_type": "code",
        "colab": {
          "base_uri": "https://localhost:8080/",
          "height": 326
        },
        "outputId": "21f3825e-3974-497d-b509-b9e87b94d60a"
      },
      "source": [
        "data.head()"
      ],
      "execution_count": 62,
      "outputs": [
        {
          "output_type": "execute_result",
          "data": {
            "text/html": [
              "<div>\n",
              "<style scoped>\n",
              "    .dataframe tbody tr th:only-of-type {\n",
              "        vertical-align: middle;\n",
              "    }\n",
              "\n",
              "    .dataframe tbody tr th {\n",
              "        vertical-align: top;\n",
              "    }\n",
              "\n",
              "    .dataframe thead th {\n",
              "        text-align: right;\n",
              "    }\n",
              "</style>\n",
              "<table border=\"1\" class=\"dataframe\">\n",
              "  <thead>\n",
              "    <tr style=\"text-align: right;\">\n",
              "      <th></th>\n",
              "      <th>ETER ID Year</th>\n",
              "      <th>ETER ID</th>\n",
              "      <th>National identifier</th>\n",
              "      <th>Institution Name</th>\n",
              "      <th>Country Code</th>\n",
              "      <th>Region of establishment (NUTS 2)</th>\n",
              "      <th>Total Current expenditure (EURO)</th>\n",
              "      <th>Basic government allocation (EURO)</th>\n",
              "      <th>Student fees funding (EURO)</th>\n",
              "      <th>Total Current revenues (EURO)</th>\n",
              "      <th>Research active institution</th>\n",
              "      <th>Students enrolled at ISCED 8 - men</th>\n",
              "      <th>Students enrolled at ISCED 8 - women</th>\n",
              "      <th>Students enrolled ISCED 8 - gender unclassified</th>\n",
              "      <th>Total students enrolled at ISCED 8</th>\n",
              "      <th>Graduates at ISCED 8 - men</th>\n",
              "      <th>Graduates at ISCED 8 - women</th>\n",
              "      <th>Total graduates at ISCED 8</th>\n",
              "      <th>R&amp;D Expenditure (EURO)</th>\n",
              "      <th>PhD intensity</th>\n",
              "    </tr>\n",
              "  </thead>\n",
              "  <tbody>\n",
              "    <tr>\n",
              "      <th>0</th>\n",
              "      <td>FI0001.2016</td>\n",
              "      <td>FI0001</td>\n",
              "      <td>FI0001</td>\n",
              "      <td>Helsingin yliopisto</td>\n",
              "      <td>FI</td>\n",
              "      <td>FI1B</td>\n",
              "      <td>657907048</td>\n",
              "      <td>412436889</td>\n",
              "      <td>a</td>\n",
              "      <td>673420595</td>\n",
              "      <td>1</td>\n",
              "      <td>1785</td>\n",
              "      <td>2892</td>\n",
              "      <td>0</td>\n",
              "      <td>4677</td>\n",
              "      <td>215</td>\n",
              "      <td>338</td>\n",
              "      <td>553</td>\n",
              "      <td>335715100</td>\n",
              "      <td>0,1013006045</td>\n",
              "    </tr>\n",
              "    <tr>\n",
              "      <th>1</th>\n",
              "      <td>FI0002.2016</td>\n",
              "      <td>FI0002</td>\n",
              "      <td>FI0002</td>\n",
              "      <td>Turun yliopisto</td>\n",
              "      <td>FI</td>\n",
              "      <td>FI1C</td>\n",
              "      <td>257287148</td>\n",
              "      <td>166998500</td>\n",
              "      <td>a</td>\n",
              "      <td>264748916</td>\n",
              "      <td>1</td>\n",
              "      <td>788</td>\n",
              "      <td>1185</td>\n",
              "      <td>0</td>\n",
              "      <td>1973</td>\n",
              "      <td>72</td>\n",
              "      <td>108</td>\n",
              "      <td>180</td>\n",
              "      <td>121880500</td>\n",
              "      <td>0,054446461</td>\n",
              "    </tr>\n",
              "    <tr>\n",
              "      <th>2</th>\n",
              "      <td>FI0003.2016</td>\n",
              "      <td>FI0003</td>\n",
              "      <td>FI0003</td>\n",
              "      <td>Åbo Akademi</td>\n",
              "      <td>FI</td>\n",
              "      <td>FI1C</td>\n",
              "      <td>99747199</td>\n",
              "      <td>60701853</td>\n",
              "      <td>a</td>\n",
              "      <td>103015362</td>\n",
              "      <td>1</td>\n",
              "      <td>332</td>\n",
              "      <td>391</td>\n",
              "      <td>0</td>\n",
              "      <td>723</td>\n",
              "      <td>36</td>\n",
              "      <td>38</td>\n",
              "      <td>74</td>\n",
              "      <td>41158600</td>\n",
              "      <td>0,0631938514</td>\n",
              "    </tr>\n",
              "    <tr>\n",
              "      <th>3</th>\n",
              "      <td>FI0004.2016</td>\n",
              "      <td>FI0004</td>\n",
              "      <td>FI0004</td>\n",
              "      <td>Oulun yliopisto</td>\n",
              "      <td>FI</td>\n",
              "      <td>FI1D</td>\n",
              "      <td>215921256</td>\n",
              "      <td>145611000</td>\n",
              "      <td>a</td>\n",
              "      <td>215939884</td>\n",
              "      <td>1</td>\n",
              "      <td>601</td>\n",
              "      <td>681</td>\n",
              "      <td>0</td>\n",
              "      <td>1282</td>\n",
              "      <td>96</td>\n",
              "      <td>103</td>\n",
              "      <td>199</td>\n",
              "      <td>119658200</td>\n",
              "      <td>0,0732155997</td>\n",
              "    </tr>\n",
              "    <tr>\n",
              "      <th>4</th>\n",
              "      <td>FI0005.2016</td>\n",
              "      <td>FI0005</td>\n",
              "      <td>FI0005</td>\n",
              "      <td>Tampereen yliopisto</td>\n",
              "      <td>FI</td>\n",
              "      <td>FI19</td>\n",
              "      <td>177860004</td>\n",
              "      <td>110029264</td>\n",
              "      <td>a</td>\n",
              "      <td>179016548</td>\n",
              "      <td>1</td>\n",
              "      <td>604</td>\n",
              "      <td>1047</td>\n",
              "      <td>0</td>\n",
              "      <td>1651</td>\n",
              "      <td>53</td>\n",
              "      <td>87</td>\n",
              "      <td>140</td>\n",
              "      <td>84259500</td>\n",
              "      <td>0,0693069307</td>\n",
              "    </tr>\n",
              "  </tbody>\n",
              "</table>\n",
              "</div>"
            ],
            "text/plain": [
              "  ETER ID Year ETER ID  ... R&D Expenditure (EURO) PhD intensity\n",
              "0  FI0001.2016  FI0001  ...              335715100  0,1013006045\n",
              "1  FI0002.2016  FI0002  ...              121880500   0,054446461\n",
              "2  FI0003.2016  FI0003  ...               41158600  0,0631938514\n",
              "3  FI0004.2016  FI0004  ...              119658200  0,0732155997\n",
              "4  FI0005.2016  FI0005  ...               84259500  0,0693069307\n",
              "\n",
              "[5 rows x 20 columns]"
            ]
          },
          "metadata": {
            "tags": []
          },
          "execution_count": 62
        }
      ]
    },
    {
      "cell_type": "code",
      "metadata": {
        "id": "WEDj2H9mhWtn",
        "colab_type": "code",
        "colab": {
          "base_uri": "https://localhost:8080/",
          "height": 343
        },
        "outputId": "0120c887-a766-4d6a-ba25-ad94b1898913"
      },
      "source": [
        "data_clean.head()"
      ],
      "execution_count": 63,
      "outputs": [
        {
          "output_type": "execute_result",
          "data": {
            "text/html": [
              "<div>\n",
              "<style scoped>\n",
              "    .dataframe tbody tr th:only-of-type {\n",
              "        vertical-align: middle;\n",
              "    }\n",
              "\n",
              "    .dataframe tbody tr th {\n",
              "        vertical-align: top;\n",
              "    }\n",
              "\n",
              "    .dataframe thead th {\n",
              "        text-align: right;\n",
              "    }\n",
              "</style>\n",
              "<table border=\"1\" class=\"dataframe\">\n",
              "  <thead>\n",
              "    <tr style=\"text-align: right;\">\n",
              "      <th></th>\n",
              "      <th>Unnamed: 0</th>\n",
              "      <th>ETER ID Year</th>\n",
              "      <th>ETER ID</th>\n",
              "      <th>National identifier</th>\n",
              "      <th>Institution Name</th>\n",
              "      <th>Country Code</th>\n",
              "      <th>Region of establishment (NUTS 2)</th>\n",
              "      <th>Total Current expenditure (EURO)</th>\n",
              "      <th>Basic government allocation (EURO)</th>\n",
              "      <th>Student fees funding (EURO)</th>\n",
              "      <th>Total Current revenues (EURO)</th>\n",
              "      <th>Research active institution</th>\n",
              "      <th>Students enrolled at ISCED 8 - men</th>\n",
              "      <th>Students enrolled at ISCED 8 - women</th>\n",
              "      <th>Students enrolled ISCED 8 - gender unclassified</th>\n",
              "      <th>Total students enrolled at ISCED 8</th>\n",
              "      <th>Graduates at ISCED 8 - men</th>\n",
              "      <th>Graduates at ISCED 8 - women</th>\n",
              "      <th>Total graduates at ISCED 8</th>\n",
              "      <th>R&amp;D Expenditure (EURO)</th>\n",
              "      <th>PhD intensity</th>\n",
              "    </tr>\n",
              "  </thead>\n",
              "  <tbody>\n",
              "    <tr>\n",
              "      <th>0</th>\n",
              "      <td>0</td>\n",
              "      <td>FI0001.2016</td>\n",
              "      <td>FI0001</td>\n",
              "      <td>FI0001</td>\n",
              "      <td>Helsingin yliopisto</td>\n",
              "      <td>FI</td>\n",
              "      <td>FI1B</td>\n",
              "      <td>657907048</td>\n",
              "      <td>412436889</td>\n",
              "      <td>NaN</td>\n",
              "      <td>673420595</td>\n",
              "      <td>1</td>\n",
              "      <td>1785.0</td>\n",
              "      <td>2892.0</td>\n",
              "      <td>0.0</td>\n",
              "      <td>4677.0</td>\n",
              "      <td>215.0</td>\n",
              "      <td>338.0</td>\n",
              "      <td>553.0</td>\n",
              "      <td>335715100</td>\n",
              "      <td>0,1013006045</td>\n",
              "    </tr>\n",
              "    <tr>\n",
              "      <th>1</th>\n",
              "      <td>1</td>\n",
              "      <td>FI0002.2016</td>\n",
              "      <td>FI0002</td>\n",
              "      <td>FI0002</td>\n",
              "      <td>Turun yliopisto</td>\n",
              "      <td>FI</td>\n",
              "      <td>FI1C</td>\n",
              "      <td>257287148</td>\n",
              "      <td>166998500</td>\n",
              "      <td>NaN</td>\n",
              "      <td>264748916</td>\n",
              "      <td>1</td>\n",
              "      <td>788.0</td>\n",
              "      <td>1185.0</td>\n",
              "      <td>0.0</td>\n",
              "      <td>1973.0</td>\n",
              "      <td>72.0</td>\n",
              "      <td>108.0</td>\n",
              "      <td>180.0</td>\n",
              "      <td>121880500</td>\n",
              "      <td>0,054446461</td>\n",
              "    </tr>\n",
              "    <tr>\n",
              "      <th>2</th>\n",
              "      <td>2</td>\n",
              "      <td>FI0003.2016</td>\n",
              "      <td>FI0003</td>\n",
              "      <td>FI0003</td>\n",
              "      <td>Ãbo Akademi</td>\n",
              "      <td>FI</td>\n",
              "      <td>FI1C</td>\n",
              "      <td>99747199</td>\n",
              "      <td>60701853</td>\n",
              "      <td>NaN</td>\n",
              "      <td>103015362</td>\n",
              "      <td>1</td>\n",
              "      <td>332.0</td>\n",
              "      <td>391.0</td>\n",
              "      <td>0.0</td>\n",
              "      <td>723.0</td>\n",
              "      <td>36.0</td>\n",
              "      <td>38.0</td>\n",
              "      <td>74.0</td>\n",
              "      <td>41158600</td>\n",
              "      <td>0,0631938514</td>\n",
              "    </tr>\n",
              "    <tr>\n",
              "      <th>3</th>\n",
              "      <td>3</td>\n",
              "      <td>FI0004.2016</td>\n",
              "      <td>FI0004</td>\n",
              "      <td>FI0004</td>\n",
              "      <td>Oulun yliopisto</td>\n",
              "      <td>FI</td>\n",
              "      <td>FI1D</td>\n",
              "      <td>215921256</td>\n",
              "      <td>145611000</td>\n",
              "      <td>NaN</td>\n",
              "      <td>215939884</td>\n",
              "      <td>1</td>\n",
              "      <td>601.0</td>\n",
              "      <td>681.0</td>\n",
              "      <td>0.0</td>\n",
              "      <td>1282.0</td>\n",
              "      <td>96.0</td>\n",
              "      <td>103.0</td>\n",
              "      <td>199.0</td>\n",
              "      <td>119658200</td>\n",
              "      <td>0,0732155997</td>\n",
              "    </tr>\n",
              "    <tr>\n",
              "      <th>4</th>\n",
              "      <td>4</td>\n",
              "      <td>FI0005.2016</td>\n",
              "      <td>FI0005</td>\n",
              "      <td>FI0005</td>\n",
              "      <td>Tampereen yliopisto</td>\n",
              "      <td>FI</td>\n",
              "      <td>FI19</td>\n",
              "      <td>177860004</td>\n",
              "      <td>110029264</td>\n",
              "      <td>NaN</td>\n",
              "      <td>179016548</td>\n",
              "      <td>1</td>\n",
              "      <td>604.0</td>\n",
              "      <td>1047.0</td>\n",
              "      <td>0.0</td>\n",
              "      <td>1651.0</td>\n",
              "      <td>53.0</td>\n",
              "      <td>87.0</td>\n",
              "      <td>140.0</td>\n",
              "      <td>84259500</td>\n",
              "      <td>0,0693069307</td>\n",
              "    </tr>\n",
              "  </tbody>\n",
              "</table>\n",
              "</div>"
            ],
            "text/plain": [
              "   Unnamed: 0 ETER ID Year  ... R&D Expenditure (EURO) PhD intensity\n",
              "0           0  FI0001.2016  ...              335715100  0,1013006045\n",
              "1           1  FI0002.2016  ...              121880500   0,054446461\n",
              "2           2  FI0003.2016  ...               41158600  0,0631938514\n",
              "3           3  FI0004.2016  ...              119658200  0,0732155997\n",
              "4           4  FI0005.2016  ...               84259500  0,0693069307\n",
              "\n",
              "[5 rows x 21 columns]"
            ]
          },
          "metadata": {
            "tags": []
          },
          "execution_count": 63
        }
      ]
    },
    {
      "cell_type": "code",
      "metadata": {
        "id": "2x7lkBYDhZZe",
        "colab_type": "code",
        "colab": {
          "base_uri": "https://localhost:8080/",
          "height": 221
        },
        "outputId": "f8857944-d8ec-4db9-b2fb-3eceb20a5555"
      },
      "source": [
        "variables = data.columns # variables choosen from ETER \n",
        "variables"
      ],
      "execution_count": 64,
      "outputs": [
        {
          "output_type": "execute_result",
          "data": {
            "text/plain": [
              "Index(['ETER ID Year', 'ETER ID', 'National identifier', 'Institution Name',\n",
              "       'Country Code', 'Region of establishment (NUTS 2)',\n",
              "       'Total Current expenditure (EURO)',\n",
              "       'Basic government allocation (EURO)', 'Student fees funding (EURO)',\n",
              "       'Total Current revenues (EURO)', 'Research active institution',\n",
              "       'Students enrolled at ISCED 8 - men',\n",
              "       'Students enrolled at ISCED 8 - women',\n",
              "       'Students enrolled ISCED 8 - gender unclassified',\n",
              "       'Total students enrolled at ISCED 8', 'Graduates at ISCED 8 - men',\n",
              "       'Graduates at ISCED 8 - women', 'Total graduates at ISCED 8',\n",
              "       'R&D Expenditure (EURO)', 'PhD intensity'],\n",
              "      dtype='object')"
            ]
          },
          "metadata": {
            "tags": []
          },
          "execution_count": 64
        }
      ]
    },
    {
      "cell_type": "code",
      "metadata": {
        "id": "GBLdq_G3lFlS",
        "colab_type": "code",
        "colab": {}
      },
      "source": [
        "data_clean.isna().values.any() # To check the presence of null values\n",
        "data_clean0 = data_clean.fillna(0) "
      ],
      "execution_count": 0,
      "outputs": []
    },
    {
      "cell_type": "code",
      "metadata": {
        "id": "k6_XqB8ZEHRL",
        "colab_type": "code",
        "colab": {
          "base_uri": "https://localhost:8080/",
          "height": 34
        },
        "outputId": "1866f0b3-fd62-43a2-c104-b9bae495640a"
      },
      "source": [
        "data_clean0.isna().values.any()"
      ],
      "execution_count": 69,
      "outputs": [
        {
          "output_type": "execute_result",
          "data": {
            "text/plain": [
              "False"
            ]
          },
          "metadata": {
            "tags": []
          },
          "execution_count": 69
        }
      ]
    },
    {
      "cell_type": "code",
      "metadata": {
        "id": "yHPCb2FUlLMo",
        "colab_type": "code",
        "colab": {
          "base_uri": "https://localhost:8080/",
          "height": 34
        },
        "outputId": "b8c299e4-ac65-44b4-bf86-cc5daa4d669f"
      },
      "source": [
        "set(data_clean0[\"Country Code\"]) # These are the contries considered \n",
        "# Finland, Norway, Sweden, Italy "
      ],
      "execution_count": 68,
      "outputs": [
        {
          "output_type": "execute_result",
          "data": {
            "text/plain": [
              "{'FI', 'IT', 'NO', 'SE'}"
            ]
          },
          "metadata": {
            "tags": []
          },
          "execution_count": 68
        }
      ]
    },
    {
      "cell_type": "code",
      "metadata": {
        "id": "mH5zjje6COa_",
        "colab_type": "code",
        "colab": {}
      },
      "source": [
        "tot_stud_enrolled_men = data_clean0.groupby(['Country Code'])['Students enrolled at ISCED 8 - men'].sum()\n",
        "tot_stud_enrolled_wom = data_clean0.groupby(['Country Code'])['Students enrolled at ISCED 8 - women'].sum()"
      ],
      "execution_count": 0,
      "outputs": []
    },
    {
      "cell_type": "code",
      "metadata": {
        "id": "NxM-ph1ENQMh",
        "colab_type": "code",
        "colab": {
          "base_uri": "https://localhost:8080/",
          "height": 119
        },
        "outputId": "6b478be9-2adb-41b2-8a31-23f7235eef2e"
      },
      "source": [
        "tot_stud_enrolled_wom"
      ],
      "execution_count": 96,
      "outputs": [
        {
          "output_type": "execute_result",
          "data": {
            "text/plain": [
              "Country Code\n",
              "FI    62533.0\n",
              "IT    99123.0\n",
              "NO    29701.0\n",
              "SE    61152.0\n",
              "Name: Students enrolled at ISCED 8 - women, dtype: float64"
            ]
          },
          "metadata": {
            "tags": []
          },
          "execution_count": 96
        }
      ]
    },
    {
      "cell_type": "code",
      "metadata": {
        "id": "l1fglfG5I8yx",
        "colab_type": "code",
        "colab": {
          "base_uri": "https://localhost:8080/",
          "height": 313
        },
        "outputId": "f823410c-ad53-408c-ed05-2fd8389d961c"
      },
      "source": [
        "labels = ['FI', 'IT', 'NO', 'SE']\n",
        "men_means = list(tot_stud_enrolled_men)\n",
        "women_means = list(tot_stud_enrolled_wom)\n",
        "\n",
        "x = np.arange(len(labels))  # the label locations\n",
        "width = 0.35  # the width of the bars\n",
        "\n",
        "fig, ax = plt.subplots()\n",
        "rects1 = ax.bar(x - width/2, men_means, width, label='Men')\n",
        "rects2 = ax.bar(x + width/2, women_means, width, label='Women')\n",
        "\n",
        "# Add some text for labels, title and custom x-axis tick labels, etc.\n",
        "ax.set_title('Student Enrolled at ISCED 8 \\n Men vs Women')\n",
        "ax.set_xticks(x)\n",
        "ax.set_xticklabels(labels)\n",
        "ax.legend()"
      ],
      "execution_count": 100,
      "outputs": [
        {
          "output_type": "execute_result",
          "data": {
            "text/plain": [
              "<matplotlib.legend.Legend at 0x7f7bb76325c0>"
            ]
          },
          "metadata": {
            "tags": []
          },
          "execution_count": 100
        },
        {
          "output_type": "display_data",
          "data": {
            "image/png": "[encoded data removed]",
            "text/plain": [
              "<Figure size 432x288 with 1 Axes>"
            ]
          },
          "metadata": {
            "tags": [],
            "needs_background": "light"
          }
        }
      ]
    },
    {
      "cell_type": "code",
      "metadata": {
        "id": "h1H9Ezk1Ojd_",
        "colab_type": "code",
        "colab": {}
      },
      "source": [
        ""
      ],
      "execution_count": 0,
      "outputs": []
    }
  ]
}