{
 "cells": [
  {
   "cell_type": "markdown",
   "metadata": {},
   "source": [
    "### Data charts, after clean the data"
   ]
  },
  {
   "cell_type": "code",
   "execution_count": 1,
   "metadata": {},
   "outputs": [],
   "source": [
    "import pandas as pd \n",
    "import numpy as np\n",
    "import io \n",
    "from collections import defaultdict\n",
    "from collections import Counter\n",
    "import matplotlib.pyplot as plt\n",
    "from matplotlib.ticker import PercentFormatter\n",
    "import random "
   ]
  },
  {
   "cell_type": "code",
   "execution_count": 2,
   "metadata": {},
   "outputs": [],
   "source": [
    "data = pd.read_csv('after_multiannual_5pc.csv')"
   ]
  },
  {
   "cell_type": "code",
   "execution_count": 3,
   "metadata": {},
   "outputs": [
    {
     "data": {
      "text/html": [
       "<div>\n",
       "<style scoped>\n",
       "    .dataframe tbody tr th:only-of-type {\n",
       "        vertical-align: middle;\n",
       "    }\n",
       "\n",
       "    .dataframe tbody tr th {\n",
       "        vertical-align: top;\n",
       "    }\n",
       "\n",
       "    .dataframe thead th {\n",
       "        text-align: right;\n",
       "    }\n",
       "</style>\n",
       "<table border=\"1\" class=\"dataframe\">\n",
       "  <thead>\n",
       "    <tr style=\"text-align: right;\">\n",
       "      <th></th>\n",
       "      <th>Unnamed: 0</th>\n",
       "      <th>ETER ID</th>\n",
       "      <th>National identifier</th>\n",
       "      <th>English Institution Name</th>\n",
       "      <th>Country Code</th>\n",
       "      <th>Region of establishment (NUTS 2)</th>\n",
       "      <th>Students enrolled at ISCED 8 - men</th>\n",
       "      <th>Students enrolled at ISCED 8 - women</th>\n",
       "      <th>Students enrolled ISCED 8 - gender unclassified</th>\n",
       "      <th>Students enrolled at ISCED 8 - national</th>\n",
       "      <th>...</th>\n",
       "      <th>Non-personnel expenditure (EURO)</th>\n",
       "      <th>Expenditure unclassified (EURO)</th>\n",
       "      <th>Total Current expenditure (EURO)</th>\n",
       "      <th>Capital expenditure (EURO)</th>\n",
       "      <th>Basic government allocation (EURO)</th>\n",
       "      <th>Total Current revenues (EURO)</th>\n",
       "      <th>Research active institution</th>\n",
       "      <th>Included in official R&amp;D statistics</th>\n",
       "      <th>R&amp;D Expenditure (EURO)</th>\n",
       "      <th>Year</th>\n",
       "    </tr>\n",
       "  </thead>\n",
       "  <tbody>\n",
       "    <tr>\n",
       "      <th>0</th>\n",
       "      <td>1178</td>\n",
       "      <td>ES0001</td>\n",
       "      <td>None</td>\n",
       "      <td>University of Almeria</td>\n",
       "      <td>ES</td>\n",
       "      <td>ES61</td>\n",
       "      <td>374</td>\n",
       "      <td>440</td>\n",
       "      <td>0</td>\n",
       "      <td>499</td>\n",
       "      <td>...</td>\n",
       "      <td>None</td>\n",
       "      <td>None</td>\n",
       "      <td>None</td>\n",
       "      <td>None</td>\n",
       "      <td>None</td>\n",
       "      <td>None</td>\n",
       "      <td>1</td>\n",
       "      <td>1</td>\n",
       "      <td>None</td>\n",
       "      <td>2016</td>\n",
       "    </tr>\n",
       "    <tr>\n",
       "      <th>1</th>\n",
       "      <td>1179</td>\n",
       "      <td>ES0002</td>\n",
       "      <td>None</td>\n",
       "      <td>University of CÃ¡diz</td>\n",
       "      <td>ES</td>\n",
       "      <td>ES61</td>\n",
       "      <td>468</td>\n",
       "      <td>403</td>\n",
       "      <td>0</td>\n",
       "      <td>679</td>\n",
       "      <td>...</td>\n",
       "      <td>None</td>\n",
       "      <td>None</td>\n",
       "      <td>None</td>\n",
       "      <td>None</td>\n",
       "      <td>None</td>\n",
       "      <td>None</td>\n",
       "      <td>1</td>\n",
       "      <td>1</td>\n",
       "      <td>None</td>\n",
       "      <td>2016</td>\n",
       "    </tr>\n",
       "    <tr>\n",
       "      <th>2</th>\n",
       "      <td>1180</td>\n",
       "      <td>ES0003</td>\n",
       "      <td>None</td>\n",
       "      <td>University of Cordoba</td>\n",
       "      <td>ES</td>\n",
       "      <td>ES61</td>\n",
       "      <td>615</td>\n",
       "      <td>640</td>\n",
       "      <td>0</td>\n",
       "      <td>893</td>\n",
       "      <td>...</td>\n",
       "      <td>None</td>\n",
       "      <td>None</td>\n",
       "      <td>None</td>\n",
       "      <td>None</td>\n",
       "      <td>None</td>\n",
       "      <td>None</td>\n",
       "      <td>1</td>\n",
       "      <td>1</td>\n",
       "      <td>None</td>\n",
       "      <td>2016</td>\n",
       "    </tr>\n",
       "    <tr>\n",
       "      <th>3</th>\n",
       "      <td>1181</td>\n",
       "      <td>ES0004</td>\n",
       "      <td>None</td>\n",
       "      <td>University of Granada</td>\n",
       "      <td>ES</td>\n",
       "      <td>ES61</td>\n",
       "      <td>1462</td>\n",
       "      <td>1267</td>\n",
       "      <td>0</td>\n",
       "      <td>1958</td>\n",
       "      <td>...</td>\n",
       "      <td>None</td>\n",
       "      <td>None</td>\n",
       "      <td>None</td>\n",
       "      <td>None</td>\n",
       "      <td>None</td>\n",
       "      <td>None</td>\n",
       "      <td>1</td>\n",
       "      <td>1</td>\n",
       "      <td>None</td>\n",
       "      <td>2016</td>\n",
       "    </tr>\n",
       "    <tr>\n",
       "      <th>4</th>\n",
       "      <td>1182</td>\n",
       "      <td>ES0005</td>\n",
       "      <td>None</td>\n",
       "      <td>University of Huelva</td>\n",
       "      <td>ES</td>\n",
       "      <td>ES61</td>\n",
       "      <td>240</td>\n",
       "      <td>180</td>\n",
       "      <td>0</td>\n",
       "      <td>303</td>\n",
       "      <td>...</td>\n",
       "      <td>None</td>\n",
       "      <td>None</td>\n",
       "      <td>None</td>\n",
       "      <td>None</td>\n",
       "      <td>None</td>\n",
       "      <td>None</td>\n",
       "      <td>1</td>\n",
       "      <td>1</td>\n",
       "      <td>None</td>\n",
       "      <td>2016</td>\n",
       "    </tr>\n",
       "  </tbody>\n",
       "</table>\n",
       "<p>5 rows × 38 columns</p>\n",
       "</div>"
      ],
      "text/plain": [
       "   Unnamed: 0 ETER ID National identifier English Institution Name  \\\n",
       "0        1178  ES0001                None    University of Almeria   \n",
       "1        1179  ES0002                None     University of CÃ¡diz   \n",
       "2        1180  ES0003                None    University of Cordoba   \n",
       "3        1181  ES0004                None    University of Granada   \n",
       "4        1182  ES0005                None     University of Huelva   \n",
       "\n",
       "  Country Code Region of establishment (NUTS 2)  \\\n",
       "0           ES                             ES61   \n",
       "1           ES                             ES61   \n",
       "2           ES                             ES61   \n",
       "3           ES                             ES61   \n",
       "4           ES                             ES61   \n",
       "\n",
       "  Students enrolled at ISCED 8 - men Students enrolled at ISCED 8 - women  \\\n",
       "0                                374                                  440   \n",
       "1                                468                                  403   \n",
       "2                                615                                  640   \n",
       "3                               1462                                 1267   \n",
       "4                                240                                  180   \n",
       "\n",
       "  Students enrolled ISCED 8 - gender unclassified  \\\n",
       "0                                               0   \n",
       "1                                               0   \n",
       "2                                               0   \n",
       "3                                               0   \n",
       "4                                               0   \n",
       "\n",
       "  Students enrolled at ISCED 8 - national  ...  \\\n",
       "0                                     499  ...   \n",
       "1                                     679  ...   \n",
       "2                                     893  ...   \n",
       "3                                    1958  ...   \n",
       "4                                     303  ...   \n",
       "\n",
       "  Non-personnel expenditure (EURO) Expenditure unclassified (EURO)  \\\n",
       "0                             None                            None   \n",
       "1                             None                            None   \n",
       "2                             None                            None   \n",
       "3                             None                            None   \n",
       "4                             None                            None   \n",
       "\n",
       "  Total Current expenditure (EURO) Capital expenditure (EURO)  \\\n",
       "0                             None                       None   \n",
       "1                             None                       None   \n",
       "2                             None                       None   \n",
       "3                             None                       None   \n",
       "4                             None                       None   \n",
       "\n",
       "  Basic government allocation (EURO) Total Current revenues (EURO)  \\\n",
       "0                               None                          None   \n",
       "1                               None                          None   \n",
       "2                               None                          None   \n",
       "3                               None                          None   \n",
       "4                               None                          None   \n",
       "\n",
       "  Research active institution Included in official R&D statistics  \\\n",
       "0                           1                                   1   \n",
       "1                           1                                   1   \n",
       "2                           1                                   1   \n",
       "3                           1                                   1   \n",
       "4                           1                                   1   \n",
       "\n",
       "  R&D Expenditure (EURO)  Year  \n",
       "0                   None  2016  \n",
       "1                   None  2016  \n",
       "2                   None  2016  \n",
       "3                   None  2016  \n",
       "4                   None  2016  \n",
       "\n",
       "[5 rows x 38 columns]"
      ]
     },
     "execution_count": 3,
     "metadata": {},
     "output_type": "execute_result"
    }
   ],
   "source": [
    "data.head()"
   ]
  },
  {
   "cell_type": "code",
   "execution_count": 4,
   "metadata": {},
   "outputs": [
    {
     "data": {
      "text/plain": [
       "Index(['Unnamed: 0', 'ETER ID', 'National identifier',\n",
       "       'English Institution Name', 'Country Code',\n",
       "       'Region of establishment (NUTS 2)',\n",
       "       'Students enrolled at ISCED 8 - men',\n",
       "       'Students enrolled at ISCED 8 - women',\n",
       "       'Students enrolled ISCED 8 - gender unclassified',\n",
       "       'Students enrolled at ISCED 8 - national',\n",
       "       'Students enrolled at ISCED 8 - foreigner',\n",
       "       'Students enrolled at ISCED 8 - resident',\n",
       "       'Students enrolled at ISCED 8 - mobile',\n",
       "       'Total students enrolled at ISCED 8', 'Graduates at ISCED 8 - men',\n",
       "       'Graduates at ISCED 8 - women',\n",
       "       'Graduates at ISCED 8 - gender unclassified',\n",
       "       'Graduates at ISCED 8 - national', 'Graduates at ISCED 8 - foreigner',\n",
       "       'Graduates at ISCED 8 - resident', 'Graduates at ISCED 8 - mobile',\n",
       "       'Total graduates at ISCED 8', 'Erasmus incoming students - ISCED 8',\n",
       "       'Erasmus outgoing students - ISCED 8', 'PhD intensity',\n",
       "       'Geographic coordinates - latitude',\n",
       "       'Geographic coordinates - longitude', 'Personnel expenditure (EURO)',\n",
       "       'Non-personnel expenditure (EURO)', 'Expenditure unclassified (EURO)',\n",
       "       'Total Current expenditure (EURO)', 'Capital expenditure (EURO)',\n",
       "       'Basic government allocation (EURO)', 'Total Current revenues (EURO)',\n",
       "       'Research active institution', 'Included in official R&D statistics',\n",
       "       'R&D Expenditure (EURO)', 'Year'],\n",
       "      dtype='object')"
      ]
     },
     "execution_count": 4,
     "metadata": {},
     "output_type": "execute_result"
    }
   ],
   "source": [
    "data.columns"
   ]
  },
  {
   "cell_type": "code",
   "execution_count": 5,
   "metadata": {},
   "outputs": [],
   "source": [
    "data = data.replace('None', '0')\n",
    "data['Students enrolled at ISCED 8 - men'] = data['Students enrolled at ISCED 8 - men'].astype(int)\n",
    "data['Students enrolled at ISCED 8 - women'] = data['Students enrolled at ISCED 8 - women'].astype(int)"
   ]
  },
  {
   "cell_type": "code",
   "execution_count": 6,
   "metadata": {},
   "outputs": [],
   "source": [
    "tot_stud_enrolled_men = data.groupby(['Country Code'])['Students enrolled at ISCED 8 - men'].sum()\n",
    "tot_stud_enrolled_wom = data.groupby(['Country Code'])['Students enrolled at ISCED 8 - women'].sum()"
   ]
  },
  {
   "cell_type": "code",
   "execution_count": 7,
   "metadata": {},
   "outputs": [
    {
     "data": {
      "text/plain": [
       "Country Code\n",
       "ES    77088\n",
       "FI    38304\n",
       "IT    66161\n",
       "NO    28027\n",
       "PT    20082\n",
       "SE    65727\n",
       "Name: Students enrolled at ISCED 8 - men, dtype: int64"
      ]
     },
     "execution_count": 7,
     "metadata": {},
     "output_type": "execute_result"
    }
   ],
   "source": [
    "tot_stud_enrolled_men"
   ]
  },
  {
   "cell_type": "code",
   "execution_count": 8,
   "metadata": {},
   "outputs": [
    {
     "data": {
      "text/plain": [
       "Country Code\n",
       "ES    75631\n",
       "FI    50855\n",
       "IT    67902\n",
       "NO    29660\n",
       "PT    20823\n",
       "SE    61128\n",
       "Name: Students enrolled at ISCED 8 - women, dtype: int64"
      ]
     },
     "execution_count": 8,
     "metadata": {},
     "output_type": "execute_result"
    }
   ],
   "source": [
    "tot_stud_enrolled_wom"
   ]
  },
  {
   "cell_type": "code",
   "execution_count": 9,
   "metadata": {},
   "outputs": [
    {
     "data": {
      "text/plain": [
       "<matplotlib.legend.Legend at 0x11d723780>"
      ]
     },
     "execution_count": 9,
     "metadata": {},
     "output_type": "execute_result"
    },
    {
     "data": {
      "image/png": "[encoded data removed]",
      "text/plain": [
       "<Figure size 432x288 with 1 Axes>"
      ]
     },
     "metadata": {
      "needs_background": "light"
     },
     "output_type": "display_data"
    }
   ],
   "source": [
    "# Histogram for the enrolled student: comparisong between men and women \n",
    "labels = ['ES', 'FI', 'IT', 'NO', 'PT', 'SE']\n",
    "men_means = list(tot_stud_enrolled_men)\n",
    "women_means = list(tot_stud_enrolled_wom)\n",
    "x = np.arange(len(labels)) \n",
    "width = 0.35 \n",
    "\n",
    "\n",
    "fig100, ax = plt.subplots()\n",
    "\n",
    "rects1 = ax.bar(x - width/2, men_means, width, label='Men')\n",
    "rects2 = ax.bar(x + width/2, women_means, width, label='Women')\n",
    "\n",
    "ax.set_title('Student Enrolled at ISCED 8 \\n Men vs Women', fontsize=15)\n",
    "\n",
    "ax.set_xticks(x)\n",
    "ax.set_xticklabels(labels)\n",
    "ax.legend()"
   ]
  },
  {
   "cell_type": "code",
   "execution_count": 10,
   "metadata": {},
   "outputs": [
    {
     "data": {
      "image/png": "[encoded data removed]",
      "text/plain": [
       "<Figure size 432x288 with 2 Axes>"
      ]
     },
     "metadata": {},
     "output_type": "display_data"
    }
   ],
   "source": [
    "# Pareto chart - gender gap for enrolled student \n",
    "df = pd.DataFrame({'Enrolled-men': list(tot_stud_enrolled_men)})\n",
    "df.index = labels\n",
    "df = df.sort_values(by='Enrolled-men',ascending=False)\n",
    "df[\"cumpercentage\"] = df[\"Enrolled-men\"].cumsum()/df[\"Enrolled-men\"].sum()*100\n",
    "\n",
    "\n",
    "fig, ax = plt.subplots()\n",
    "ax.bar(df.index, df[\"Enrolled-men\"], color=\"C0\")\n",
    "ax2 = ax.twinx()\n",
    "ax2.plot(df.index, df[\"cumpercentage\"], color=\"C1\", marker=\"D\", ms=7)\n",
    "ax2.yaxis.set_major_formatter(PercentFormatter())\n",
    "ax.set_title('Student Enrolled at ISCED 8 \\n men', fontsize=15)\n",
    "ax.tick_params(axis=\"y\", colors=\"C0\")\n",
    "ax2.tick_params(axis=\"y\", colors=\"C1\")\n",
    "plt.show()"
   ]
  },
  {
   "cell_type": "code",
   "execution_count": 11,
   "metadata": {},
   "outputs": [
    {
     "data": {
      "image/png": "[encoded data removed]",
      "text/plain": [
       "<Figure size 432x288 with 2 Axes>"
      ]
     },
     "metadata": {},
     "output_type": "display_data"
    }
   ],
   "source": [
    "df = pd.DataFrame({'Enrolled-wom': list(tot_stud_enrolled_men)})\n",
    "df.index = labels\n",
    "df = df.sort_values(by='Enrolled-wom',ascending=False)\n",
    "df[\"cumpercentage\"] = df[\"Enrolled-wom\"].cumsum()/df[\"Enrolled-wom\"].sum()*100\n",
    "\n",
    "\n",
    "fig, ax = plt.subplots()\n",
    "ax.bar(df.index, df[\"Enrolled-wom\"], color=\"orange\")\n",
    "ax2 = ax.twinx()\n",
    "ax2.plot(df.index, df[\"cumpercentage\"], color=\"C1\", marker=\"D\", ms=7)\n",
    "ax2.yaxis.set_major_formatter(PercentFormatter())\n",
    "ax.set_title('Student Enrolled at ISCED 8 \\n women', fontsize=15)\n",
    "ax.tick_params(axis=\"y\", colors=\"orange\")\n",
    "ax2.tick_params(axis=\"y\", colors=\"C1\")\n",
    "plt.show()"
   ]
  },
  {
   "cell_type": "code",
   "execution_count": 12,
   "metadata": {},
   "outputs": [],
   "source": [
    "# scatterplot\n",
    "# take a sample of data to create a more readible plot \n",
    "# Enrolled students - men vs women \n",
    "l_enr_men = list(data['Students enrolled at ISCED 8 - men'])\n",
    "l_enr_wom = list(data['Students enrolled at ISCED 8 - women'])\n",
    "l_enr_men = list(filter(lambda a: a != 0, l_enr_men))\n",
    "l_enr_wom = list(filter(lambda a: a != 0, l_enr_wom))"
   ]
  },
  {
   "cell_type": "code",
   "execution_count": 13,
   "metadata": {},
   "outputs": [
    {
     "data": {
      "image/png": "[encoded data removed]",
      "text/plain": [
       "<Figure size 576x432 with 1 Axes>"
      ]
     },
     "metadata": {
      "needs_background": "light"
     },
     "output_type": "display_data"
    }
   ],
   "source": [
    "plt.figure(figsize=(8, 6))\n",
    "\n",
    "x = random.sample(l_enr_men, 300)\n",
    "y = random.sample(l_enr_wom, 300)\n",
    "\n",
    "area = np.pi*3\n",
    "\n",
    "plt.scatter(x, y, s=area, alpha=0.5, color='red')\n",
    "plt.title('Enrolled students at ISCED 8')\n",
    "plt.xlabel('Men')\n",
    "plt.ylabel('Women')\n",
    "plt.show()"
   ]
  },
  {
   "cell_type": "code",
   "execution_count": null,
   "metadata": {},
   "outputs": [],
   "source": []
  },
  {
   "cell_type": "code",
   "execution_count": 14,
   "metadata": {},
   "outputs": [],
   "source": [
    "variables_exp = ['Total Current expenditure (EURO)', 'R&D Expenditure (EURO)']\n",
    "data[variables_exp] = data[variables_exp].apply(pd.to_numeric, errors='coerce')\n",
    "data['difference'] = data['Total Current expenditure (EURO)'] - data['R&D Expenditure (EURO)']"
   ]
  },
  {
   "cell_type": "code",
   "execution_count": 15,
   "metadata": {},
   "outputs": [],
   "source": [
    "data = data[(data['difference'] >= 0) | (data['difference'].isnull())]"
   ]
  },
  {
   "cell_type": "code",
   "execution_count": 16,
   "metadata": {},
   "outputs": [],
   "source": [
    "data['Total Current expenditure (EURO)'] = data['Total Current expenditure (EURO)'].astype(int)\n",
    "data['R&D Expenditure (EURO)'] = data['R&D Expenditure (EURO)'].astype(int)"
   ]
  },
  {
   "cell_type": "code",
   "execution_count": 17,
   "metadata": {},
   "outputs": [],
   "source": [
    "tot_exp = data.groupby(['Country Code'])['Total Current expenditure (EURO)'].sum()\n",
    "tot_rd = data.groupby(['Country Code'])['R&D Expenditure (EURO)'].sum()"
   ]
  },
  {
   "cell_type": "code",
   "execution_count": 18,
   "metadata": {},
   "outputs": [
    {
     "data": {
      "text/plain": [
       "Country Code\n",
       "ES              0\n",
       "FI    11790351535\n",
       "IT    45167809483\n",
       "NO    22669277947\n",
       "PT     2729775598\n",
       "SE    39068015791\n",
       "Name: Total Current expenditure (EURO), dtype: int64"
      ]
     },
     "execution_count": 18,
     "metadata": {},
     "output_type": "execute_result"
    }
   ],
   "source": [
    "tot_exp"
   ]
  },
  {
   "cell_type": "code",
   "execution_count": 19,
   "metadata": {},
   "outputs": [
    {
     "data": {
      "text/plain": [
       "Country Code\n",
       "ES              0\n",
       "FI     5295700490\n",
       "IT              0\n",
       "NO     4545079823\n",
       "PT              0\n",
       "SE    22736010209\n",
       "Name: R&D Expenditure (EURO), dtype: int64"
      ]
     },
     "execution_count": 19,
     "metadata": {},
     "output_type": "execute_result"
    }
   ],
   "source": [
    "tot_rd"
   ]
  },
  {
   "cell_type": "code",
   "execution_count": 20,
   "metadata": {},
   "outputs": [
    {
     "data": {
      "text/plain": [
       "<matplotlib.legend.Legend at 0x11d8eaba8>"
      ]
     },
     "execution_count": 20,
     "metadata": {},
     "output_type": "execute_result"
    },
    {
     "data": {
      "image/png": "[encoded data removed]",
      "text/plain": [
       "<Figure size 432x288 with 1 Axes>"
      ]
     },
     "metadata": {
      "needs_background": "light"
     },
     "output_type": "display_data"
    }
   ],
   "source": [
    "# Histogram for expenditure\n",
    "labels = ['ES', 'FI', 'IT', 'NO', 'PT', 'SE']\n",
    "tot_exp_means = list(tot_exp)\n",
    "tot_rd_means = list(tot_rd)\n",
    "x = np.arange(len(labels)) \n",
    "width = 0.35 \n",
    "\n",
    "fig, ax = plt.subplots()\n",
    "rects1 = ax.bar(x - width/2, tot_exp_means, width, label='Total Expenditure')\n",
    "rects2 = ax.bar(x + width/2, tot_rd_means, width, label='R&D Expenditure')\n",
    "\n",
    "ax.set_title('Total current expenditure vs R&D expenditure', fontsize=15)\n",
    "ax.set_xticks(x)\n",
    "ax.set_xticklabels(labels)\n",
    "ax.legend(loc='upper left')"
   ]
  },
  {
   "cell_type": "code",
   "execution_count": null,
   "metadata": {},
   "outputs": [],
   "source": []
  }
 ],
 "metadata": {
  "kernelspec": {
   "display_name": "Python 3",
   "language": "python",
   "name": "python3"
  },
  "language_info": {
   "codemirror_mode": {
    "name": "ipython",
    "version": 3
   },
   "file_extension": ".py",
   "mimetype": "text/x-python",
   "name": "python",
   "nbconvert_exporter": "python",
   "pygments_lexer": "ipython3",
   "version": "3.7.1"
  }
 },
 "nbformat": 4,
 "nbformat_minor": 2
}
